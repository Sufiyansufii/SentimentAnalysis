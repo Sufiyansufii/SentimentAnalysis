{
  "nbformat": 4,
  "nbformat_minor": 0,
  "metadata": {
    "kernelspec": {
      "display_name": "Python 3",
      "language": "python",
      "name": "python3"
    },
    "language_info": {
      "codemirror_mode": {
        "name": "ipython",
        "version": 3
      },
      "file_extension": ".py",
      "mimetype": "text/x-python",
      "name": "python",
      "nbconvert_exporter": "python",
      "pygments_lexer": "ipython3",
      "version": "3.7.4"
    },
    "colab": {
      "name": "twitter_proj.ipynb",
      "provenance": []
    }
  },
  "cells": [
    {
      "cell_type": "code",
      "metadata": {
        "id": "7XXfCjhvxhzP"
      },
      "source": [
        "!conda install gensim"
      ],
      "execution_count": null,
      "outputs": []
    },
    {
      "cell_type": "code",
      "metadata": {
        "id": "YWxeJfhBxhzi"
      },
      "source": [
        "# DataFrame\n",
        "import pandas as pd\n",
        "\n",
        "# Matplot\n",
        "import matplotlib.pyplot as plt\n",
        "%matplotlib inline\n",
        "\n",
        "# Scikit-learn\n",
        "from sklearn.model_selection import train_test_split\n",
        "from sklearn.preprocessing import LabelEncoder\n",
        "from sklearn.metrics import confusion_matrix, classification_report, accuracy_score\n",
        "from sklearn.manifold import TSNE\n",
        "from sklearn.feature_extraction.text import TfidfVectorizer\n",
        "# Keras\n",
        "from keras.preprocessing.text import Tokenizer\n",
        "from keras.preprocessing.sequence import pad_sequences\n",
        "from keras.models import Sequential\n",
        "from keras.layers import Activation, Dense, Dropout, Embedding, Flatten, Conv1D, MaxPooling1D, LSTM\n",
        "from keras import utils\n",
        "from keras.callbacks import ReduceLROnPlateau, EarlyStopping\n",
        "\n",
        "# nltk\n",
        "import nltk\n",
        "from nltk.corpus import stopwords\n",
        "from  nltk.stem import SnowballStemmer\n",
        "\n",
        "# Word2vec\n",
        "import gensim\n",
        "# Utility\n",
        "import re\n",
        "import numpy as np\n",
        "import os\n",
        "from collections import Counter\n",
        "import logging\n",
        "import time\n",
        "import pickle\n",
        "import itertools\n",
        "\n",
        "# Set log\n",
        "logging.basicConfig(format='%(asctime)s : %(levelname)s : %(message)s', level=logging.INFO)"
      ],
      "execution_count": null,
      "outputs": []
    },
    {
      "cell_type": "code",
      "metadata": {
        "colab": {
          "base_uri": "https://localhost:8080/"
        },
        "id": "1hYhMctVxhzm",
        "outputId": "c71a703f-95e4-4044-a856-6b54ac7247ff"
      },
      "source": [
        "nltk.download('stopwords')"
      ],
      "execution_count": null,
      "outputs": [
        {
          "output_type": "stream",
          "text": [
            "[nltk_data] Downloading package stopwords to /root/nltk_data...\n",
            "[nltk_data]   Unzipping corpora/stopwords.zip.\n"
          ],
          "name": "stdout"
        },
        {
          "output_type": "execute_result",
          "data": {
            "text/plain": [
              "True"
            ]
          },
          "metadata": {
            "tags": []
          },
          "execution_count": 3
        }
      ]
    },
    {
      "cell_type": "code",
      "metadata": {
        "colab": {
          "base_uri": "https://localhost:8080/"
        },
        "id": "ZiCQYlCbySIE",
        "outputId": "e1e61418-905a-418a-f3b2-b41f0d2714df"
      },
      "source": [
        "from google.colab import drive\n",
        "drive.mount('/content/drive')"
      ],
      "execution_count": null,
      "outputs": [
        {
          "output_type": "stream",
          "text": [
            "Mounted at /content/drive\n"
          ],
          "name": "stdout"
        }
      ]
    },
    {
      "cell_type": "code",
      "metadata": {
        "id": "s5DnM5fxxhzn"
      },
      "source": [
        "# DATASET\n",
        "DATASET_COLUMNS = [\"target\", \"ids\", \"date\", \"flag\", \"user\", \"text\"]\n",
        "DATASET_ENCODING = \"ISO-8859-1\"\n",
        "TRAIN_SIZE = 0.8\n",
        "\n",
        "# TEXT CLENAING\n",
        "TEXT_CLEANING_RE = \"@\\S+|https?:\\S+|http?:\\S|[^A-Za-z0-9]+\"\n",
        "\n",
        "# WORD2VEC \n",
        "W2V_SIZE = 300\n",
        "W2V_WINDOW = 7\n",
        "W2V_EPOCH = 32\n",
        "W2V_MIN_COUNT = 10\n",
        "# KERAS\n",
        "SEQUENCE_LENGTH = 300\n",
        "EPOCHS = 8\n",
        "BATCH_SIZE = 1024\n",
        "\n",
        "# SENTIMENT\n",
        "POSITIVE = \"POSITIVE\"\n",
        "NEGATIVE = \"NEGATIVE\"\n",
        "NEUTRAL = \"NEUTRAL\"\n",
        "SENTIMENT_THRESHOLDS = (0.4, 0.7)\n",
        "\n",
        "# EXPORT\n",
        "KERAS_MODEL = \"/content/drive/MyDrive/twitter/model.h5\"\n",
        "WORD2VEC_MODEL = \"/content/drive/MyDrive/twitter/model.w2v\"\n",
        "TOKENIZER_MODEL = \"/content/drive/MyDrive/twitter/tokenizer.pkl\"\n",
        "ENCODER_MODEL = \"/content/drive/MyDrive/twitter/encoder.pkl\""
      ],
      "execution_count": null,
      "outputs": []
    },
    {
      "cell_type": "code",
      "metadata": {
        "id": "PRWMsRaWxhzo"
      },
      "source": [
        "df = pd.read_csv(\"/content/drive/MyDrive/twitter/dataset.csv\", encoding =DATASET_ENCODING , names=DATASET_COLUMNS)"
      ],
      "execution_count": null,
      "outputs": []
    },
    {
      "cell_type": "code",
      "metadata": {
        "colab": {
          "base_uri": "https://localhost:8080/"
        },
        "id": "IADvw7kExhzp",
        "outputId": "924c505a-f780-495d-fd20-027a9534a30e"
      },
      "source": [
        "print(\"Dataset size:\", len(df))"
      ],
      "execution_count": null,
      "outputs": [
        {
          "output_type": "stream",
          "text": [
            "Dataset size: 1600000\n"
          ],
          "name": "stdout"
        }
      ]
    },
    {
      "cell_type": "code",
      "metadata": {
        "colab": {
          "base_uri": "https://localhost:8080/",
          "height": 204
        },
        "id": "LLx0xXpDxhzq",
        "outputId": "d811c6b7-d6da-4466-ee47-3e50ca6219d5"
      },
      "source": [
        "df.head(5)"
      ],
      "execution_count": null,
      "outputs": [
        {
          "output_type": "execute_result",
          "data": {
            "text/html": [
              "<div>\n",
              "<style scoped>\n",
              "    .dataframe tbody tr th:only-of-type {\n",
              "        vertical-align: middle;\n",
              "    }\n",
              "\n",
              "    .dataframe tbody tr th {\n",
              "        vertical-align: top;\n",
              "    }\n",
              "\n",
              "    .dataframe thead th {\n",
              "        text-align: right;\n",
              "    }\n",
              "</style>\n",
              "<table border=\"1\" class=\"dataframe\">\n",
              "  <thead>\n",
              "    <tr style=\"text-align: right;\">\n",
              "      <th></th>\n",
              "      <th>target</th>\n",
              "      <th>ids</th>\n",
              "      <th>date</th>\n",
              "      <th>flag</th>\n",
              "      <th>user</th>\n",
              "      <th>text</th>\n",
              "    </tr>\n",
              "  </thead>\n",
              "  <tbody>\n",
              "    <tr>\n",
              "      <th>0</th>\n",
              "      <td>0</td>\n",
              "      <td>1467810369</td>\n",
              "      <td>Mon Apr 06 22:19:45 PDT 2009</td>\n",
              "      <td>NO_QUERY</td>\n",
              "      <td>_TheSpecialOne_</td>\n",
              "      <td>@switchfoot http://twitpic.com/2y1zl - Awww, t...</td>\n",
              "    </tr>\n",
              "    <tr>\n",
              "      <th>1</th>\n",
              "      <td>0</td>\n",
              "      <td>1467810672</td>\n",
              "      <td>Mon Apr 06 22:19:49 PDT 2009</td>\n",
              "      <td>NO_QUERY</td>\n",
              "      <td>scotthamilton</td>\n",
              "      <td>is upset that he can't update his Facebook by ...</td>\n",
              "    </tr>\n",
              "    <tr>\n",
              "      <th>2</th>\n",
              "      <td>0</td>\n",
              "      <td>1467810917</td>\n",
              "      <td>Mon Apr 06 22:19:53 PDT 2009</td>\n",
              "      <td>NO_QUERY</td>\n",
              "      <td>mattycus</td>\n",
              "      <td>@Kenichan I dived many times for the ball. Man...</td>\n",
              "    </tr>\n",
              "    <tr>\n",
              "      <th>3</th>\n",
              "      <td>0</td>\n",
              "      <td>1467811184</td>\n",
              "      <td>Mon Apr 06 22:19:57 PDT 2009</td>\n",
              "      <td>NO_QUERY</td>\n",
              "      <td>ElleCTF</td>\n",
              "      <td>my whole body feels itchy and like its on fire</td>\n",
              "    </tr>\n",
              "    <tr>\n",
              "      <th>4</th>\n",
              "      <td>0</td>\n",
              "      <td>1467811193</td>\n",
              "      <td>Mon Apr 06 22:19:57 PDT 2009</td>\n",
              "      <td>NO_QUERY</td>\n",
              "      <td>Karoli</td>\n",
              "      <td>@nationwideclass no, it's not behaving at all....</td>\n",
              "    </tr>\n",
              "  </tbody>\n",
              "</table>\n",
              "</div>"
            ],
            "text/plain": [
              "   target  ...                                               text\n",
              "0       0  ...  @switchfoot http://twitpic.com/2y1zl - Awww, t...\n",
              "1       0  ...  is upset that he can't update his Facebook by ...\n",
              "2       0  ...  @Kenichan I dived many times for the ball. Man...\n",
              "3       0  ...    my whole body feels itchy and like its on fire \n",
              "4       0  ...  @nationwideclass no, it's not behaving at all....\n",
              "\n",
              "[5 rows x 6 columns]"
            ]
          },
          "metadata": {
            "tags": []
          },
          "execution_count": 13
        }
      ]
    },
    {
      "cell_type": "code",
      "metadata": {
        "id": "UxE3Gryixhzr"
      },
      "source": [
        "decode_map = {0: \"NEGATIVE\", 2: \"NEUTRAL\", 4: \"POSITIVE\"}\n",
        "def decode_sentiment(label):\n",
        "    return decode_map[int(label)]"
      ],
      "execution_count": null,
      "outputs": []
    },
    {
      "cell_type": "code",
      "metadata": {
        "colab": {
          "base_uri": "https://localhost:8080/"
        },
        "id": "k-dXCcw6xhzs",
        "outputId": "2410319f-abad-4a4e-d381-160be28a2742"
      },
      "source": [
        "%%time\n",
        "df.target = df.target.apply(lambda x: decode_sentiment(x))"
      ],
      "execution_count": null,
      "outputs": [
        {
          "output_type": "stream",
          "text": [
            "CPU times: user 547 ms, sys: 2.29 ms, total: 549 ms\n",
            "Wall time: 558 ms\n"
          ],
          "name": "stdout"
        }
      ]
    },
    {
      "cell_type": "code",
      "metadata": {
        "colab": {
          "base_uri": "https://localhost:8080/",
          "height": 315
        },
        "id": "WA5hmdTCxhzt",
        "outputId": "98358edc-5f6d-4f6e-9f86-e3840c59e418"
      },
      "source": [
        "target_cnt = Counter(df.target)\n",
        "print(target_cnt)\n",
        "\n",
        "plt.figure(figsize=(8,4))\n",
        "plt.bar(target_cnt.keys(), target_cnt.values())\n",
        "plt.title(\"Dataset labels distribuition\")"
      ],
      "execution_count": null,
      "outputs": [
        {
          "output_type": "stream",
          "text": [
            "Counter({'NEGATIVE': 800000, 'POSITIVE': 800000})\n"
          ],
          "name": "stdout"
        },
        {
          "output_type": "execute_result",
          "data": {
            "text/plain": [
              "Text(0.5, 1.0, 'Dataset labels distribuition')"
            ]
          },
          "metadata": {
            "tags": []
          },
          "execution_count": 18
        },
        {
          "output_type": "display_data",
          "data": {
            "image/png": "[encoded data removed]",
            "text/plain": [
              "<Figure size 576x288 with 1 Axes>"
            ]
          },
          "metadata": {
            "tags": [],
            "needs_background": "light"
          }
        }
      ]
    },
    {
      "cell_type": "code",
      "metadata": {
        "id": "vIBEtwwPxhzt"
      },
      "source": [
        "stop_words = stopwords.words(\"english\")\n",
        "stemmer = SnowballStemmer(\"english\")"
      ],
      "execution_count": null,
      "outputs": []
    },
    {
      "cell_type": "code",
      "metadata": {
        "id": "FqTWxCuaxhzu"
      },
      "source": [
        "def preprocess(text, stem=False):\n",
        "    # Remove link,user and special characters\n",
        "    text = re.sub(TEXT_CLEANING_RE, ' ', str(text).lower()).strip()\n",
        "    tokens = []\n",
        "    for token in text.split():\n",
        "        if token not in stop_words:\n",
        "            if stem:\n",
        "                tokens.append(stemmer.stem(token))\n",
        "            else:\n",
        "                tokens.append(token)\n",
        "    return \" \".join(tokens)"
      ],
      "execution_count": null,
      "outputs": []
    },
    {
      "cell_type": "code",
      "metadata": {
        "colab": {
          "base_uri": "https://localhost:8080/"
        },
        "id": "nVoYzdrSxhzv",
        "outputId": "7b9e06db-5ce5-41b1-be56-8df59cab73f4"
      },
      "source": [
        "%%time\n",
        "df.text = df.text.apply(lambda x: preprocess(x))"
      ],
      "execution_count": null,
      "outputs": [
        {
          "output_type": "stream",
          "text": [
            "CPU times: user 56.5 s, sys: 145 ms, total: 56.6 s\n",
            "Wall time: 56.8 s\n"
          ],
          "name": "stdout"
        }
      ]
    },
    {
      "cell_type": "code",
      "metadata": {
        "colab": {
          "base_uri": "https://localhost:8080/"
        },
        "id": "e2jRUffZxhzv",
        "outputId": "c260e17d-4401-4092-af64-54c42e5ba63e"
      },
      "source": [
        "df_train, df_test = train_test_split(df, test_size=1-TRAIN_SIZE, random_state=42)\n",
        "print(\"TRAIN size:\", len(df_train))\n",
        "print(\"TEST size:\", len(df_test))"
      ],
      "execution_count": null,
      "outputs": [
        {
          "output_type": "stream",
          "text": [
            "TRAIN size: 1280000\n",
            "TEST size: 320000\n"
          ],
          "name": "stdout"
        }
      ]
    },
    {
      "cell_type": "code",
      "metadata": {
        "colab": {
          "base_uri": "https://localhost:8080/"
        },
        "id": "H-czf5HXxhzw",
        "outputId": "f338a361-d330-4a75-9929-578548e2282c"
      },
      "source": [
        "%%time\n",
        "documents = [_text.split() for _text in df_train.text] "
      ],
      "execution_count": null,
      "outputs": [
        {
          "output_type": "stream",
          "text": [
            "CPU times: user 3.8 s, sys: 271 ms, total: 4.07 s\n",
            "Wall time: 4.08 s\n"
          ],
          "name": "stdout"
        }
      ]
    },
    {
      "cell_type": "code",
      "metadata": {
        "id": "GcH7FAsvxhzx"
      },
      "source": [
        "w2v_model = gensim.models.word2vec.Word2Vec(size=W2V_SIZE, \n",
        "                                            window=W2V_WINDOW, \n",
        "                                            min_count=W2V_MIN_COUNT, \n",
        "                                            workers=8)"
      ],
      "execution_count": null,
      "outputs": []
    },
    {
      "cell_type": "code",
      "metadata": {
        "colab": {
          "base_uri": "https://localhost:8080/"
        },
        "id": "M3yuuEq3xhzx",
        "outputId": "271f9b4e-042e-4e35-c2cf-44f21b2eb82f"
      },
      "source": [
        "w2v_model.build_vocab(documents)"
      ],
      "execution_count": null,
      "outputs": [
        {
          "output_type": "stream",
          "text": [
            "2021-03-12 12:50:56,101 : INFO : collecting all words and their counts\n",
            "2021-03-12 12:50:56,103 : INFO : PROGRESS: at sentence #0, processed 0 words, keeping 0 word types\n",
            "2021-03-12 12:50:56,143 : INFO : PROGRESS: at sentence #10000, processed 72565 words, keeping 14005 word types\n",
            "2021-03-12 12:50:56,168 : INFO : PROGRESS: at sentence #20000, processed 144393 words, keeping 21587 word types\n",
            "2021-03-12 12:50:56,200 : INFO : PROGRESS: at sentence #30000, processed 215826 words, keeping 27541 word types\n",
            "2021-03-12 12:50:56,229 : INFO : PROGRESS: at sentence #40000, processed 288271 words, keeping 32764 word types\n",
            "2021-03-12 12:50:56,257 : INFO : PROGRESS: at sentence #50000, processed 359772 words, keeping 37587 word types\n",
            "2021-03-12 12:50:56,286 : INFO : PROGRESS: at sentence #60000, processed 431431 words, keeping 42198 word types\n",
            "2021-03-12 12:50:56,317 : INFO : PROGRESS: at sentence #70000, processed 503103 words, keeping 46458 word types\n",
            "2021-03-12 12:50:56,346 : INFO : PROGRESS: at sentence #80000, processed 575709 words, keeping 50476 word types\n",
            "2021-03-12 12:50:56,376 : INFO : PROGRESS: at sentence #90000, processed 647100 words, keeping 54140 word types\n",
            "2021-03-12 12:50:56,405 : INFO : PROGRESS: at sentence #100000, processed 718681 words, keeping 57777 word types\n",
            "2021-03-12 12:50:56,441 : INFO : PROGRESS: at sentence #110000, processed 790696 words, keeping 61207 word types\n",
            "2021-03-12 12:50:56,471 : INFO : PROGRESS: at sentence #120000, processed 863134 words, keeping 64583 word types\n",
            "2021-03-12 12:50:56,504 : INFO : PROGRESS: at sentence #130000, processed 935111 words, keeping 67865 word types\n",
            "2021-03-12 12:50:56,534 : INFO : PROGRESS: at sentence #140000, processed 1006668 words, keeping 70966 word types\n",
            "2021-03-12 12:50:56,557 : INFO : PROGRESS: at sentence #150000, processed 1078512 words, keeping 74119 word types\n",
            "2021-03-12 12:50:56,590 : INFO : PROGRESS: at sentence #160000, processed 1149914 words, keeping 77187 word types\n",
            "2021-03-12 12:50:56,618 : INFO : PROGRESS: at sentence #170000, processed 1222145 words, keeping 80267 word types\n",
            "2021-03-12 12:50:56,650 : INFO : PROGRESS: at sentence #180000, processed 1294708 words, keeping 83393 word types\n",
            "2021-03-12 12:50:56,682 : INFO : PROGRESS: at sentence #190000, processed 1367608 words, keeping 86329 word types\n",
            "2021-03-12 12:50:56,715 : INFO : PROGRESS: at sentence #200000, processed 1439469 words, keeping 89103 word types\n",
            "2021-03-12 12:50:56,746 : INFO : PROGRESS: at sentence #210000, processed 1512099 words, keeping 91840 word types\n",
            "2021-03-12 12:50:56,777 : INFO : PROGRESS: at sentence #220000, processed 1584149 words, keeping 94636 word types\n",
            "2021-03-12 12:50:56,808 : INFO : PROGRESS: at sentence #230000, processed 1656354 words, keeping 97353 word types\n",
            "2021-03-12 12:50:56,841 : INFO : PROGRESS: at sentence #240000, processed 1728573 words, keeping 99975 word types\n",
            "2021-03-12 12:50:56,872 : INFO : PROGRESS: at sentence #250000, processed 1801102 words, keeping 102594 word types\n",
            "2021-03-12 12:50:56,905 : INFO : PROGRESS: at sentence #260000, processed 1873103 words, keeping 105162 word types\n",
            "2021-03-12 12:50:56,939 : INFO : PROGRESS: at sentence #270000, processed 1945245 words, keeping 107626 word types\n",
            "2021-03-12 12:50:56,973 : INFO : PROGRESS: at sentence #280000, processed 2017163 words, keeping 110141 word types\n",
            "2021-03-12 12:50:57,002 : INFO : PROGRESS: at sentence #290000, processed 2089574 words, keeping 112539 word types\n",
            "2021-03-12 12:50:57,035 : INFO : PROGRESS: at sentence #300000, processed 2160996 words, keeping 114893 word types\n",
            "2021-03-12 12:50:57,066 : INFO : PROGRESS: at sentence #310000, processed 2232913 words, keeping 117298 word types\n",
            "2021-03-12 12:50:57,100 : INFO : PROGRESS: at sentence #320000, processed 2305039 words, keeping 119693 word types\n",
            "2021-03-12 12:50:57,131 : INFO : PROGRESS: at sentence #330000, processed 2377119 words, keeping 122131 word types\n",
            "2021-03-12 12:50:57,163 : INFO : PROGRESS: at sentence #340000, processed 2449370 words, keeping 124416 word types\n",
            "2021-03-12 12:50:57,193 : INFO : PROGRESS: at sentence #350000, processed 2521564 words, keeping 126669 word types\n",
            "2021-03-12 12:50:57,223 : INFO : PROGRESS: at sentence #360000, processed 2593681 words, keeping 128912 word types\n",
            "2021-03-12 12:50:57,255 : INFO : PROGRESS: at sentence #370000, processed 2665692 words, keeping 131135 word types\n",
            "2021-03-12 12:50:57,288 : INFO : PROGRESS: at sentence #380000, processed 2737859 words, keeping 133403 word types\n",
            "2021-03-12 12:50:57,321 : INFO : PROGRESS: at sentence #390000, processed 2809848 words, keeping 135551 word types\n",
            "2021-03-12 12:50:57,357 : INFO : PROGRESS: at sentence #400000, processed 2882438 words, keeping 137742 word types\n",
            "2021-03-12 12:50:57,389 : INFO : PROGRESS: at sentence #410000, processed 2954075 words, keeping 139909 word types\n",
            "2021-03-12 12:50:57,421 : INFO : PROGRESS: at sentence #420000, processed 3026247 words, keeping 142144 word types\n",
            "2021-03-12 12:50:57,457 : INFO : PROGRESS: at sentence #430000, processed 3098659 words, keeping 144364 word types\n",
            "2021-03-12 12:50:57,489 : INFO : PROGRESS: at sentence #440000, processed 3170663 words, keeping 146439 word types\n",
            "2021-03-12 12:50:57,524 : INFO : PROGRESS: at sentence #450000, processed 3243344 words, keeping 148526 word types\n",
            "2021-03-12 12:50:57,556 : INFO : PROGRESS: at sentence #460000, processed 3315466 words, keeping 150610 word types\n",
            "2021-03-12 12:50:57,589 : INFO : PROGRESS: at sentence #470000, processed 3388295 words, keeping 152737 word types\n",
            "2021-03-12 12:50:57,621 : INFO : PROGRESS: at sentence #480000, processed 3460120 words, keeping 154757 word types\n",
            "2021-03-12 12:50:57,652 : INFO : PROGRESS: at sentence #490000, processed 3531883 words, keeping 156825 word types\n",
            "2021-03-12 12:50:57,683 : INFO : PROGRESS: at sentence #500000, processed 3604217 words, keeping 158859 word types\n",
            "2021-03-12 12:50:57,714 : INFO : PROGRESS: at sentence #510000, processed 3676427 words, keeping 160852 word types\n",
            "2021-03-12 12:50:57,747 : INFO : PROGRESS: at sentence #520000, processed 3749045 words, keeping 162863 word types\n",
            "2021-03-12 12:50:57,788 : INFO : PROGRESS: at sentence #530000, processed 3821622 words, keeping 164929 word types\n",
            "2021-03-12 12:50:57,822 : INFO : PROGRESS: at sentence #540000, processed 3893627 words, keeping 166840 word types\n",
            "2021-03-12 12:50:57,854 : INFO : PROGRESS: at sentence #550000, processed 3965477 words, keeping 168799 word types\n",
            "2021-03-12 12:50:57,890 : INFO : PROGRESS: at sentence #560000, processed 4038050 words, keeping 170802 word types\n",
            "2021-03-12 12:50:57,924 : INFO : PROGRESS: at sentence #570000, processed 4110296 words, keeping 172760 word types\n",
            "2021-03-12 12:50:57,960 : INFO : PROGRESS: at sentence #580000, processed 4182385 words, keeping 174635 word types\n",
            "2021-03-12 12:50:57,998 : INFO : PROGRESS: at sentence #590000, processed 4254632 words, keeping 176470 word types\n",
            "2021-03-12 12:50:58,032 : INFO : PROGRESS: at sentence #600000, processed 4326859 words, keeping 178350 word types\n",
            "2021-03-12 12:50:58,067 : INFO : PROGRESS: at sentence #610000, processed 4399183 words, keeping 180290 word types\n",
            "2021-03-12 12:50:58,099 : INFO : PROGRESS: at sentence #620000, processed 4471343 words, keeping 182129 word types\n",
            "2021-03-12 12:50:58,133 : INFO : PROGRESS: at sentence #630000, processed 4543286 words, keeping 184005 word types\n",
            "2021-03-12 12:50:58,168 : INFO : PROGRESS: at sentence #640000, processed 4615780 words, keeping 185835 word types\n",
            "2021-03-12 12:50:58,207 : INFO : PROGRESS: at sentence #650000, processed 4688481 words, keeping 187705 word types\n",
            "2021-03-12 12:50:58,241 : INFO : PROGRESS: at sentence #660000, processed 4760481 words, keeping 189439 word types\n",
            "2021-03-12 12:50:58,276 : INFO : PROGRESS: at sentence #670000, processed 4833024 words, keeping 191232 word types\n",
            "2021-03-12 12:50:58,311 : INFO : PROGRESS: at sentence #680000, processed 4904516 words, keeping 193177 word types\n",
            "2021-03-12 12:50:58,350 : INFO : PROGRESS: at sentence #690000, processed 4976968 words, keeping 194960 word types\n",
            "2021-03-12 12:50:58,384 : INFO : PROGRESS: at sentence #700000, processed 5049412 words, keeping 196725 word types\n",
            "2021-03-12 12:50:58,421 : INFO : PROGRESS: at sentence #710000, processed 5121976 words, keeping 198516 word types\n",
            "2021-03-12 12:50:58,460 : INFO : PROGRESS: at sentence #720000, processed 5193881 words, keeping 200325 word types\n",
            "2021-03-12 12:50:58,494 : INFO : PROGRESS: at sentence #730000, processed 5265467 words, keeping 202133 word types\n",
            "2021-03-12 12:50:58,528 : INFO : PROGRESS: at sentence #740000, processed 5337518 words, keeping 203818 word types\n",
            "2021-03-12 12:50:58,562 : INFO : PROGRESS: at sentence #750000, processed 5409321 words, keeping 205535 word types\n",
            "2021-03-12 12:50:58,598 : INFO : PROGRESS: at sentence #760000, processed 5481512 words, keeping 207282 word types\n",
            "2021-03-12 12:50:58,639 : INFO : PROGRESS: at sentence #770000, processed 5554093 words, keeping 209076 word types\n",
            "2021-03-12 12:50:58,674 : INFO : PROGRESS: at sentence #780000, processed 5625382 words, keeping 210805 word types\n",
            "2021-03-12 12:50:58,708 : INFO : PROGRESS: at sentence #790000, processed 5698066 words, keeping 212618 word types\n",
            "2021-03-12 12:50:58,743 : INFO : PROGRESS: at sentence #800000, processed 5770880 words, keeping 214374 word types\n",
            "2021-03-12 12:50:58,778 : INFO : PROGRESS: at sentence #810000, processed 5843418 words, keeping 216009 word types\n",
            "2021-03-12 12:50:58,812 : INFO : PROGRESS: at sentence #820000, processed 5915628 words, keeping 217804 word types\n",
            "2021-03-12 12:50:58,846 : INFO : PROGRESS: at sentence #830000, processed 5987499 words, keeping 219585 word types\n",
            "2021-03-12 12:50:58,879 : INFO : PROGRESS: at sentence #840000, processed 6058973 words, keeping 221344 word types\n",
            "2021-03-12 12:50:58,914 : INFO : PROGRESS: at sentence #850000, processed 6131125 words, keeping 223002 word types\n",
            "2021-03-12 12:50:58,948 : INFO : PROGRESS: at sentence #860000, processed 6202951 words, keeping 224643 word types\n",
            "2021-03-12 12:50:58,983 : INFO : PROGRESS: at sentence #870000, processed 6275461 words, keeping 226362 word types\n",
            "2021-03-12 12:50:59,016 : INFO : PROGRESS: at sentence #880000, processed 6347661 words, keeping 227986 word types\n",
            "2021-03-12 12:50:59,056 : INFO : PROGRESS: at sentence #890000, processed 6419806 words, keeping 229634 word types\n",
            "2021-03-12 12:50:59,089 : INFO : PROGRESS: at sentence #900000, processed 6491644 words, keeping 231389 word types\n",
            "2021-03-12 12:50:59,123 : INFO : PROGRESS: at sentence #910000, processed 6564022 words, keeping 233050 word types\n",
            "2021-03-12 12:50:59,157 : INFO : PROGRESS: at sentence #920000, processed 6636228 words, keeping 234686 word types\n",
            "2021-03-12 12:50:59,188 : INFO : PROGRESS: at sentence #930000, processed 6708573 words, keeping 236393 word types\n",
            "2021-03-12 12:50:59,218 : INFO : PROGRESS: at sentence #940000, processed 6779956 words, keeping 238052 word types\n",
            "2021-03-12 12:50:59,252 : INFO : PROGRESS: at sentence #950000, processed 6852599 words, keeping 239716 word types\n",
            "2021-03-12 12:50:59,287 : INFO : PROGRESS: at sentence #960000, processed 6924717 words, keeping 241354 word types\n",
            "2021-03-12 12:50:59,321 : INFO : PROGRESS: at sentence #970000, processed 6996992 words, keeping 242980 word types\n",
            "2021-03-12 12:50:59,355 : INFO : PROGRESS: at sentence #980000, processed 7068402 words, keeping 244646 word types\n",
            "2021-03-12 12:50:59,392 : INFO : PROGRESS: at sentence #990000, processed 7140346 words, keeping 246186 word types\n",
            "2021-03-12 12:50:59,426 : INFO : PROGRESS: at sentence #1000000, processed 7211757 words, keeping 247726 word types\n",
            "2021-03-12 12:50:59,469 : INFO : PROGRESS: at sentence #1010000, processed 7283267 words, keeping 249288 word types\n",
            "2021-03-12 12:50:59,500 : INFO : PROGRESS: at sentence #1020000, processed 7355299 words, keeping 250860 word types\n",
            "2021-03-12 12:50:59,533 : INFO : PROGRESS: at sentence #1030000, processed 7426918 words, keeping 252366 word types\n",
            "2021-03-12 12:50:59,567 : INFO : PROGRESS: at sentence #1040000, processed 7498815 words, keeping 253930 word types\n",
            "2021-03-12 12:50:59,601 : INFO : PROGRESS: at sentence #1050000, processed 7570499 words, keeping 255471 word types\n",
            "2021-03-12 12:50:59,635 : INFO : PROGRESS: at sentence #1060000, processed 7643251 words, keeping 257035 word types\n",
            "2021-03-12 12:50:59,668 : INFO : PROGRESS: at sentence #1070000, processed 7714721 words, keeping 258509 word types\n",
            "2021-03-12 12:50:59,700 : INFO : PROGRESS: at sentence #1080000, processed 7787371 words, keeping 260071 word types\n",
            "2021-03-12 12:50:59,733 : INFO : PROGRESS: at sentence #1090000, processed 7859336 words, keeping 261683 word types\n",
            "2021-03-12 12:50:59,767 : INFO : PROGRESS: at sentence #1100000, processed 7932029 words, keeping 263278 word types\n",
            "2021-03-12 12:50:59,800 : INFO : PROGRESS: at sentence #1110000, processed 8004146 words, keeping 264800 word types\n",
            "2021-03-12 12:50:59,831 : INFO : PROGRESS: at sentence #1120000, processed 8075880 words, keeping 266309 word types\n",
            "2021-03-12 12:50:59,867 : INFO : PROGRESS: at sentence #1130000, processed 8148163 words, keeping 267826 word types\n",
            "2021-03-12 12:50:59,901 : INFO : PROGRESS: at sentence #1140000, processed 8220487 words, keeping 269391 word types\n",
            "2021-03-12 12:50:59,933 : INFO : PROGRESS: at sentence #1150000, processed 8292498 words, keeping 270894 word types\n",
            "2021-03-12 12:50:59,965 : INFO : PROGRESS: at sentence #1160000, processed 8363838 words, keeping 272400 word types\n",
            "2021-03-12 12:50:59,998 : INFO : PROGRESS: at sentence #1170000, processed 8435510 words, keeping 273970 word types\n",
            "2021-03-12 12:51:00,033 : INFO : PROGRESS: at sentence #1180000, processed 8507795 words, keeping 275521 word types\n",
            "2021-03-12 12:51:00,065 : INFO : PROGRESS: at sentence #1190000, processed 8579080 words, keeping 277007 word types\n",
            "2021-03-12 12:51:00,097 : INFO : PROGRESS: at sentence #1200000, processed 8650606 words, keeping 278457 word types\n",
            "2021-03-12 12:51:00,132 : INFO : PROGRESS: at sentence #1210000, processed 8721893 words, keeping 279959 word types\n",
            "2021-03-12 12:51:00,167 : INFO : PROGRESS: at sentence #1220000, processed 8793795 words, keeping 281427 word types\n",
            "2021-03-12 12:51:00,209 : INFO : PROGRESS: at sentence #1230000, processed 8865726 words, keeping 282981 word types\n",
            "2021-03-12 12:51:00,247 : INFO : PROGRESS: at sentence #1240000, processed 8938173 words, keeping 284542 word types\n",
            "2021-03-12 12:51:00,292 : INFO : PROGRESS: at sentence #1250000, processed 9010842 words, keeping 286064 word types\n",
            "2021-03-12 12:51:00,331 : INFO : PROGRESS: at sentence #1260000, processed 9083261 words, keeping 287521 word types\n",
            "2021-03-12 12:51:00,371 : INFO : PROGRESS: at sentence #1270000, processed 9155616 words, keeping 288987 word types\n",
            "2021-03-12 12:51:00,408 : INFO : collected 290418 word types from a corpus of 9227204 raw words and 1280000 sentences\n",
            "2021-03-12 12:51:00,409 : INFO : Loading a fresh vocabulary\n",
            "2021-03-12 12:51:00,614 : INFO : effective_min_count=10 retains 30369 unique words (10% of original 290418, drops 260049)\n",
            "2021-03-12 12:51:00,615 : INFO : effective_min_count=10 leaves 8780739 word corpus (95% of original 9227204, drops 446465)\n",
            "2021-03-12 12:51:00,763 : INFO : deleting the raw counts dictionary of 290418 items\n",
            "2021-03-12 12:51:00,772 : INFO : sample=0.001 downsamples 45 most-common words\n",
            "2021-03-12 12:51:00,774 : INFO : downsampling leaves estimated 8222658 word corpus (93.6% of prior 8780739)\n",
            "2021-03-12 12:51:00,904 : INFO : estimated required memory for 30369 words and 300 dimensions: 88070100 bytes\n",
            "2021-03-12 12:51:00,906 : INFO : resetting layer weights\n"
          ],
          "name": "stderr"
        }
      ]
    },
    {
      "cell_type": "code",
      "metadata": {
        "colab": {
          "base_uri": "https://localhost:8080/"
        },
        "id": "DmifRZDCxhzy",
        "outputId": "36f7b3d2-aa1d-4e83-a8b6-dd64aabf99b4"
      },
      "source": [
        "words = w2v_model.wv.vocab.keys()\n",
        "vocab_size = len(words)\n",
        "print(\"Vocab size\", vocab_size)"
      ],
      "execution_count": null,
      "outputs": [
        {
          "output_type": "stream",
          "text": [
            "Vocab size 30369\n"
          ],
          "name": "stdout"
        }
      ]
    },
    {
      "cell_type": "code",
      "metadata": {
        "colab": {
          "base_uri": "https://localhost:8080/"
        },
        "id": "_0cJdg9sxhzz",
        "outputId": "3b9e66c4-f54d-4610-ae06-1875499ec65e"
      },
      "source": [
        "%%time\n",
        "w2v_model.train(documents, total_examples=len(documents), epochs=W2V_EPOCH)"
      ],
      "execution_count": null,
      "outputs": [
        {
          "output_type": "stream",
          "text": [
            "2021-03-12 12:51:20,387 : INFO : training model with 8 workers on 30369 vocabulary and 300 features, using sg=0 hs=0 sample=0.001 negative=5 window=7\n",
            "2021-03-12 12:51:21,459 : INFO : EPOCH 1 - PROGRESS: at 3.91% examples, 304776 words/s, in_qsize 16, out_qsize 6\n",
            "2021-03-12 12:51:22,495 : INFO : EPOCH 1 - PROGRESS: at 8.69% examples, 341306 words/s, in_qsize 16, out_qsize 1\n",
            "2021-03-12 12:51:23,533 : INFO : EPOCH 1 - PROGRESS: at 12.93% examples, 339178 words/s, in_qsize 13, out_qsize 7\n",
            "2021-03-12 12:51:24,549 : INFO : EPOCH 1 - PROGRESS: at 18.33% examples, 363311 words/s, in_qsize 15, out_qsize 0\n",
            "2021-03-12 12:51:25,650 : INFO : EPOCH 1 - PROGRESS: at 23.31% examples, 365266 words/s, in_qsize 13, out_qsize 2\n",
            "2021-03-12 12:51:26,676 : INFO : EPOCH 1 - PROGRESS: at 28.18% examples, 369473 words/s, in_qsize 15, out_qsize 0\n",
            "2021-03-12 12:51:27,833 : INFO : EPOCH 1 - PROGRESS: at 33.05% examples, 365912 words/s, in_qsize 14, out_qsize 3\n",
            "2021-03-12 12:51:28,844 : INFO : EPOCH 1 - PROGRESS: at 37.70% examples, 367468 words/s, in_qsize 14, out_qsize 1\n",
            "2021-03-12 12:51:29,844 : INFO : EPOCH 1 - PROGRESS: at 43.00% examples, 374765 words/s, in_qsize 14, out_qsize 0\n",
            "2021-03-12 12:51:30,880 : INFO : EPOCH 1 - PROGRESS: at 47.32% examples, 371862 words/s, in_qsize 15, out_qsize 1\n",
            "2021-03-12 12:51:31,892 : INFO : EPOCH 1 - PROGRESS: at 51.97% examples, 372314 words/s, in_qsize 12, out_qsize 3\n",
            "2021-03-12 12:51:32,936 : INFO : EPOCH 1 - PROGRESS: at 56.62% examples, 371917 words/s, in_qsize 15, out_qsize 0\n",
            "2021-03-12 12:51:33,977 : INFO : EPOCH 1 - PROGRESS: at 61.93% examples, 375543 words/s, in_qsize 15, out_qsize 0\n",
            "2021-03-12 12:51:35,045 : INFO : EPOCH 1 - PROGRESS: at 66.36% examples, 373085 words/s, in_qsize 16, out_qsize 1\n",
            "2021-03-12 12:51:36,051 : INFO : EPOCH 1 - PROGRESS: at 71.02% examples, 373574 words/s, in_qsize 15, out_qsize 0\n",
            "2021-03-12 12:51:37,082 : INFO : EPOCH 1 - PROGRESS: at 75.56% examples, 372901 words/s, in_qsize 14, out_qsize 7\n",
            "2021-03-12 12:51:38,088 : INFO : EPOCH 1 - PROGRESS: at 80.68% examples, 375354 words/s, in_qsize 15, out_qsize 0\n",
            "2021-03-12 12:51:39,093 : INFO : EPOCH 1 - PROGRESS: at 84.91% examples, 373758 words/s, in_qsize 16, out_qsize 1\n",
            "2021-03-12 12:51:40,126 : INFO : EPOCH 1 - PROGRESS: at 89.45% examples, 373151 words/s, in_qsize 13, out_qsize 2\n",
            "2021-03-12 12:51:41,151 : INFO : EPOCH 1 - PROGRESS: at 94.25% examples, 373583 words/s, in_qsize 15, out_qsize 0\n",
            "2021-03-12 12:51:42,101 : INFO : worker thread finished; awaiting finish of 7 more threads\n",
            "2021-03-12 12:51:42,105 : INFO : worker thread finished; awaiting finish of 6 more threads\n",
            "2021-03-12 12:51:42,143 : INFO : worker thread finished; awaiting finish of 5 more threads\n",
            "2021-03-12 12:51:42,149 : INFO : worker thread finished; awaiting finish of 4 more threads\n",
            "2021-03-12 12:51:42,194 : INFO : EPOCH 1 - PROGRESS: at 99.67% examples, 376190 words/s, in_qsize 3, out_qsize 1\n",
            "2021-03-12 12:51:42,199 : INFO : worker thread finished; awaiting finish of 3 more threads\n",
            "2021-03-12 12:51:42,202 : INFO : worker thread finished; awaiting finish of 2 more threads\n",
            "2021-03-12 12:51:42,206 : INFO : worker thread finished; awaiting finish of 1 more threads\n",
            "2021-03-12 12:51:42,207 : INFO : worker thread finished; awaiting finish of 0 more threads\n",
            "2021-03-12 12:51:42,208 : INFO : EPOCH - 1 : training on 9227204 raw words (8222731 effective words) took 21.8s, 377170 effective words/s\n",
            "2021-03-12 12:51:43,234 : INFO : EPOCH 2 - PROGRESS: at 3.69% examples, 298579 words/s, in_qsize 16, out_qsize 2\n",
            "2021-03-12 12:51:44,251 : INFO : EPOCH 2 - PROGRESS: at 8.47% examples, 342128 words/s, in_qsize 13, out_qsize 4\n",
            "2021-03-12 12:51:45,262 : INFO : EPOCH 2 - PROGRESS: at 13.47% examples, 363159 words/s, in_qsize 15, out_qsize 0\n",
            "2021-03-12 12:51:46,280 : INFO : EPOCH 2 - PROGRESS: at 18.00% examples, 364098 words/s, in_qsize 16, out_qsize 1\n",
            "2021-03-12 12:51:47,326 : INFO : EPOCH 2 - PROGRESS: at 22.98% examples, 369859 words/s, in_qsize 14, out_qsize 1\n",
            "2021-03-12 12:51:48,331 : INFO : EPOCH 2 - PROGRESS: at 27.86% examples, 374666 words/s, in_qsize 15, out_qsize 0\n",
            "2021-03-12 12:51:49,377 : INFO : EPOCH 2 - PROGRESS: at 32.30% examples, 370921 words/s, in_qsize 15, out_qsize 0\n",
            "2021-03-12 12:51:50,396 : INFO : EPOCH 2 - PROGRESS: at 36.72% examples, 369371 words/s, in_qsize 16, out_qsize 0\n",
            "2021-03-12 12:51:51,409 : INFO : EPOCH 2 - PROGRESS: at 41.16% examples, 368387 words/s, in_qsize 15, out_qsize 0\n",
            "2021-03-12 12:51:52,411 : INFO : EPOCH 2 - PROGRESS: at 45.59% examples, 367981 words/s, in_qsize 15, out_qsize 3\n",
            "2021-03-12 12:51:53,412 : INFO : EPOCH 2 - PROGRESS: at 50.24% examples, 369337 words/s, in_qsize 15, out_qsize 0\n",
            "2021-03-12 12:51:54,567 : INFO : EPOCH 2 - PROGRESS: at 55.21% examples, 367970 words/s, in_qsize 10, out_qsize 5\n",
            "2021-03-12 12:51:55,573 : INFO : EPOCH 2 - PROGRESS: at 60.52% examples, 372957 words/s, in_qsize 15, out_qsize 0\n",
            "2021-03-12 12:51:56,587 : INFO : EPOCH 2 - PROGRESS: at 64.95% examples, 372040 words/s, in_qsize 15, out_qsize 0\n",
            "2021-03-12 12:51:57,588 : INFO : EPOCH 2 - PROGRESS: at 69.18% examples, 370452 words/s, in_qsize 15, out_qsize 2\n",
            "2021-03-12 12:51:58,628 : INFO : EPOCH 2 - PROGRESS: at 73.94% examples, 370843 words/s, in_qsize 16, out_qsize 0\n",
            "2021-03-12 12:51:59,705 : INFO : EPOCH 2 - PROGRESS: at 78.84% examples, 370910 words/s, in_qsize 16, out_qsize 0\n",
            "2021-03-12 12:52:00,738 : INFO : EPOCH 2 - PROGRESS: at 83.83% examples, 372358 words/s, in_qsize 16, out_qsize 0\n",
            "2021-03-12 12:52:01,769 : INFO : EPOCH 2 - PROGRESS: at 88.16% examples, 370932 words/s, in_qsize 15, out_qsize 2\n",
            "2021-03-12 12:52:02,805 : INFO : EPOCH 2 - PROGRESS: at 93.37% examples, 373031 words/s, in_qsize 15, out_qsize 0\n",
            "2021-03-12 12:52:03,821 : INFO : EPOCH 2 - PROGRESS: at 97.61% examples, 371565 words/s, in_qsize 16, out_qsize 0\n",
            "2021-03-12 12:52:04,137 : INFO : worker thread finished; awaiting finish of 7 more threads\n",
            "2021-03-12 12:52:04,148 : INFO : worker thread finished; awaiting finish of 6 more threads\n",
            "2021-03-12 12:52:04,150 : INFO : worker thread finished; awaiting finish of 5 more threads\n",
            "2021-03-12 12:52:04,155 : INFO : worker thread finished; awaiting finish of 4 more threads\n",
            "2021-03-12 12:52:04,175 : INFO : worker thread finished; awaiting finish of 3 more threads\n",
            "2021-03-12 12:52:04,195 : INFO : worker thread finished; awaiting finish of 2 more threads\n",
            "2021-03-12 12:52:04,219 : INFO : worker thread finished; awaiting finish of 1 more threads\n",
            "2021-03-12 12:52:04,232 : INFO : worker thread finished; awaiting finish of 0 more threads\n",
            "2021-03-12 12:52:04,235 : INFO : EPOCH - 2 : training on 9227204 raw words (8223217 effective words) took 22.0s, 373521 effective words/s\n",
            "2021-03-12 12:52:05,294 : INFO : EPOCH 3 - PROGRESS: at 4.23% examples, 333429 words/s, in_qsize 15, out_qsize 0\n",
            "2021-03-12 12:52:06,393 : INFO : EPOCH 3 - PROGRESS: at 9.23% examples, 353742 words/s, in_qsize 15, out_qsize 0\n",
            "2021-03-12 12:52:07,462 : INFO : EPOCH 3 - PROGRESS: at 14.11% examples, 360848 words/s, in_qsize 15, out_qsize 0\n",
            "2021-03-12 12:52:08,480 : INFO : EPOCH 3 - PROGRESS: at 18.87% examples, 367932 words/s, in_qsize 14, out_qsize 3\n",
            "2021-03-12 12:52:09,523 : INFO : EPOCH 3 - PROGRESS: at 23.84% examples, 371817 words/s, in_qsize 15, out_qsize 0\n",
            "2021-03-12 12:52:10,627 : INFO : EPOCH 3 - PROGRESS: at 28.72% examples, 370320 words/s, in_qsize 16, out_qsize 1\n",
            "2021-03-12 12:52:11,644 : INFO : EPOCH 3 - PROGRESS: at 33.48% examples, 372368 words/s, in_qsize 15, out_qsize 0\n",
            "2021-03-12 12:52:12,669 : INFO : EPOCH 3 - PROGRESS: at 38.25% examples, 373592 words/s, in_qsize 15, out_qsize 2\n",
            "2021-03-12 12:52:13,681 : INFO : EPOCH 3 - PROGRESS: at 43.11% examples, 375995 words/s, in_qsize 16, out_qsize 0\n",
            "2021-03-12 12:52:14,690 : INFO : EPOCH 3 - PROGRESS: at 47.75% examples, 376333 words/s, in_qsize 12, out_qsize 0\n",
            "2021-03-12 12:52:15,736 : INFO : EPOCH 3 - PROGRESS: at 52.51% examples, 376244 words/s, in_qsize 15, out_qsize 0\n",
            "2021-03-12 12:52:16,756 : INFO : EPOCH 3 - PROGRESS: at 56.73% examples, 373337 words/s, in_qsize 15, out_qsize 1\n",
            "2021-03-12 12:52:17,789 : INFO : EPOCH 3 - PROGRESS: at 62.03% examples, 377096 words/s, in_qsize 15, out_qsize 0\n",
            "2021-03-12 12:52:18,842 : INFO : EPOCH 3 - PROGRESS: at 66.58% examples, 375491 words/s, in_qsize 16, out_qsize 1\n",
            "2021-03-12 12:52:19,914 : INFO : EPOCH 3 - PROGRESS: at 71.35% examples, 374828 words/s, in_qsize 12, out_qsize 3\n",
            "2021-03-12 12:52:20,984 : INFO : EPOCH 3 - PROGRESS: at 76.22% examples, 375067 words/s, in_qsize 15, out_qsize 4\n",
            "2021-03-12 12:52:22,019 : INFO : EPOCH 3 - PROGRESS: at 81.23% examples, 376044 words/s, in_qsize 12, out_qsize 7\n",
            "2021-03-12 12:52:23,092 : INFO : EPOCH 3 - PROGRESS: at 86.31% examples, 376822 words/s, in_qsize 15, out_qsize 3\n",
            "2021-03-12 12:52:24,103 : INFO : EPOCH 3 - PROGRESS: at 90.98% examples, 376920 words/s, in_qsize 16, out_qsize 1\n",
            "2021-03-12 12:52:25,106 : INFO : EPOCH 3 - PROGRESS: at 95.99% examples, 378421 words/s, in_qsize 15, out_qsize 0\n",
            "2021-03-12 12:52:25,755 : INFO : worker thread finished; awaiting finish of 7 more threads\n",
            "2021-03-12 12:52:25,788 : INFO : worker thread finished; awaiting finish of 6 more threads\n",
            "2021-03-12 12:52:25,791 : INFO : worker thread finished; awaiting finish of 5 more threads\n",
            "2021-03-12 12:52:25,825 : INFO : worker thread finished; awaiting finish of 4 more threads\n",
            "2021-03-12 12:52:25,850 : INFO : worker thread finished; awaiting finish of 3 more threads\n",
            "2021-03-12 12:52:25,853 : INFO : worker thread finished; awaiting finish of 2 more threads\n",
            "2021-03-12 12:52:25,867 : INFO : worker thread finished; awaiting finish of 1 more threads\n",
            "2021-03-12 12:52:25,877 : INFO : worker thread finished; awaiting finish of 0 more threads\n",
            "2021-03-12 12:52:25,878 : INFO : EPOCH - 3 : training on 9227204 raw words (8222266 effective words) took 21.6s, 380189 effective words/s\n",
            "2021-03-12 12:52:26,893 : INFO : EPOCH 4 - PROGRESS: at 3.91% examples, 320850 words/s, in_qsize 16, out_qsize 0\n",
            "2021-03-12 12:52:27,906 : INFO : EPOCH 4 - PROGRESS: at 8.80% examples, 358573 words/s, in_qsize 15, out_qsize 0\n",
            "2021-03-12 12:52:28,954 : INFO : EPOCH 4 - PROGRESS: at 13.15% examples, 352200 words/s, in_qsize 16, out_qsize 1\n",
            "2021-03-12 12:52:29,988 : INFO : EPOCH 4 - PROGRESS: at 18.11% examples, 363228 words/s, in_qsize 15, out_qsize 0\n",
            "2021-03-12 12:52:31,034 : INFO : EPOCH 4 - PROGRESS: at 22.43% examples, 358681 words/s, in_qsize 12, out_qsize 3\n",
            "2021-03-12 12:52:32,106 : INFO : EPOCH 4 - PROGRESS: at 27.31% examples, 361300 words/s, in_qsize 13, out_qsize 2\n",
            "2021-03-12 12:52:33,106 : INFO : EPOCH 4 - PROGRESS: at 31.87% examples, 363114 words/s, in_qsize 14, out_qsize 1\n",
            "2021-03-12 12:52:34,115 : INFO : EPOCH 4 - PROGRESS: at 36.94% examples, 369471 words/s, in_qsize 16, out_qsize 0\n",
            "2021-03-12 12:52:35,143 : INFO : EPOCH 4 - PROGRESS: at 41.80% examples, 371707 words/s, in_qsize 15, out_qsize 0\n",
            "2021-03-12 12:52:36,149 : INFO : EPOCH 4 - PROGRESS: at 46.13% examples, 370007 words/s, in_qsize 14, out_qsize 1\n",
            "2021-03-12 12:52:37,208 : INFO : EPOCH 4 - PROGRESS: at 50.99% examples, 370801 words/s, in_qsize 15, out_qsize 0\n",
            "2021-03-12 12:52:38,256 : INFO : EPOCH 4 - PROGRESS: at 56.40% examples, 375419 words/s, in_qsize 14, out_qsize 1\n",
            "2021-03-12 12:52:39,359 : INFO : EPOCH 4 - PROGRESS: at 61.50% examples, 375775 words/s, in_qsize 15, out_qsize 0\n",
            "2021-03-12 12:52:40,463 : INFO : EPOCH 4 - PROGRESS: at 66.36% examples, 374810 words/s, in_qsize 16, out_qsize 0\n",
            "2021-03-12 12:52:41,466 : INFO : EPOCH 4 - PROGRESS: at 70.70% examples, 373531 words/s, in_qsize 14, out_qsize 1\n",
            "2021-03-12 12:52:42,488 : INFO : EPOCH 4 - PROGRESS: at 75.35% examples, 373617 words/s, in_qsize 15, out_qsize 0\n",
            "2021-03-12 12:52:43,499 : INFO : EPOCH 4 - PROGRESS: at 79.92% examples, 373405 words/s, in_qsize 16, out_qsize 1\n",
            "2021-03-12 12:52:44,550 : INFO : EPOCH 4 - PROGRESS: at 84.48% examples, 372438 words/s, in_qsize 15, out_qsize 0\n",
            "2021-03-12 12:52:45,574 : INFO : EPOCH 4 - PROGRESS: at 89.02% examples, 372051 words/s, in_qsize 14, out_qsize 1\n",
            "2021-03-12 12:52:46,576 : INFO : EPOCH 4 - PROGRESS: at 93.81% examples, 372941 words/s, in_qsize 15, out_qsize 0\n",
            "2021-03-12 12:52:47,667 : INFO : EPOCH 4 - PROGRESS: at 98.47% examples, 371848 words/s, in_qsize 12, out_qsize 3\n",
            "2021-03-12 12:52:47,724 : INFO : worker thread finished; awaiting finish of 7 more threads\n",
            "2021-03-12 12:52:47,752 : INFO : worker thread finished; awaiting finish of 6 more threads\n",
            "2021-03-12 12:52:47,827 : INFO : worker thread finished; awaiting finish of 5 more threads\n",
            "2021-03-12 12:52:47,831 : INFO : worker thread finished; awaiting finish of 4 more threads\n",
            "2021-03-12 12:52:47,835 : INFO : worker thread finished; awaiting finish of 3 more threads\n",
            "2021-03-12 12:52:47,836 : INFO : worker thread finished; awaiting finish of 2 more threads\n",
            "2021-03-12 12:52:47,848 : INFO : worker thread finished; awaiting finish of 1 more threads\n",
            "2021-03-12 12:52:47,852 : INFO : worker thread finished; awaiting finish of 0 more threads\n",
            "2021-03-12 12:52:47,854 : INFO : EPOCH - 4 : training on 9227204 raw words (8222377 effective words) took 22.0s, 374406 effective words/s\n",
            "2021-03-12 12:52:48,877 : INFO : EPOCH 5 - PROGRESS: at 3.69% examples, 300214 words/s, in_qsize 15, out_qsize 0\n",
            "2021-03-12 12:52:49,947 : INFO : EPOCH 5 - PROGRESS: at 8.15% examples, 321508 words/s, in_qsize 14, out_qsize 1\n",
            "2021-03-12 12:52:50,953 : INFO : EPOCH 5 - PROGRESS: at 13.04% examples, 346700 words/s, in_qsize 14, out_qsize 1\n",
            "2021-03-12 12:52:52,003 : INFO : EPOCH 5 - PROGRESS: at 17.46% examples, 346855 words/s, in_qsize 14, out_qsize 1\n",
            "2021-03-12 12:52:53,015 : INFO : EPOCH 5 - PROGRESS: at 22.01% examples, 351353 words/s, in_qsize 15, out_qsize 0\n",
            "2021-03-12 12:52:54,136 : INFO : EPOCH 5 - PROGRESS: at 26.56% examples, 349989 words/s, in_qsize 15, out_qsize 3\n",
            "2021-03-12 12:52:55,128 : INFO : EPOCH 5 - PROGRESS: at 31.10% examples, 352163 words/s, in_qsize 15, out_qsize 0\n",
            "2021-03-12 12:52:56,133 : INFO : EPOCH 5 - PROGRESS: at 35.64% examples, 354617 words/s, in_qsize 15, out_qsize 0\n",
            "2021-03-12 12:52:57,147 : INFO : EPOCH 5 - PROGRESS: at 40.08% examples, 355230 words/s, in_qsize 13, out_qsize 2\n",
            "2021-03-12 12:52:58,207 : INFO : EPOCH 5 - PROGRESS: at 44.72% examples, 355855 words/s, in_qsize 14, out_qsize 3\n",
            "2021-03-12 12:52:59,237 : INFO : EPOCH 5 - PROGRESS: at 50.02% examples, 362047 words/s, in_qsize 15, out_qsize 0\n",
            "2021-03-12 12:53:00,265 : INFO : EPOCH 5 - PROGRESS: at 54.35% examples, 361130 words/s, in_qsize 15, out_qsize 6\n",
            "2021-03-12 12:53:01,302 : INFO : EPOCH 5 - PROGRESS: at 59.12% examples, 362111 words/s, in_qsize 13, out_qsize 2\n",
            "2021-03-12 12:53:02,332 : INFO : EPOCH 5 - PROGRESS: at 64.08% examples, 364657 words/s, in_qsize 16, out_qsize 0\n",
            "2021-03-12 12:53:03,340 : INFO : EPOCH 5 - PROGRESS: at 68.75% examples, 365658 words/s, in_qsize 15, out_qsize 0\n",
            "2021-03-12 12:53:04,404 : INFO : EPOCH 5 - PROGRESS: at 72.97% examples, 363147 words/s, in_qsize 13, out_qsize 2\n",
            "2021-03-12 12:53:05,509 : INFO : EPOCH 5 - PROGRESS: at 77.96% examples, 363596 words/s, in_qsize 16, out_qsize 2\n",
            "2021-03-12 12:53:06,582 : INFO : EPOCH 5 - PROGRESS: at 82.85% examples, 364169 words/s, in_qsize 12, out_qsize 3\n",
            "2021-03-12 12:53:07,635 : INFO : EPOCH 5 - PROGRESS: at 87.83% examples, 365499 words/s, in_qsize 16, out_qsize 1\n",
            "2021-03-12 12:53:08,637 : INFO : EPOCH 5 - PROGRESS: at 92.28% examples, 365417 words/s, in_qsize 14, out_qsize 2\n",
            "2021-03-12 12:53:09,671 : INFO : EPOCH 5 - PROGRESS: at 96.75% examples, 365387 words/s, in_qsize 15, out_qsize 2\n",
            "2021-03-12 12:53:10,084 : INFO : worker thread finished; awaiting finish of 7 more threads\n",
            "2021-03-12 12:53:10,107 : INFO : worker thread finished; awaiting finish of 6 more threads\n",
            "2021-03-12 12:53:10,125 : INFO : worker thread finished; awaiting finish of 5 more threads\n",
            "2021-03-12 12:53:10,133 : INFO : worker thread finished; awaiting finish of 4 more threads\n",
            "2021-03-12 12:53:10,155 : INFO : worker thread finished; awaiting finish of 3 more threads\n",
            "2021-03-12 12:53:10,189 : INFO : worker thread finished; awaiting finish of 2 more threads\n",
            "2021-03-12 12:53:10,204 : INFO : worker thread finished; awaiting finish of 1 more threads\n",
            "2021-03-12 12:53:10,210 : INFO : worker thread finished; awaiting finish of 0 more threads\n",
            "2021-03-12 12:53:10,212 : INFO : EPOCH - 5 : training on 9227204 raw words (8222595 effective words) took 22.3s, 368017 effective words/s\n",
            "2021-03-12 12:53:11,266 : INFO : EPOCH 6 - PROGRESS: at 3.91% examples, 308238 words/s, in_qsize 15, out_qsize 0\n",
            "2021-03-12 12:53:12,283 : INFO : EPOCH 6 - PROGRESS: at 8.90% examples, 355153 words/s, in_qsize 16, out_qsize 0\n",
            "2021-03-12 12:53:13,286 : INFO : EPOCH 6 - PROGRESS: at 13.68% examples, 366990 words/s, in_qsize 16, out_qsize 0\n",
            "2021-03-12 12:53:14,304 : INFO : EPOCH 6 - PROGRESS: at 17.89% examples, 360435 words/s, in_qsize 16, out_qsize 0\n",
            "2021-03-12 12:53:15,311 : INFO : EPOCH 6 - PROGRESS: at 22.22% examples, 359168 words/s, in_qsize 14, out_qsize 1\n",
            "2021-03-12 12:53:16,317 : INFO : EPOCH 6 - PROGRESS: at 27.20% examples, 367125 words/s, in_qsize 13, out_qsize 1\n",
            "2021-03-12 12:53:17,401 : INFO : EPOCH 6 - PROGRESS: at 31.65% examples, 362582 words/s, in_qsize 16, out_qsize 0\n",
            "2021-03-12 12:53:18,410 : INFO : EPOCH 6 - PROGRESS: at 36.40% examples, 365792 words/s, in_qsize 14, out_qsize 2\n",
            "2021-03-12 12:53:19,449 : INFO : EPOCH 6 - PROGRESS: at 40.73% examples, 363215 words/s, in_qsize 15, out_qsize 1\n",
            "2021-03-12 12:53:20,450 : INFO : EPOCH 6 - PROGRESS: at 45.48% examples, 365957 words/s, in_qsize 14, out_qsize 1\n",
            "2021-03-12 12:53:21,468 : INFO : EPOCH 6 - PROGRESS: at 50.35% examples, 368486 words/s, in_qsize 16, out_qsize 0\n",
            "2021-03-12 12:53:22,482 : INFO : EPOCH 6 - PROGRESS: at 54.78% examples, 367805 words/s, in_qsize 15, out_qsize 1\n",
            "2021-03-12 12:53:23,510 : INFO : EPOCH 6 - PROGRESS: at 59.01% examples, 365516 words/s, in_qsize 15, out_qsize 0\n",
            "2021-03-12 12:53:24,527 : INFO : EPOCH 6 - PROGRESS: at 63.64% examples, 366297 words/s, in_qsize 12, out_qsize 5\n",
            "2021-03-12 12:53:25,532 : INFO : EPOCH 6 - PROGRESS: at 68.53% examples, 368451 words/s, in_qsize 15, out_qsize 0\n",
            "2021-03-12 12:53:26,553 : INFO : EPOCH 6 - PROGRESS: at 73.51% examples, 370496 words/s, in_qsize 15, out_qsize 0\n",
            "2021-03-12 12:53:27,572 : INFO : EPOCH 6 - PROGRESS: at 78.40% examples, 371831 words/s, in_qsize 14, out_qsize 1\n",
            "2021-03-12 12:53:28,585 : INFO : EPOCH 6 - PROGRESS: at 83.18% examples, 372653 words/s, in_qsize 15, out_qsize 0\n",
            "2021-03-12 12:53:29,614 : INFO : EPOCH 6 - PROGRESS: at 87.29% examples, 370319 words/s, in_qsize 15, out_qsize 0\n",
            "2021-03-12 12:53:30,621 : INFO : EPOCH 6 - PROGRESS: at 92.18% examples, 371666 words/s, in_qsize 15, out_qsize 0\n",
            "2021-03-12 12:53:31,692 : INFO : EPOCH 6 - PROGRESS: at 96.85% examples, 370970 words/s, in_qsize 15, out_qsize 0\n",
            "2021-03-12 12:53:32,253 : INFO : worker thread finished; awaiting finish of 7 more threads\n",
            "2021-03-12 12:53:32,256 : INFO : worker thread finished; awaiting finish of 6 more threads\n",
            "2021-03-12 12:53:32,271 : INFO : worker thread finished; awaiting finish of 5 more threads\n",
            "2021-03-12 12:53:32,273 : INFO : worker thread finished; awaiting finish of 4 more threads\n",
            "2021-03-12 12:53:32,276 : INFO : worker thread finished; awaiting finish of 3 more threads\n",
            "2021-03-12 12:53:32,278 : INFO : worker thread finished; awaiting finish of 2 more threads\n",
            "2021-03-12 12:53:32,287 : INFO : worker thread finished; awaiting finish of 1 more threads\n",
            "2021-03-12 12:53:32,299 : INFO : worker thread finished; awaiting finish of 0 more threads\n",
            "2021-03-12 12:53:32,301 : INFO : EPOCH - 6 : training on 9227204 raw words (8222841 effective words) took 22.1s, 372497 effective words/s\n",
            "2021-03-12 12:53:33,338 : INFO : EPOCH 7 - PROGRESS: at 4.34% examples, 347447 words/s, in_qsize 15, out_qsize 0\n",
            "2021-03-12 12:53:34,347 : INFO : EPOCH 7 - PROGRESS: at 9.12% examples, 367928 words/s, in_qsize 15, out_qsize 0\n",
            "2021-03-12 12:53:35,421 : INFO : EPOCH 7 - PROGRESS: at 13.57% examples, 358289 words/s, in_qsize 15, out_qsize 0\n",
            "2021-03-12 12:53:36,515 : INFO : EPOCH 7 - PROGRESS: at 18.11% examples, 353936 words/s, in_qsize 13, out_qsize 4\n",
            "2021-03-12 12:53:37,582 : INFO : EPOCH 7 - PROGRESS: at 22.87% examples, 358509 words/s, in_qsize 15, out_qsize 3\n",
            "2021-03-12 12:53:38,575 : INFO : EPOCH 7 - PROGRESS: at 27.42% examples, 359894 words/s, in_qsize 15, out_qsize 0\n",
            "2021-03-12 12:53:39,608 : INFO : EPOCH 7 - PROGRESS: at 32.30% examples, 363904 words/s, in_qsize 16, out_qsize 0\n",
            "2021-03-12 12:53:40,631 : INFO : EPOCH 7 - PROGRESS: at 36.94% examples, 365183 words/s, in_qsize 15, out_qsize 0\n",
            "2021-03-12 12:53:41,680 : INFO : EPOCH 7 - PROGRESS: at 41.70% examples, 366166 words/s, in_qsize 16, out_qsize 1\n",
            "2021-03-12 12:53:42,751 : INFO : EPOCH 7 - PROGRESS: at 46.24% examples, 364415 words/s, in_qsize 15, out_qsize 1\n",
            "2021-03-12 12:53:43,801 : INFO : EPOCH 7 - PROGRESS: at 51.11% examples, 366014 words/s, in_qsize 15, out_qsize 0\n",
            "2021-03-12 12:53:44,821 : INFO : EPOCH 7 - PROGRESS: at 55.75% examples, 366830 words/s, in_qsize 15, out_qsize 0\n",
            "2021-03-12 12:53:45,828 : INFO : EPOCH 7 - PROGRESS: at 60.08% examples, 365843 words/s, in_qsize 16, out_qsize 1\n",
            "2021-03-12 12:53:46,920 : INFO : EPOCH 7 - PROGRESS: at 64.62% examples, 364100 words/s, in_qsize 15, out_qsize 0\n",
            "2021-03-12 12:53:47,962 : INFO : EPOCH 7 - PROGRESS: at 69.29% examples, 364366 words/s, in_qsize 15, out_qsize 0\n",
            "2021-03-12 12:53:48,998 : INFO : EPOCH 7 - PROGRESS: at 74.16% examples, 365752 words/s, in_qsize 15, out_qsize 0\n",
            "2021-03-12 12:53:50,019 : INFO : EPOCH 7 - PROGRESS: at 78.51% examples, 364774 words/s, in_qsize 16, out_qsize 0\n",
            "2021-03-12 12:53:51,085 : INFO : EPOCH 7 - PROGRESS: at 83.51% examples, 365895 words/s, in_qsize 15, out_qsize 0\n",
            "2021-03-12 12:53:52,169 : INFO : EPOCH 7 - PROGRESS: at 88.16% examples, 365208 words/s, in_qsize 15, out_qsize 0\n",
            "2021-03-12 12:53:53,219 : INFO : EPOCH 7 - PROGRESS: at 92.94% examples, 365587 words/s, in_qsize 15, out_qsize 0\n",
            "2021-03-12 12:53:54,226 : INFO : EPOCH 7 - PROGRESS: at 97.61% examples, 366267 words/s, in_qsize 16, out_qsize 1\n",
            "2021-03-12 12:53:54,566 : INFO : worker thread finished; awaiting finish of 7 more threads\n",
            "2021-03-12 12:53:54,589 : INFO : worker thread finished; awaiting finish of 6 more threads\n",
            "2021-03-12 12:53:54,599 : INFO : worker thread finished; awaiting finish of 5 more threads\n",
            "2021-03-12 12:53:54,617 : INFO : worker thread finished; awaiting finish of 4 more threads\n",
            "2021-03-12 12:53:54,664 : INFO : worker thread finished; awaiting finish of 3 more threads\n",
            "2021-03-12 12:53:54,673 : INFO : worker thread finished; awaiting finish of 2 more threads\n",
            "2021-03-12 12:53:54,680 : INFO : worker thread finished; awaiting finish of 1 more threads\n",
            "2021-03-12 12:53:54,685 : INFO : worker thread finished; awaiting finish of 0 more threads\n",
            "2021-03-12 12:53:54,686 : INFO : EPOCH - 7 : training on 9227204 raw words (8223038 effective words) took 22.4s, 367538 effective words/s\n",
            "2021-03-12 12:53:55,733 : INFO : EPOCH 8 - PROGRESS: at 4.34% examples, 343893 words/s, in_qsize 15, out_qsize 0\n",
            "2021-03-12 12:53:56,752 : INFO : EPOCH 8 - PROGRESS: at 9.01% examples, 359897 words/s, in_qsize 15, out_qsize 0\n",
            "2021-03-12 12:53:57,885 : INFO : EPOCH 8 - PROGRESS: at 13.68% examples, 352137 words/s, in_qsize 11, out_qsize 7\n",
            "2021-03-12 12:53:58,920 : INFO : EPOCH 8 - PROGRESS: at 18.65% examples, 362663 words/s, in_qsize 16, out_qsize 3\n",
            "2021-03-12 12:53:59,961 : INFO : EPOCH 8 - PROGRESS: at 23.63% examples, 368860 words/s, in_qsize 14, out_qsize 1\n",
            "2021-03-12 12:54:00,965 : INFO : EPOCH 8 - PROGRESS: at 28.40% examples, 372279 words/s, in_qsize 14, out_qsize 1\n",
            "2021-03-12 12:54:02,000 : INFO : EPOCH 8 - PROGRESS: at 32.84% examples, 369697 words/s, in_qsize 15, out_qsize 1\n",
            "2021-03-12 12:54:03,107 : INFO : EPOCH 8 - PROGRESS: at 37.59% examples, 367486 words/s, in_qsize 11, out_qsize 4\n",
            "2021-03-12 12:54:04,128 : INFO : EPOCH 8 - PROGRESS: at 42.02% examples, 366446 words/s, in_qsize 10, out_qsize 5\n",
            "2021-03-12 12:54:05,214 : INFO : EPOCH 8 - PROGRESS: at 47.21% examples, 369242 words/s, in_qsize 16, out_qsize 0\n",
            "2021-03-12 12:54:06,248 : INFO : EPOCH 8 - PROGRESS: at 52.29% examples, 372437 words/s, in_qsize 14, out_qsize 2\n",
            "2021-03-12 12:54:07,264 : INFO : EPOCH 8 - PROGRESS: at 57.27% examples, 374980 words/s, in_qsize 15, out_qsize 0\n",
            "2021-03-12 12:54:08,266 : INFO : EPOCH 8 - PROGRESS: at 61.82% examples, 374863 words/s, in_qsize 14, out_qsize 1\n",
            "2021-03-12 12:54:09,267 : INFO : EPOCH 8 - PROGRESS: at 66.25% examples, 374157 words/s, in_qsize 16, out_qsize 1\n",
            "2021-03-12 12:54:10,271 : INFO : EPOCH 8 - PROGRESS: at 70.48% examples, 372360 words/s, in_qsize 15, out_qsize 0\n",
            "2021-03-12 12:54:11,297 : INFO : EPOCH 8 - PROGRESS: at 75.46% examples, 374028 words/s, in_qsize 15, out_qsize 0\n",
            "2021-03-12 12:54:12,425 : INFO : EPOCH 8 - PROGRESS: at 80.03% examples, 371311 words/s, in_qsize 16, out_qsize 0\n",
            "2021-03-12 12:54:13,537 : INFO : EPOCH 8 - PROGRESS: at 84.91% examples, 370676 words/s, in_qsize 15, out_qsize 4\n",
            "2021-03-12 12:54:14,591 : INFO : EPOCH 8 - PROGRESS: at 90.00% examples, 372091 words/s, in_qsize 15, out_qsize 0\n",
            "2021-03-12 12:54:15,593 : INFO : EPOCH 8 - PROGRESS: at 94.47% examples, 371691 words/s, in_qsize 16, out_qsize 1\n",
            "2021-03-12 12:54:16,555 : INFO : worker thread finished; awaiting finish of 7 more threads\n",
            "2021-03-12 12:54:16,598 : INFO : EPOCH 8 - PROGRESS: at 99.35% examples, 373001 words/s, in_qsize 6, out_qsize 0\n",
            "2021-03-12 12:54:16,603 : INFO : worker thread finished; awaiting finish of 6 more threads\n",
            "2021-03-12 12:54:16,625 : INFO : worker thread finished; awaiting finish of 5 more threads\n",
            "2021-03-12 12:54:16,626 : INFO : worker thread finished; awaiting finish of 4 more threads\n",
            "2021-03-12 12:54:16,627 : INFO : worker thread finished; awaiting finish of 3 more threads\n",
            "2021-03-12 12:54:16,629 : INFO : worker thread finished; awaiting finish of 2 more threads\n",
            "2021-03-12 12:54:16,629 : INFO : worker thread finished; awaiting finish of 1 more threads\n",
            "2021-03-12 12:54:16,630 : INFO : worker thread finished; awaiting finish of 0 more threads\n",
            "2021-03-12 12:54:16,631 : INFO : EPOCH - 8 : training on 9227204 raw words (8222531 effective words) took 21.9s, 374878 effective words/s\n",
            "2021-03-12 12:54:17,683 : INFO : EPOCH 9 - PROGRESS: at 4.13% examples, 325909 words/s, in_qsize 13, out_qsize 2\n",
            "2021-03-12 12:54:18,738 : INFO : EPOCH 9 - PROGRESS: at 8.80% examples, 344761 words/s, in_qsize 15, out_qsize 0\n",
            "2021-03-12 12:54:19,759 : INFO : EPOCH 9 - PROGRESS: at 13.68% examples, 360432 words/s, in_qsize 15, out_qsize 0\n",
            "2021-03-12 12:54:20,762 : INFO : EPOCH 9 - PROGRESS: at 18.11% examples, 361270 words/s, in_qsize 16, out_qsize 1\n",
            "2021-03-12 12:54:21,781 : INFO : EPOCH 9 - PROGRESS: at 22.33% examples, 357231 words/s, in_qsize 14, out_qsize 1\n",
            "2021-03-12 12:54:22,784 : INFO : EPOCH 9 - PROGRESS: at 26.99% examples, 361279 words/s, in_qsize 15, out_qsize 0\n",
            "2021-03-12 12:54:23,869 : INFO : EPOCH 9 - PROGRESS: at 31.64% examples, 360086 words/s, in_qsize 16, out_qsize 3\n",
            "2021-03-12 12:54:24,896 : INFO : EPOCH 9 - PROGRESS: at 36.40% examples, 362764 words/s, in_qsize 14, out_qsize 1\n",
            "2021-03-12 12:54:25,998 : INFO : EPOCH 9 - PROGRESS: at 40.84% examples, 359052 words/s, in_qsize 15, out_qsize 8\n",
            "2021-03-12 12:54:27,018 : INFO : EPOCH 9 - PROGRESS: at 46.24% examples, 366696 words/s, in_qsize 15, out_qsize 1\n",
            "2021-03-12 12:54:28,099 : INFO : EPOCH 9 - PROGRESS: at 50.13% examples, 360122 words/s, in_qsize 16, out_qsize 7\n",
            "2021-03-12 12:54:29,117 : INFO : EPOCH 9 - PROGRESS: at 55.32% examples, 365024 words/s, in_qsize 11, out_qsize 3\n",
            "2021-03-12 12:54:30,152 : INFO : EPOCH 9 - PROGRESS: at 59.87% examples, 364759 words/s, in_qsize 16, out_qsize 0\n",
            "2021-03-12 12:54:31,171 : INFO : EPOCH 9 - PROGRESS: at 64.51% examples, 365537 words/s, in_qsize 16, out_qsize 1\n",
            "2021-03-12 12:54:32,174 : INFO : EPOCH 9 - PROGRESS: at 68.96% examples, 365461 words/s, in_qsize 15, out_qsize 0\n",
            "2021-03-12 12:54:33,195 : INFO : EPOCH 9 - PROGRESS: at 73.51% examples, 365502 words/s, in_qsize 15, out_qsize 4\n",
            "2021-03-12 12:54:34,209 : INFO : EPOCH 9 - PROGRESS: at 78.51% examples, 367725 words/s, in_qsize 16, out_qsize 0\n",
            "2021-03-12 12:54:35,231 : INFO : EPOCH 9 - PROGRESS: at 83.18% examples, 368115 words/s, in_qsize 15, out_qsize 0\n",
            "2021-03-12 12:54:36,359 : INFO : EPOCH 9 - PROGRESS: at 87.94% examples, 366928 words/s, in_qsize 16, out_qsize 0\n",
            "2021-03-12 12:54:37,427 : INFO : EPOCH 9 - PROGRESS: at 92.50% examples, 366068 words/s, in_qsize 15, out_qsize 1\n",
            "2021-03-12 12:54:38,445 : INFO : EPOCH 9 - PROGRESS: at 97.29% examples, 366928 words/s, in_qsize 16, out_qsize 0\n",
            "2021-03-12 12:54:38,905 : INFO : worker thread finished; awaiting finish of 7 more threads\n",
            "2021-03-12 12:54:38,917 : INFO : worker thread finished; awaiting finish of 6 more threads\n",
            "2021-03-12 12:54:38,929 : INFO : worker thread finished; awaiting finish of 5 more threads\n",
            "2021-03-12 12:54:38,935 : INFO : worker thread finished; awaiting finish of 4 more threads\n",
            "2021-03-12 12:54:38,943 : INFO : worker thread finished; awaiting finish of 3 more threads\n",
            "2021-03-12 12:54:38,951 : INFO : worker thread finished; awaiting finish of 2 more threads\n",
            "2021-03-12 12:54:38,955 : INFO : worker thread finished; awaiting finish of 1 more threads\n",
            "2021-03-12 12:54:38,969 : INFO : worker thread finished; awaiting finish of 0 more threads\n",
            "2021-03-12 12:54:38,971 : INFO : EPOCH - 9 : training on 9227204 raw words (8222938 effective words) took 22.3s, 368315 effective words/s\n",
            "2021-03-12 12:54:40,027 : INFO : EPOCH 10 - PROGRESS: at 4.01% examples, 316196 words/s, in_qsize 16, out_qsize 0\n",
            "2021-03-12 12:54:41,037 : INFO : EPOCH 10 - PROGRESS: at 8.47% examples, 338651 words/s, in_qsize 16, out_qsize 0\n",
            "2021-03-12 12:54:42,085 : INFO : EPOCH 10 - PROGRESS: at 13.25% examples, 350606 words/s, in_qsize 14, out_qsize 1\n",
            "2021-03-12 12:54:43,134 : INFO : EPOCH 10 - PROGRESS: at 18.00% examples, 356392 words/s, in_qsize 15, out_qsize 0\n",
            "2021-03-12 12:54:44,148 : INFO : EPOCH 10 - PROGRESS: at 22.22% examples, 353736 words/s, in_qsize 14, out_qsize 1\n",
            "2021-03-12 12:54:45,152 : INFO : EPOCH 10 - PROGRESS: at 26.89% examples, 358288 words/s, in_qsize 15, out_qsize 0\n",
            "2021-03-12 12:54:46,192 : INFO : EPOCH 10 - PROGRESS: at 31.32% examples, 357303 words/s, in_qsize 15, out_qsize 0\n",
            "2021-03-12 12:54:47,202 : INFO : EPOCH 10 - PROGRESS: at 35.97% examples, 359993 words/s, in_qsize 15, out_qsize 0\n",
            "2021-03-12 12:54:48,247 : INFO : EPOCH 10 - PROGRESS: at 40.40% examples, 358765 words/s, in_qsize 16, out_qsize 4\n",
            "2021-03-12 12:54:49,355 : INFO : EPOCH 10 - PROGRESS: at 45.15% examples, 359883 words/s, in_qsize 15, out_qsize 2\n",
            "2021-03-12 12:54:50,381 : INFO : EPOCH 10 - PROGRESS: at 49.59% examples, 358031 words/s, in_qsize 14, out_qsize 1\n",
            "2021-03-12 12:54:51,426 : INFO : EPOCH 10 - PROGRESS: at 54.13% examples, 358046 words/s, in_qsize 15, out_qsize 0\n",
            "2021-03-12 12:54:52,447 : INFO : EPOCH 10 - PROGRESS: at 59.23% examples, 362011 words/s, in_qsize 15, out_qsize 0\n",
            "2021-03-12 12:54:53,499 : INFO : EPOCH 10 - PROGRESS: at 63.86% examples, 362178 words/s, in_qsize 15, out_qsize 0\n",
            "2021-03-12 12:54:54,548 : INFO : EPOCH 10 - PROGRESS: at 68.42% examples, 361805 words/s, in_qsize 14, out_qsize 1\n",
            "2021-03-12 12:54:55,728 : INFO : EPOCH 10 - PROGRESS: at 73.40% examples, 360779 words/s, in_qsize 10, out_qsize 5\n",
            "2021-03-12 12:54:56,819 : INFO : EPOCH 10 - PROGRESS: at 78.51% examples, 362169 words/s, in_qsize 15, out_qsize 0\n",
            "2021-03-12 12:54:57,863 : INFO : EPOCH 10 - PROGRESS: at 83.28% examples, 362909 words/s, in_qsize 15, out_qsize 0\n",
            "2021-03-12 12:54:58,897 : INFO : EPOCH 10 - PROGRESS: at 88.05% examples, 363725 words/s, in_qsize 16, out_qsize 1\n",
            "2021-03-12 12:55:00,021 : INFO : EPOCH 10 - PROGRESS: at 92.61% examples, 362064 words/s, in_qsize 12, out_qsize 4\n",
            "2021-03-12 12:55:01,056 : INFO : EPOCH 10 - PROGRESS: at 97.29% examples, 362426 words/s, in_qsize 15, out_qsize 0\n",
            "2021-03-12 12:55:01,483 : INFO : worker thread finished; awaiting finish of 7 more threads\n",
            "2021-03-12 12:55:01,492 : INFO : worker thread finished; awaiting finish of 6 more threads\n",
            "2021-03-12 12:55:01,517 : INFO : worker thread finished; awaiting finish of 5 more threads\n",
            "2021-03-12 12:55:01,528 : INFO : worker thread finished; awaiting finish of 4 more threads\n",
            "2021-03-12 12:55:01,544 : INFO : worker thread finished; awaiting finish of 3 more threads\n",
            "2021-03-12 12:55:01,554 : INFO : worker thread finished; awaiting finish of 2 more threads\n",
            "2021-03-12 12:55:01,572 : INFO : worker thread finished; awaiting finish of 1 more threads\n",
            "2021-03-12 12:55:01,575 : INFO : worker thread finished; awaiting finish of 0 more threads\n",
            "2021-03-12 12:55:01,576 : INFO : EPOCH - 10 : training on 9227204 raw words (8222749 effective words) took 22.6s, 363978 effective words/s\n",
            "2021-03-12 12:55:02,634 : INFO : EPOCH 11 - PROGRESS: at 3.69% examples, 294639 words/s, in_qsize 15, out_qsize 0\n",
            "2021-03-12 12:55:03,624 : INFO : EPOCH 11 - PROGRESS: at 7.93% examples, 320015 words/s, in_qsize 14, out_qsize 1\n",
            "2021-03-12 12:55:04,720 : INFO : EPOCH 11 - PROGRESS: at 12.06% examples, 316128 words/s, in_qsize 8, out_qsize 7\n",
            "2021-03-12 12:55:05,747 : INFO : EPOCH 11 - PROGRESS: at 17.13% examples, 338634 words/s, in_qsize 15, out_qsize 1\n",
            "2021-03-12 12:55:06,815 : INFO : EPOCH 11 - PROGRESS: at 21.03% examples, 332447 words/s, in_qsize 14, out_qsize 5\n",
            "2021-03-12 12:55:07,851 : INFO : EPOCH 11 - PROGRESS: at 25.59% examples, 335794 words/s, in_qsize 15, out_qsize 0\n",
            "2021-03-12 12:55:08,879 : INFO : EPOCH 11 - PROGRESS: at 30.35% examples, 342241 words/s, in_qsize 15, out_qsize 0\n",
            "2021-03-12 12:55:09,892 : INFO : EPOCH 11 - PROGRESS: at 34.78% examples, 344498 words/s, in_qsize 13, out_qsize 1\n",
            "2021-03-12 12:55:10,900 : INFO : EPOCH 11 - PROGRESS: at 39.32% examples, 347394 words/s, in_qsize 13, out_qsize 2\n",
            "2021-03-12 12:55:11,902 : INFO : EPOCH 11 - PROGRESS: at 43.21% examples, 344692 words/s, in_qsize 15, out_qsize 0\n",
            "2021-03-12 12:55:12,906 : INFO : EPOCH 11 - PROGRESS: at 47.76% examples, 347182 words/s, in_qsize 15, out_qsize 0\n",
            "2021-03-12 12:55:13,926 : INFO : EPOCH 11 - PROGRESS: at 52.29% examples, 348826 words/s, in_qsize 16, out_qsize 0\n",
            "2021-03-12 12:55:14,940 : INFO : EPOCH 11 - PROGRESS: at 56.95% examples, 351024 words/s, in_qsize 15, out_qsize 0\n",
            "2021-03-12 12:55:15,951 : INFO : EPOCH 11 - PROGRESS: at 61.18% examples, 350514 words/s, in_qsize 13, out_qsize 3\n",
            "2021-03-12 12:55:16,990 : INFO : EPOCH 11 - PROGRESS: at 65.83% examples, 351718 words/s, in_qsize 14, out_qsize 3\n",
            "2021-03-12 12:55:17,997 : INFO : EPOCH 11 - PROGRESS: at 70.37% examples, 352931 words/s, in_qsize 15, out_qsize 0\n",
            "2021-03-12 12:55:19,057 : INFO : EPOCH 11 - PROGRESS: at 74.81% examples, 352936 words/s, in_qsize 15, out_qsize 5\n",
            "2021-03-12 12:55:20,039 : INFO : EPOCH 11 - PROGRESS: at 79.81% examples, 355863 words/s, in_qsize 16, out_qsize 0\n",
            "2021-03-12 12:55:21,049 : INFO : EPOCH 11 - PROGRESS: at 83.51% examples, 352952 words/s, in_qsize 16, out_qsize 4\n",
            "2021-03-12 12:55:22,102 : INFO : EPOCH 11 - PROGRESS: at 88.58% examples, 355237 words/s, in_qsize 15, out_qsize 0\n",
            "2021-03-12 12:55:23,201 : INFO : EPOCH 11 - PROGRESS: at 93.26% examples, 354867 words/s, in_qsize 14, out_qsize 7\n",
            "2021-03-12 12:55:24,202 : INFO : EPOCH 11 - PROGRESS: at 98.58% examples, 358470 words/s, in_qsize 14, out_qsize 0\n",
            "2021-03-12 12:55:24,365 : INFO : worker thread finished; awaiting finish of 7 more threads\n",
            "2021-03-12 12:55:24,378 : INFO : worker thread finished; awaiting finish of 6 more threads\n",
            "2021-03-12 12:55:24,415 : INFO : worker thread finished; awaiting finish of 5 more threads\n",
            "2021-03-12 12:55:24,447 : INFO : worker thread finished; awaiting finish of 4 more threads\n",
            "2021-03-12 12:55:24,481 : INFO : worker thread finished; awaiting finish of 3 more threads\n",
            "2021-03-12 12:55:24,488 : INFO : worker thread finished; awaiting finish of 2 more threads\n",
            "2021-03-12 12:55:24,494 : INFO : worker thread finished; awaiting finish of 1 more threads\n",
            "2021-03-12 12:55:24,503 : INFO : worker thread finished; awaiting finish of 0 more threads\n",
            "2021-03-12 12:55:24,504 : INFO : EPOCH - 11 : training on 9227204 raw words (8221742 effective words) took 22.9s, 358832 effective words/s\n",
            "2021-03-12 12:55:25,555 : INFO : EPOCH 12 - PROGRESS: at 3.91% examples, 308443 words/s, in_qsize 13, out_qsize 2\n",
            "2021-03-12 12:55:26,599 : INFO : EPOCH 12 - PROGRESS: at 9.23% examples, 363444 words/s, in_qsize 16, out_qsize 0\n",
            "2021-03-12 12:55:27,633 : INFO : EPOCH 12 - PROGRESS: at 13.68% examples, 360192 words/s, in_qsize 11, out_qsize 3\n",
            "2021-03-12 12:55:28,679 : INFO : EPOCH 12 - PROGRESS: at 18.22% examples, 359406 words/s, in_qsize 14, out_qsize 1\n",
            "2021-03-12 12:55:29,768 : INFO : EPOCH 12 - PROGRESS: at 22.98% examples, 359618 words/s, in_qsize 15, out_qsize 0\n",
            "2021-03-12 12:55:30,864 : INFO : EPOCH 12 - PROGRESS: at 27.96% examples, 362102 words/s, in_qsize 15, out_qsize 0\n",
            "2021-03-12 12:55:31,931 : INFO : EPOCH 12 - PROGRESS: at 32.41% examples, 359292 words/s, in_qsize 15, out_qsize 0\n",
            "2021-03-12 12:55:32,986 : INFO : EPOCH 12 - PROGRESS: at 37.16% examples, 360802 words/s, in_qsize 15, out_qsize 0\n",
            "2021-03-12 12:55:34,022 : INFO : EPOCH 12 - PROGRESS: at 41.59% examples, 359895 words/s, in_qsize 16, out_qsize 3\n",
            "2021-03-12 12:55:35,054 : INFO : EPOCH 12 - PROGRESS: at 46.35% examples, 361846 words/s, in_qsize 15, out_qsize 0\n",
            "2021-03-12 12:55:36,066 : INFO : EPOCH 12 - PROGRESS: at 51.10% examples, 364096 words/s, in_qsize 15, out_qsize 0\n",
            "2021-03-12 12:55:37,119 : INFO : EPOCH 12 - PROGRESS: at 55.97% examples, 365501 words/s, in_qsize 15, out_qsize 0\n",
            "2021-03-12 12:55:38,173 : INFO : EPOCH 12 - PROGRESS: at 60.85% examples, 366633 words/s, in_qsize 15, out_qsize 0\n",
            "2021-03-12 12:55:39,233 : INFO : EPOCH 12 - PROGRESS: at 65.50% examples, 366263 words/s, in_qsize 15, out_qsize 0\n",
            "2021-03-12 12:55:40,262 : INFO : EPOCH 12 - PROGRESS: at 70.16% examples, 366677 words/s, in_qsize 14, out_qsize 1\n",
            "2021-03-12 12:55:41,313 : INFO : EPOCH 12 - PROGRESS: at 74.70% examples, 365980 words/s, in_qsize 14, out_qsize 5\n",
            "2021-03-12 12:55:42,364 : INFO : EPOCH 12 - PROGRESS: at 79.38% examples, 365904 words/s, in_qsize 14, out_qsize 1\n",
            "2021-03-12 12:55:43,367 : INFO : EPOCH 12 - PROGRESS: at 83.94% examples, 366293 words/s, in_qsize 15, out_qsize 0\n",
            "2021-03-12 12:55:44,368 : INFO : EPOCH 12 - PROGRESS: at 88.37% examples, 366210 words/s, in_qsize 14, out_qsize 1\n",
            "2021-03-12 12:55:45,446 : INFO : EPOCH 12 - PROGRESS: at 93.26% examples, 366474 words/s, in_qsize 15, out_qsize 0\n",
            "2021-03-12 12:55:46,458 : INFO : EPOCH 12 - PROGRESS: at 97.72% examples, 366199 words/s, in_qsize 14, out_qsize 1\n",
            "2021-03-12 12:55:46,692 : INFO : worker thread finished; awaiting finish of 7 more threads\n",
            "2021-03-12 12:55:46,720 : INFO : worker thread finished; awaiting finish of 6 more threads\n",
            "2021-03-12 12:55:46,748 : INFO : worker thread finished; awaiting finish of 5 more threads\n",
            "2021-03-12 12:55:46,784 : INFO : worker thread finished; awaiting finish of 4 more threads\n",
            "2021-03-12 12:55:46,797 : INFO : worker thread finished; awaiting finish of 3 more threads\n",
            "2021-03-12 12:55:46,812 : INFO : worker thread finished; awaiting finish of 2 more threads\n",
            "2021-03-12 12:55:46,820 : INFO : worker thread finished; awaiting finish of 1 more threads\n",
            "2021-03-12 12:55:46,827 : INFO : worker thread finished; awaiting finish of 0 more threads\n",
            "2021-03-12 12:55:46,828 : INFO : EPOCH - 12 : training on 9227204 raw words (8223541 effective words) took 22.3s, 368562 effective words/s\n",
            "2021-03-12 12:55:47,847 : INFO : EPOCH 13 - PROGRESS: at 4.02% examples, 329201 words/s, in_qsize 15, out_qsize 0\n",
            "2021-03-12 12:55:48,906 : INFO : EPOCH 13 - PROGRESS: at 8.47% examples, 337337 words/s, in_qsize 10, out_qsize 5\n",
            "2021-03-12 12:55:49,964 : INFO : EPOCH 13 - PROGRESS: at 13.47% examples, 354206 words/s, in_qsize 15, out_qsize 0\n",
            "2021-03-12 12:55:51,051 : INFO : EPOCH 13 - PROGRESS: at 18.00% examples, 351555 words/s, in_qsize 14, out_qsize 4\n",
            "2021-03-12 12:55:52,079 : INFO : EPOCH 13 - PROGRESS: at 22.87% examples, 359142 words/s, in_qsize 15, out_qsize 0\n",
            "2021-03-12 12:55:53,090 : INFO : EPOCH 13 - PROGRESS: at 27.64% examples, 363747 words/s, in_qsize 15, out_qsize 0\n",
            "2021-03-12 12:55:54,113 : INFO : EPOCH 13 - PROGRESS: at 32.19% examples, 364050 words/s, in_qsize 12, out_qsize 4\n",
            "2021-03-12 12:55:55,126 : INFO : EPOCH 13 - PROGRESS: at 37.16% examples, 368979 words/s, in_qsize 14, out_qsize 1\n",
            "2021-03-12 12:55:56,154 : INFO : EPOCH 13 - PROGRESS: at 41.80% examples, 369430 words/s, in_qsize 15, out_qsize 0\n",
            "2021-03-12 12:55:57,161 : INFO : EPOCH 13 - PROGRESS: at 46.46% examples, 370486 words/s, in_qsize 16, out_qsize 2\n",
            "2021-03-12 12:55:58,198 : INFO : EPOCH 13 - PROGRESS: at 51.64% examples, 374342 words/s, in_qsize 15, out_qsize 0\n",
            "2021-03-12 12:55:59,222 : INFO : EPOCH 13 - PROGRESS: at 56.18% examples, 373636 words/s, in_qsize 15, out_qsize 0\n",
            "2021-03-12 12:56:00,222 : INFO : EPOCH 13 - PROGRESS: at 61.07% examples, 375665 words/s, in_qsize 16, out_qsize 0\n",
            "2021-03-12 12:56:01,245 : INFO : EPOCH 13 - PROGRESS: at 64.84% examples, 370638 words/s, in_qsize 10, out_qsize 5\n",
            "2021-03-12 12:56:02,251 : INFO : EPOCH 13 - PROGRESS: at 69.50% examples, 371285 words/s, in_qsize 14, out_qsize 1\n",
            "2021-03-12 12:56:03,283 : INFO : EPOCH 13 - PROGRESS: at 74.37% examples, 372336 words/s, in_qsize 15, out_qsize 0\n",
            "2021-03-12 12:56:04,322 : INFO : EPOCH 13 - PROGRESS: at 78.95% examples, 371610 words/s, in_qsize 16, out_qsize 0\n",
            "2021-03-12 12:56:05,407 : INFO : EPOCH 13 - PROGRESS: at 83.40% examples, 369572 words/s, in_qsize 14, out_qsize 1\n",
            "2021-03-12 12:56:06,437 : INFO : EPOCH 13 - PROGRESS: at 87.83% examples, 368759 words/s, in_qsize 15, out_qsize 0\n",
            "2021-03-12 12:56:07,443 : INFO : EPOCH 13 - PROGRESS: at 92.72% examples, 370197 words/s, in_qsize 14, out_qsize 0\n",
            "2021-03-12 12:56:08,472 : INFO : EPOCH 13 - PROGRESS: at 97.28% examples, 369853 words/s, in_qsize 15, out_qsize 0\n",
            "2021-03-12 12:56:08,839 : INFO : worker thread finished; awaiting finish of 7 more threads\n",
            "2021-03-12 12:56:08,850 : INFO : worker thread finished; awaiting finish of 6 more threads\n",
            "2021-03-12 12:56:08,870 : INFO : worker thread finished; awaiting finish of 5 more threads\n",
            "2021-03-12 12:56:08,884 : INFO : worker thread finished; awaiting finish of 4 more threads\n",
            "2021-03-12 12:56:08,915 : INFO : worker thread finished; awaiting finish of 3 more threads\n",
            "2021-03-12 12:56:08,922 : INFO : worker thread finished; awaiting finish of 2 more threads\n",
            "2021-03-12 12:56:08,924 : INFO : worker thread finished; awaiting finish of 1 more threads\n",
            "2021-03-12 12:56:08,935 : INFO : worker thread finished; awaiting finish of 0 more threads\n",
            "2021-03-12 12:56:08,936 : INFO : EPOCH - 13 : training on 9227204 raw words (8222590 effective words) took 22.1s, 372230 effective words/s\n",
            "2021-03-12 12:56:09,956 : INFO : EPOCH 14 - PROGRESS: at 3.91% examples, 318459 words/s, in_qsize 13, out_qsize 3\n",
            "2021-03-12 12:56:10,963 : INFO : EPOCH 14 - PROGRESS: at 8.26% examples, 336242 words/s, in_qsize 13, out_qsize 3\n",
            "2021-03-12 12:56:11,975 : INFO : EPOCH 14 - PROGRESS: at 12.71% examples, 344525 words/s, in_qsize 13, out_qsize 3\n",
            "2021-03-12 12:56:12,992 : INFO : EPOCH 14 - PROGRESS: at 17.57% examples, 356919 words/s, in_qsize 16, out_qsize 0\n",
            "2021-03-12 12:56:14,140 : INFO : EPOCH 14 - PROGRESS: at 22.54% examples, 358073 words/s, in_qsize 15, out_qsize 3\n",
            "2021-03-12 12:56:15,139 : INFO : EPOCH 14 - PROGRESS: at 27.64% examples, 367055 words/s, in_qsize 13, out_qsize 2\n",
            "2021-03-12 12:56:16,163 : INFO : EPOCH 14 - PROGRESS: at 32.29% examples, 368012 words/s, in_qsize 14, out_qsize 1\n",
            "2021-03-12 12:56:17,174 : INFO : EPOCH 14 - PROGRESS: at 37.27% examples, 372604 words/s, in_qsize 16, out_qsize 0\n",
            "2021-03-12 12:56:18,176 : INFO : EPOCH 14 - PROGRESS: at 41.70% examples, 371753 words/s, in_qsize 14, out_qsize 1\n",
            "2021-03-12 12:56:19,192 : INFO : EPOCH 14 - PROGRESS: at 46.46% examples, 373102 words/s, in_qsize 16, out_qsize 0\n",
            "2021-03-12 12:56:20,282 : INFO : EPOCH 14 - PROGRESS: at 50.67% examples, 367904 words/s, in_qsize 13, out_qsize 7\n",
            "2021-03-12 12:56:21,294 : INFO : EPOCH 14 - PROGRESS: at 55.97% examples, 373119 words/s, in_qsize 15, out_qsize 0\n",
            "2021-03-12 12:56:22,305 : INFO : EPOCH 14 - PROGRESS: at 60.19% examples, 370900 words/s, in_qsize 16, out_qsize 2\n",
            "2021-03-12 12:56:23,345 : INFO : EPOCH 14 - PROGRESS: at 64.95% examples, 371327 words/s, in_qsize 16, out_qsize 0\n",
            "2021-03-12 12:56:24,398 : INFO : EPOCH 14 - PROGRESS: at 69.18% examples, 368486 words/s, in_qsize 9, out_qsize 6\n",
            "2021-03-12 12:56:25,409 : INFO : EPOCH 14 - PROGRESS: at 73.83% examples, 369131 words/s, in_qsize 12, out_qsize 3\n",
            "2021-03-12 12:56:26,503 : INFO : EPOCH 14 - PROGRESS: at 78.84% examples, 369463 words/s, in_qsize 15, out_qsize 0\n",
            "2021-03-12 12:56:27,521 : INFO : EPOCH 14 - PROGRESS: at 83.51% examples, 369842 words/s, in_qsize 16, out_qsize 2\n",
            "2021-03-12 12:56:28,561 : INFO : EPOCH 14 - PROGRESS: at 88.16% examples, 369751 words/s, in_qsize 14, out_qsize 1\n",
            "2021-03-12 12:56:29,571 : INFO : EPOCH 14 - PROGRESS: at 92.94% examples, 370614 words/s, in_qsize 16, out_qsize 0\n",
            "2021-03-12 12:56:30,661 : INFO : EPOCH 14 - PROGRESS: at 97.71% examples, 370056 words/s, in_qsize 15, out_qsize 0\n",
            "2021-03-12 12:56:30,922 : INFO : worker thread finished; awaiting finish of 7 more threads\n",
            "2021-03-12 12:56:30,926 : INFO : worker thread finished; awaiting finish of 6 more threads\n",
            "2021-03-12 12:56:30,938 : INFO : worker thread finished; awaiting finish of 5 more threads\n",
            "2021-03-12 12:56:30,964 : INFO : worker thread finished; awaiting finish of 4 more threads\n",
            "2021-03-12 12:56:30,983 : INFO : worker thread finished; awaiting finish of 3 more threads\n",
            "2021-03-12 12:56:31,009 : INFO : worker thread finished; awaiting finish of 2 more threads\n",
            "2021-03-12 12:56:31,020 : INFO : worker thread finished; awaiting finish of 1 more threads\n",
            "2021-03-12 12:56:31,022 : INFO : worker thread finished; awaiting finish of 0 more threads\n",
            "2021-03-12 12:56:31,027 : INFO : EPOCH - 14 : training on 9227204 raw words (8222852 effective words) took 22.1s, 372455 effective words/s\n",
            "2021-03-12 12:56:32,071 : INFO : EPOCH 15 - PROGRESS: at 3.80% examples, 302429 words/s, in_qsize 14, out_qsize 1\n",
            "2021-03-12 12:56:33,083 : INFO : EPOCH 15 - PROGRESS: at 8.90% examples, 357530 words/s, in_qsize 15, out_qsize 0\n",
            "2021-03-12 12:56:34,155 : INFO : EPOCH 15 - PROGRESS: at 13.47% examples, 354604 words/s, in_qsize 15, out_qsize 0\n",
            "2021-03-12 12:56:35,195 : INFO : EPOCH 15 - PROGRESS: at 18.22% examples, 360131 words/s, in_qsize 15, out_qsize 0\n",
            "2021-03-12 12:56:36,239 : INFO : EPOCH 15 - PROGRESS: at 22.98% examples, 363325 words/s, in_qsize 15, out_qsize 0\n",
            "2021-03-12 12:56:37,299 : INFO : EPOCH 15 - PROGRESS: at 27.43% examples, 360090 words/s, in_qsize 14, out_qsize 1\n",
            "2021-03-12 12:56:38,334 : INFO : EPOCH 15 - PROGRESS: at 31.97% examples, 360472 words/s, in_qsize 13, out_qsize 5\n",
            "2021-03-12 12:56:39,381 : INFO : EPOCH 15 - PROGRESS: at 36.83% examples, 363160 words/s, in_qsize 15, out_qsize 0\n",
            "2021-03-12 12:56:40,382 : INFO : EPOCH 15 - PROGRESS: at 41.59% examples, 366210 words/s, in_qsize 15, out_qsize 0\n",
            "2021-03-12 12:56:41,384 : INFO : EPOCH 15 - PROGRESS: at 46.24% examples, 367758 words/s, in_qsize 15, out_qsize 0\n",
            "2021-03-12 12:56:42,386 : INFO : EPOCH 15 - PROGRESS: at 50.67% examples, 367487 words/s, in_qsize 14, out_qsize 1\n",
            "2021-03-12 12:56:43,387 : INFO : EPOCH 15 - PROGRESS: at 55.21% examples, 368038 words/s, in_qsize 15, out_qsize 0\n",
            "2021-03-12 12:56:44,391 : INFO : EPOCH 15 - PROGRESS: at 59.76% examples, 368403 words/s, in_qsize 15, out_qsize 0\n",
            "2021-03-12 12:56:45,397 : INFO : EPOCH 15 - PROGRESS: at 64.30% examples, 368646 words/s, in_qsize 14, out_qsize 1\n",
            "2021-03-12 12:56:46,459 : INFO : EPOCH 15 - PROGRESS: at 68.75% examples, 367673 words/s, in_qsize 12, out_qsize 6\n",
            "2021-03-12 12:56:47,445 : INFO : EPOCH 15 - PROGRESS: at 73.19% examples, 367150 words/s, in_qsize 11, out_qsize 3\n",
            "2021-03-12 12:56:48,479 : INFO : EPOCH 15 - PROGRESS: at 78.07% examples, 368360 words/s, in_qsize 15, out_qsize 0\n",
            "2021-03-12 12:56:49,508 : INFO : EPOCH 15 - PROGRESS: at 82.74% examples, 368577 words/s, in_qsize 14, out_qsize 1\n",
            "2021-03-12 12:56:50,513 : INFO : EPOCH 15 - PROGRESS: at 87.51% examples, 369667 words/s, in_qsize 14, out_qsize 1\n",
            "2021-03-12 12:56:51,595 : INFO : EPOCH 15 - PROGRESS: at 92.28% examples, 369267 words/s, in_qsize 13, out_qsize 2\n",
            "2021-03-12 12:56:52,599 : INFO : EPOCH 15 - PROGRESS: at 96.75% examples, 369009 words/s, in_qsize 12, out_qsize 3\n",
            "2021-03-12 12:56:53,055 : INFO : worker thread finished; awaiting finish of 7 more threads\n",
            "2021-03-12 12:56:53,072 : INFO : worker thread finished; awaiting finish of 6 more threads\n",
            "2021-03-12 12:56:53,085 : INFO : worker thread finished; awaiting finish of 5 more threads\n",
            "2021-03-12 12:56:53,119 : INFO : worker thread finished; awaiting finish of 4 more threads\n",
            "2021-03-12 12:56:53,130 : INFO : worker thread finished; awaiting finish of 3 more threads\n",
            "2021-03-12 12:56:53,136 : INFO : worker thread finished; awaiting finish of 2 more threads\n",
            "2021-03-12 12:56:53,149 : INFO : worker thread finished; awaiting finish of 1 more threads\n",
            "2021-03-12 12:56:53,152 : INFO : worker thread finished; awaiting finish of 0 more threads\n",
            "2021-03-12 12:56:53,158 : INFO : EPOCH - 15 : training on 9227204 raw words (8223995 effective words) took 22.1s, 371818 effective words/s\n",
            "2021-03-12 12:56:54,203 : INFO : EPOCH 16 - PROGRESS: at 3.91% examples, 309867 words/s, in_qsize 16, out_qsize 1\n",
            "2021-03-12 12:56:55,215 : INFO : EPOCH 16 - PROGRESS: at 8.47% examples, 339467 words/s, in_qsize 15, out_qsize 0\n",
            "2021-03-12 12:56:56,244 : INFO : EPOCH 16 - PROGRESS: at 12.92% examples, 344652 words/s, in_qsize 16, out_qsize 3\n",
            "2021-03-12 12:56:57,271 : INFO : EPOCH 16 - PROGRESS: at 17.68% examples, 353843 words/s, in_qsize 16, out_qsize 0\n",
            "2021-03-12 12:56:58,272 : INFO : EPOCH 16 - PROGRESS: at 22.11% examples, 356064 words/s, in_qsize 15, out_qsize 0\n",
            "2021-03-12 12:56:59,295 : INFO : EPOCH 16 - PROGRESS: at 26.67% examples, 357683 words/s, in_qsize 14, out_qsize 1\n",
            "2021-03-12 12:57:00,366 : INFO : EPOCH 16 - PROGRESS: at 31.21% examples, 356435 words/s, in_qsize 15, out_qsize 6\n",
            "2021-03-12 12:57:01,380 : INFO : EPOCH 16 - PROGRESS: at 36.94% examples, 369925 words/s, in_qsize 16, out_qsize 1\n",
            "2021-03-12 12:57:02,380 : INFO : EPOCH 16 - PROGRESS: at 41.59% examples, 371345 words/s, in_qsize 16, out_qsize 3\n",
            "2021-03-12 12:57:03,436 : INFO : EPOCH 16 - PROGRESS: at 46.13% examples, 369584 words/s, in_qsize 15, out_qsize 1\n",
            "2021-03-12 12:57:04,510 : INFO : EPOCH 16 - PROGRESS: at 51.32% examples, 372335 words/s, in_qsize 15, out_qsize 0\n",
            "2021-03-12 12:57:05,600 : INFO : EPOCH 16 - PROGRESS: at 56.51% examples, 374106 words/s, in_qsize 13, out_qsize 2\n",
            "2021-03-12 12:57:06,682 : INFO : EPOCH 16 - PROGRESS: at 61.28% examples, 373135 words/s, in_qsize 14, out_qsize 1\n",
            "2021-03-12 12:57:07,727 : INFO : EPOCH 16 - PROGRESS: at 65.93% examples, 372667 words/s, in_qsize 13, out_qsize 2\n",
            "2021-03-12 12:57:08,799 : INFO : EPOCH 16 - PROGRESS: at 70.59% examples, 371604 words/s, in_qsize 12, out_qsize 6\n",
            "2021-03-12 12:57:09,818 : INFO : EPOCH 16 - PROGRESS: at 76.00% examples, 375603 words/s, in_qsize 13, out_qsize 0\n",
            "2021-03-12 12:57:10,827 : INFO : EPOCH 16 - PROGRESS: at 80.57% examples, 375318 words/s, in_qsize 14, out_qsize 1\n",
            "2021-03-12 12:57:11,960 : INFO : EPOCH 16 - PROGRESS: at 85.56% examples, 374487 words/s, in_qsize 10, out_qsize 5\n",
            "2021-03-12 12:57:13,093 : INFO : EPOCH 16 - PROGRESS: at 90.87% examples, 375075 words/s, in_qsize 15, out_qsize 0\n",
            "2021-03-12 12:57:14,097 : INFO : EPOCH 16 - PROGRESS: at 95.56% examples, 375370 words/s, in_qsize 13, out_qsize 2\n",
            "2021-03-12 12:57:14,738 : INFO : worker thread finished; awaiting finish of 7 more threads\n",
            "2021-03-12 12:57:14,774 : INFO : worker thread finished; awaiting finish of 6 more threads\n",
            "2021-03-12 12:57:14,821 : INFO : worker thread finished; awaiting finish of 5 more threads\n",
            "2021-03-12 12:57:14,849 : INFO : worker thread finished; awaiting finish of 4 more threads\n",
            "2021-03-12 12:57:14,850 : INFO : worker thread finished; awaiting finish of 3 more threads\n",
            "2021-03-12 12:57:14,852 : INFO : worker thread finished; awaiting finish of 2 more threads\n",
            "2021-03-12 12:57:14,863 : INFO : worker thread finished; awaiting finish of 1 more threads\n",
            "2021-03-12 12:57:14,870 : INFO : worker thread finished; awaiting finish of 0 more threads\n",
            "2021-03-12 12:57:14,872 : INFO : EPOCH - 16 : training on 9227204 raw words (8222402 effective words) took 21.7s, 378840 effective words/s\n",
            "2021-03-12 12:57:15,980 : INFO : EPOCH 17 - PROGRESS: at 4.13% examples, 311749 words/s, in_qsize 14, out_qsize 3\n",
            "2021-03-12 12:57:16,995 : INFO : EPOCH 17 - PROGRESS: at 8.69% examples, 339297 words/s, in_qsize 15, out_qsize 0\n",
            "2021-03-12 12:57:18,004 : INFO : EPOCH 17 - PROGRESS: at 13.25% examples, 349685 words/s, in_qsize 16, out_qsize 0\n",
            "2021-03-12 12:57:19,049 : INFO : EPOCH 17 - PROGRESS: at 18.00% examples, 355765 words/s, in_qsize 15, out_qsize 0\n",
            "2021-03-12 12:57:20,059 : INFO : EPOCH 17 - PROGRESS: at 22.87% examples, 363870 words/s, in_qsize 14, out_qsize 1\n",
            "2021-03-12 12:57:21,062 : INFO : EPOCH 17 - PROGRESS: at 27.64% examples, 368303 words/s, in_qsize 15, out_qsize 0\n",
            "2021-03-12 12:57:22,080 : INFO : EPOCH 17 - PROGRESS: at 31.86% examples, 364471 words/s, in_qsize 11, out_qsize 4\n",
            "2021-03-12 12:57:23,168 : INFO : EPOCH 17 - PROGRESS: at 36.61% examples, 363891 words/s, in_qsize 11, out_qsize 5\n",
            "2021-03-12 12:57:24,277 : INFO : EPOCH 17 - PROGRESS: at 41.69% examples, 365512 words/s, in_qsize 16, out_qsize 0\n",
            "2021-03-12 12:57:25,321 : INFO : EPOCH 17 - PROGRESS: at 46.89% examples, 369930 words/s, in_qsize 15, out_qsize 0\n",
            "2021-03-12 12:57:26,361 : INFO : EPOCH 17 - PROGRESS: at 51.54% examples, 369796 words/s, in_qsize 16, out_qsize 0\n",
            "2021-03-12 12:57:27,391 : INFO : EPOCH 17 - PROGRESS: at 56.08% examples, 369253 words/s, in_qsize 15, out_qsize 0\n",
            "2021-03-12 12:57:28,428 : INFO : EPOCH 17 - PROGRESS: at 60.85% examples, 369933 words/s, in_qsize 15, out_qsize 0\n",
            "2021-03-12 12:57:29,522 : INFO : EPOCH 17 - PROGRESS: at 65.72% examples, 369643 words/s, in_qsize 13, out_qsize 2\n",
            "2021-03-12 12:57:30,540 : INFO : EPOCH 17 - PROGRESS: at 70.59% examples, 371233 words/s, in_qsize 15, out_qsize 0\n",
            "2021-03-12 12:57:31,638 : INFO : EPOCH 17 - PROGRESS: at 75.14% examples, 369228 words/s, in_qsize 12, out_qsize 3\n",
            "2021-03-12 12:57:32,642 : INFO : EPOCH 17 - PROGRESS: at 79.92% examples, 370418 words/s, in_qsize 15, out_qsize 0\n",
            "2021-03-12 12:57:33,715 : INFO : EPOCH 17 - PROGRESS: at 84.69% examples, 370139 words/s, in_qsize 15, out_qsize 0\n",
            "2021-03-12 12:57:34,760 : INFO : EPOCH 17 - PROGRESS: at 89.34% examples, 369926 words/s, in_qsize 15, out_qsize 1\n",
            "2021-03-12 12:57:35,808 : INFO : EPOCH 17 - PROGRESS: at 94.25% examples, 370541 words/s, in_qsize 15, out_qsize 0\n",
            "2021-03-12 12:57:36,771 : INFO : worker thread finished; awaiting finish of 7 more threads\n",
            "2021-03-12 12:57:36,777 : INFO : worker thread finished; awaiting finish of 6 more threads\n",
            "2021-03-12 12:57:36,853 : INFO : EPOCH 17 - PROGRESS: at 99.45% examples, 372428 words/s, in_qsize 5, out_qsize 1\n",
            "2021-03-12 12:57:36,855 : INFO : worker thread finished; awaiting finish of 5 more threads\n",
            "2021-03-12 12:57:36,857 : INFO : worker thread finished; awaiting finish of 4 more threads\n",
            "2021-03-12 12:57:36,868 : INFO : worker thread finished; awaiting finish of 3 more threads\n",
            "2021-03-12 12:57:36,882 : INFO : worker thread finished; awaiting finish of 2 more threads\n",
            "2021-03-12 12:57:36,885 : INFO : worker thread finished; awaiting finish of 1 more threads\n",
            "2021-03-12 12:57:36,893 : INFO : worker thread finished; awaiting finish of 0 more threads\n",
            "2021-03-12 12:57:36,895 : INFO : EPOCH - 17 : training on 9227204 raw words (8222299 effective words) took 22.0s, 373731 effective words/s\n",
            "2021-03-12 12:57:37,954 : INFO : EPOCH 18 - PROGRESS: at 4.02% examples, 315969 words/s, in_qsize 16, out_qsize 0\n",
            "2021-03-12 12:57:39,025 : INFO : EPOCH 18 - PROGRESS: at 8.90% examples, 345617 words/s, in_qsize 15, out_qsize 0\n",
            "2021-03-12 12:57:40,029 : INFO : EPOCH 18 - PROGRESS: at 13.36% examples, 351436 words/s, in_qsize 14, out_qsize 1\n",
            "2021-03-12 12:57:41,042 : INFO : EPOCH 18 - PROGRESS: at 18.22% examples, 362209 words/s, in_qsize 15, out_qsize 0\n",
            "2021-03-12 12:57:42,095 : INFO : EPOCH 18 - PROGRESS: at 22.76% examples, 360926 words/s, in_qsize 15, out_qsize 0\n",
            "2021-03-12 12:57:43,113 : INFO : EPOCH 18 - PROGRESS: at 27.20% examples, 360588 words/s, in_qsize 12, out_qsize 3\n",
            "2021-03-12 12:57:44,174 : INFO : EPOCH 18 - PROGRESS: at 31.64% examples, 358190 words/s, in_qsize 14, out_qsize 4\n",
            "2021-03-12 12:57:45,192 : INFO : EPOCH 18 - PROGRESS: at 36.72% examples, 364732 words/s, in_qsize 15, out_qsize 0\n",
            "2021-03-12 12:57:46,222 : INFO : EPOCH 18 - PROGRESS: at 41.59% examples, 367392 words/s, in_qsize 16, out_qsize 0\n",
            "2021-03-12 12:57:47,246 : INFO : EPOCH 18 - PROGRESS: at 46.35% examples, 368913 words/s, in_qsize 15, out_qsize 0\n",
            "2021-03-12 12:57:48,259 : INFO : EPOCH 18 - PROGRESS: at 50.35% examples, 365062 words/s, in_qsize 16, out_qsize 1\n",
            "2021-03-12 12:57:49,293 : INFO : EPOCH 18 - PROGRESS: at 55.10% examples, 366238 words/s, in_qsize 14, out_qsize 1\n",
            "2021-03-12 12:57:50,314 : INFO : EPOCH 18 - PROGRESS: at 59.66% examples, 366278 words/s, in_qsize 15, out_qsize 0\n",
            "2021-03-12 12:57:51,323 : INFO : EPOCH 18 - PROGRESS: at 64.51% examples, 368459 words/s, in_qsize 15, out_qsize 0\n",
            "2021-03-12 12:57:52,469 : INFO : EPOCH 18 - PROGRESS: at 69.40% examples, 367065 words/s, in_qsize 14, out_qsize 1\n",
            "2021-03-12 12:57:53,536 : INFO : EPOCH 18 - PROGRESS: at 74.27% examples, 367596 words/s, in_qsize 15, out_qsize 0\n",
            "2021-03-12 12:57:54,673 : INFO : EPOCH 18 - PROGRESS: at 79.27% examples, 367129 words/s, in_qsize 16, out_qsize 0\n",
            "2021-03-12 12:57:55,694 : INFO : EPOCH 18 - PROGRESS: at 84.26% examples, 369005 words/s, in_qsize 15, out_qsize 0\n",
            "2021-03-12 12:57:56,737 : INFO : EPOCH 18 - PROGRESS: at 88.59% examples, 367904 words/s, in_qsize 15, out_qsize 2\n",
            "2021-03-12 12:57:57,770 : INFO : EPOCH 18 - PROGRESS: at 93.38% examples, 368114 words/s, in_qsize 14, out_qsize 3\n",
            "2021-03-12 12:57:58,808 : INFO : EPOCH 18 - PROGRESS: at 98.25% examples, 368959 words/s, in_qsize 15, out_qsize 0\n",
            "2021-03-12 12:57:59,000 : INFO : worker thread finished; awaiting finish of 7 more threads\n",
            "2021-03-12 12:57:59,012 : INFO : worker thread finished; awaiting finish of 6 more threads\n",
            "2021-03-12 12:57:59,032 : INFO : worker thread finished; awaiting finish of 5 more threads\n",
            "2021-03-12 12:57:59,043 : INFO : worker thread finished; awaiting finish of 4 more threads\n",
            "2021-03-12 12:57:59,076 : INFO : worker thread finished; awaiting finish of 3 more threads\n",
            "2021-03-12 12:57:59,078 : INFO : worker thread finished; awaiting finish of 2 more threads\n",
            "2021-03-12 12:57:59,092 : INFO : worker thread finished; awaiting finish of 1 more threads\n",
            "2021-03-12 12:57:59,095 : INFO : worker thread finished; awaiting finish of 0 more threads\n",
            "2021-03-12 12:57:59,096 : INFO : EPOCH - 18 : training on 9227204 raw words (8222845 effective words) took 22.2s, 370646 effective words/s\n",
            "2021-03-12 12:58:00,190 : INFO : EPOCH 19 - PROGRESS: at 4.13% examples, 314580 words/s, in_qsize 14, out_qsize 1\n",
            "2021-03-12 12:58:01,214 : INFO : EPOCH 19 - PROGRESS: at 9.34% examples, 364897 words/s, in_qsize 14, out_qsize 1\n",
            "2021-03-12 12:58:02,330 : INFO : EPOCH 19 - PROGRESS: at 13.68% examples, 349054 words/s, in_qsize 16, out_qsize 6\n",
            "2021-03-12 12:58:03,332 : INFO : EPOCH 19 - PROGRESS: at 18.76% examples, 365326 words/s, in_qsize 16, out_qsize 0\n",
            "2021-03-12 12:58:04,425 : INFO : EPOCH 19 - PROGRESS: at 23.42% examples, 362250 words/s, in_qsize 14, out_qsize 1\n",
            "2021-03-12 12:58:05,443 : INFO : EPOCH 19 - PROGRESS: at 28.40% examples, 368779 words/s, in_qsize 16, out_qsize 0\n",
            "2021-03-12 12:58:06,488 : INFO : EPOCH 19 - PROGRESS: at 32.73% examples, 364826 words/s, in_qsize 13, out_qsize 2\n",
            "2021-03-12 12:58:07,559 : INFO : EPOCH 19 - PROGRESS: at 37.27% examples, 362891 words/s, in_qsize 11, out_qsize 4\n",
            "2021-03-12 12:58:08,582 : INFO : EPOCH 19 - PROGRESS: at 42.46% examples, 368805 words/s, in_qsize 15, out_qsize 0\n",
            "2021-03-12 12:58:09,585 : INFO : EPOCH 19 - PROGRESS: at 46.57% examples, 365830 words/s, in_qsize 15, out_qsize 2\n",
            "2021-03-12 12:58:10,690 : INFO : EPOCH 19 - PROGRESS: at 51.32% examples, 364771 words/s, in_qsize 11, out_qsize 4\n",
            "2021-03-12 12:58:11,704 : INFO : EPOCH 19 - PROGRESS: at 56.18% examples, 367275 words/s, in_qsize 15, out_qsize 0\n",
            "2021-03-12 12:58:12,717 : INFO : EPOCH 19 - PROGRESS: at 60.74% examples, 367432 words/s, in_qsize 15, out_qsize 0\n",
            "2021-03-12 12:58:13,757 : INFO : EPOCH 19 - PROGRESS: at 64.95% examples, 365041 words/s, in_qsize 15, out_qsize 1\n",
            "2021-03-12 12:58:14,811 : INFO : EPOCH 19 - PROGRESS: at 69.50% examples, 364370 words/s, in_qsize 15, out_qsize 3\n",
            "2021-03-12 12:58:15,821 : INFO : EPOCH 19 - PROGRESS: at 74.59% examples, 367381 words/s, in_qsize 15, out_qsize 1\n",
            "2021-03-12 12:58:16,838 : INFO : EPOCH 19 - PROGRESS: at 79.27% examples, 367904 words/s, in_qsize 15, out_qsize 0\n",
            "2021-03-12 12:58:17,851 : INFO : EPOCH 19 - PROGRESS: at 84.04% examples, 368931 words/s, in_qsize 15, out_qsize 0\n",
            "2021-03-12 12:58:18,903 : INFO : EPOCH 19 - PROGRESS: at 88.70% examples, 368663 words/s, in_qsize 15, out_qsize 1\n",
            "2021-03-12 12:58:19,925 : INFO : EPOCH 19 - PROGRESS: at 93.70% examples, 370228 words/s, in_qsize 15, out_qsize 0\n",
            "2021-03-12 12:58:20,937 : INFO : EPOCH 19 - PROGRESS: at 97.93% examples, 368976 words/s, in_qsize 16, out_qsize 0\n",
            "2021-03-12 12:58:21,188 : INFO : worker thread finished; awaiting finish of 7 more threads\n",
            "2021-03-12 12:58:21,206 : INFO : worker thread finished; awaiting finish of 6 more threads\n",
            "2021-03-12 12:58:21,213 : INFO : worker thread finished; awaiting finish of 5 more threads\n",
            "2021-03-12 12:58:21,230 : INFO : worker thread finished; awaiting finish of 4 more threads\n",
            "2021-03-12 12:58:21,244 : INFO : worker thread finished; awaiting finish of 3 more threads\n",
            "2021-03-12 12:58:21,252 : INFO : worker thread finished; awaiting finish of 2 more threads\n",
            "2021-03-12 12:58:21,256 : INFO : worker thread finished; awaiting finish of 1 more threads\n",
            "2021-03-12 12:58:21,275 : INFO : worker thread finished; awaiting finish of 0 more threads\n",
            "2021-03-12 12:58:21,277 : INFO : EPOCH - 19 : training on 9227204 raw words (8222362 effective words) took 22.2s, 371013 effective words/s\n",
            "2021-03-12 12:58:22,402 : INFO : EPOCH 20 - PROGRESS: at 4.02% examples, 298129 words/s, in_qsize 12, out_qsize 8\n",
            "2021-03-12 12:58:23,422 : INFO : EPOCH 20 - PROGRESS: at 9.01% examples, 348015 words/s, in_qsize 16, out_qsize 2\n",
            "2021-03-12 12:58:24,430 : INFO : EPOCH 20 - PROGRESS: at 13.36% examples, 349800 words/s, in_qsize 12, out_qsize 3\n",
            "2021-03-12 12:58:25,482 : INFO : EPOCH 20 - PROGRESS: at 18.22% examples, 357649 words/s, in_qsize 14, out_qsize 1\n",
            "2021-03-12 12:58:26,483 : INFO : EPOCH 20 - PROGRESS: at 23.31% examples, 369413 words/s, in_qsize 16, out_qsize 0\n",
            "2021-03-12 12:58:27,511 : INFO : EPOCH 20 - PROGRESS: at 27.31% examples, 361307 words/s, in_qsize 10, out_qsize 5\n",
            "2021-03-12 12:58:28,532 : INFO : EPOCH 20 - PROGRESS: at 32.19% examples, 365766 words/s, in_qsize 15, out_qsize 0\n",
            "2021-03-12 12:58:29,535 : INFO : EPOCH 20 - PROGRESS: at 36.83% examples, 367714 words/s, in_qsize 15, out_qsize 0\n",
            "2021-03-12 12:58:30,605 : INFO : EPOCH 20 - PROGRESS: at 41.37% examples, 365602 words/s, in_qsize 15, out_qsize 0\n",
            "2021-03-12 12:58:31,678 : INFO : EPOCH 20 - PROGRESS: at 45.92% examples, 363902 words/s, in_qsize 15, out_qsize 0\n",
            "2021-03-12 12:58:32,745 : INFO : EPOCH 20 - PROGRESS: at 50.45% examples, 363496 words/s, in_qsize 15, out_qsize 6\n",
            "2021-03-12 12:58:33,725 : INFO : EPOCH 20 - PROGRESS: at 55.32% examples, 366384 words/s, in_qsize 16, out_qsize 1\n",
            "2021-03-12 12:58:34,733 : INFO : EPOCH 20 - PROGRESS: at 59.98% examples, 367426 words/s, in_qsize 15, out_qsize 0\n",
            "2021-03-12 12:58:35,780 : INFO : EPOCH 20 - PROGRESS: at 64.30% examples, 365447 words/s, in_qsize 13, out_qsize 2\n",
            "2021-03-12 12:58:36,786 : INFO : EPOCH 20 - PROGRESS: at 68.85% examples, 365872 words/s, in_qsize 13, out_qsize 0\n",
            "2021-03-12 12:58:37,830 : INFO : EPOCH 20 - PROGRESS: at 73.62% examples, 366469 words/s, in_qsize 15, out_qsize 0\n",
            "2021-03-12 12:58:39,009 : INFO : EPOCH 20 - PROGRESS: at 78.40% examples, 364178 words/s, in_qsize 15, out_qsize 3\n",
            "2021-03-12 12:58:40,085 : INFO : EPOCH 20 - PROGRESS: at 83.28% examples, 364665 words/s, in_qsize 16, out_qsize 0\n",
            "2021-03-12 12:58:41,163 : INFO : EPOCH 20 - PROGRESS: at 88.05% examples, 364589 words/s, in_qsize 15, out_qsize 3\n",
            "2021-03-12 12:58:42,178 : INFO : EPOCH 20 - PROGRESS: at 93.38% examples, 367757 words/s, in_qsize 15, out_qsize 0\n",
            "2021-03-12 12:58:43,218 : INFO : EPOCH 20 - PROGRESS: at 97.50% examples, 366207 words/s, in_qsize 16, out_qsize 4\n",
            "2021-03-12 12:58:43,479 : INFO : worker thread finished; awaiting finish of 7 more threads\n",
            "2021-03-12 12:58:43,510 : INFO : worker thread finished; awaiting finish of 6 more threads\n",
            "2021-03-12 12:58:43,515 : INFO : worker thread finished; awaiting finish of 5 more threads\n",
            "2021-03-12 12:58:43,525 : INFO : worker thread finished; awaiting finish of 4 more threads\n",
            "2021-03-12 12:58:43,556 : INFO : worker thread finished; awaiting finish of 3 more threads\n",
            "2021-03-12 12:58:43,595 : INFO : worker thread finished; awaiting finish of 2 more threads\n",
            "2021-03-12 12:58:43,604 : INFO : worker thread finished; awaiting finish of 1 more threads\n",
            "2021-03-12 12:58:43,612 : INFO : worker thread finished; awaiting finish of 0 more threads\n",
            "2021-03-12 12:58:43,613 : INFO : EPOCH - 20 : training on 9227204 raw words (8223597 effective words) took 22.3s, 368497 effective words/s\n",
            "2021-03-12 12:58:44,703 : INFO : EPOCH 21 - PROGRESS: at 4.02% examples, 310549 words/s, in_qsize 15, out_qsize 2\n",
            "2021-03-12 12:58:45,774 : INFO : EPOCH 21 - PROGRESS: at 8.69% examples, 331849 words/s, in_qsize 11, out_qsize 4\n",
            "2021-03-12 12:58:46,870 : INFO : EPOCH 21 - PROGRESS: at 13.68% examples, 346068 words/s, in_qsize 14, out_qsize 1\n",
            "2021-03-12 12:58:47,881 : INFO : EPOCH 21 - PROGRESS: at 18.65% examples, 360057 words/s, in_qsize 15, out_qsize 0\n",
            "2021-03-12 12:58:48,987 : INFO : EPOCH 21 - PROGRESS: at 23.20% examples, 355632 words/s, in_qsize 15, out_qsize 0\n",
            "2021-03-12 12:58:50,019 : INFO : EPOCH 21 - PROGRESS: at 27.75% examples, 356758 words/s, in_qsize 15, out_qsize 0\n",
            "2021-03-12 12:58:51,042 : INFO : EPOCH 21 - PROGRESS: at 32.52% examples, 360405 words/s, in_qsize 10, out_qsize 5\n",
            "2021-03-12 12:58:52,141 : INFO : EPOCH 21 - PROGRESS: at 37.27% examples, 359911 words/s, in_qsize 15, out_qsize 0\n",
            "2021-03-12 12:58:53,149 : INFO : EPOCH 21 - PROGRESS: at 41.70% examples, 360153 words/s, in_qsize 14, out_qsize 1\n",
            "2021-03-12 12:58:54,166 : INFO : EPOCH 21 - PROGRESS: at 46.57% examples, 363455 words/s, in_qsize 15, out_qsize 0\n",
            "2021-03-12 12:58:55,227 : INFO : EPOCH 21 - PROGRESS: at 50.89% examples, 360956 words/s, in_qsize 14, out_qsize 1\n",
            "2021-03-12 12:58:56,235 : INFO : EPOCH 21 - PROGRESS: at 55.75% examples, 363909 words/s, in_qsize 16, out_qsize 2\n",
            "2021-03-12 12:58:57,333 : INFO : EPOCH 21 - PROGRESS: at 60.41% examples, 362715 words/s, in_qsize 15, out_qsize 0\n",
            "2021-03-12 12:58:58,365 : INFO : EPOCH 21 - PROGRESS: at 65.39% examples, 365114 words/s, in_qsize 15, out_qsize 0\n",
            "2021-03-12 12:58:59,368 : INFO : EPOCH 21 - PROGRESS: at 69.61% examples, 363949 words/s, in_qsize 14, out_qsize 1\n",
            "2021-03-12 12:59:00,447 : INFO : EPOCH 21 - PROGRESS: at 74.59% examples, 364950 words/s, in_qsize 14, out_qsize 1\n",
            "2021-03-12 12:59:01,520 : INFO : EPOCH 21 - PROGRESS: at 79.38% examples, 364945 words/s, in_qsize 14, out_qsize 1\n",
            "2021-03-12 12:59:02,615 : INFO : EPOCH 21 - PROGRESS: at 84.80% examples, 367375 words/s, in_qsize 15, out_qsize 0\n",
            "2021-03-12 12:59:03,619 : INFO : EPOCH 21 - PROGRESS: at 89.67% examples, 368956 words/s, in_qsize 15, out_qsize 0\n",
            "2021-03-12 12:59:04,625 : INFO : EPOCH 21 - PROGRESS: at 94.25% examples, 369069 words/s, in_qsize 16, out_qsize 0\n",
            "2021-03-12 12:59:05,637 : INFO : EPOCH 21 - PROGRESS: at 99.00% examples, 369910 words/s, in_qsize 10, out_qsize 0\n",
            "2021-03-12 12:59:05,712 : INFO : worker thread finished; awaiting finish of 7 more threads\n",
            "2021-03-12 12:59:05,728 : INFO : worker thread finished; awaiting finish of 6 more threads\n",
            "2021-03-12 12:59:05,732 : INFO : worker thread finished; awaiting finish of 5 more threads\n",
            "2021-03-12 12:59:05,739 : INFO : worker thread finished; awaiting finish of 4 more threads\n",
            "2021-03-12 12:59:05,740 : INFO : worker thread finished; awaiting finish of 3 more threads\n",
            "2021-03-12 12:59:05,754 : INFO : worker thread finished; awaiting finish of 2 more threads\n",
            "2021-03-12 12:59:05,755 : INFO : worker thread finished; awaiting finish of 1 more threads\n",
            "2021-03-12 12:59:05,775 : INFO : worker thread finished; awaiting finish of 0 more threads\n",
            "2021-03-12 12:59:05,776 : INFO : EPOCH - 21 : training on 9227204 raw words (8223140 effective words) took 22.2s, 371246 effective words/s\n",
            "2021-03-12 12:59:06,816 : INFO : EPOCH 22 - PROGRESS: at 4.02% examples, 323039 words/s, in_qsize 15, out_qsize 0\n",
            "2021-03-12 12:59:07,869 : INFO : EPOCH 22 - PROGRESS: at 9.12% examples, 361065 words/s, in_qsize 15, out_qsize 0\n",
            "2021-03-12 12:59:08,946 : INFO : EPOCH 22 - PROGRESS: at 13.36% examples, 347948 words/s, in_qsize 15, out_qsize 3\n",
            "2021-03-12 12:59:09,954 : INFO : EPOCH 22 - PROGRESS: at 18.32% examples, 362134 words/s, in_qsize 15, out_qsize 2\n",
            "2021-03-12 12:59:10,963 : INFO : EPOCH 22 - PROGRESS: at 22.65% examples, 360439 words/s, in_qsize 16, out_qsize 0\n",
            "2021-03-12 12:59:12,051 : INFO : EPOCH 22 - PROGRESS: at 27.32% examples, 358987 words/s, in_qsize 16, out_qsize 1\n",
            "2021-03-12 12:59:13,089 : INFO : EPOCH 22 - PROGRESS: at 31.97% examples, 360483 words/s, in_qsize 15, out_qsize 0\n",
            "2021-03-12 12:59:14,116 : INFO : EPOCH 22 - PROGRESS: at 37.05% examples, 366300 words/s, in_qsize 15, out_qsize 0\n",
            "2021-03-12 12:59:15,179 : INFO : EPOCH 22 - PROGRESS: at 41.70% examples, 366012 words/s, in_qsize 15, out_qsize 1\n",
            "2021-03-12 12:59:16,191 : INFO : EPOCH 22 - PROGRESS: at 46.35% examples, 366870 words/s, in_qsize 14, out_qsize 1\n",
            "2021-03-12 12:59:17,243 : INFO : EPOCH 22 - PROGRESS: at 51.32% examples, 368977 words/s, in_qsize 15, out_qsize 0\n",
            "2021-03-12 12:59:18,252 : INFO : EPOCH 22 - PROGRESS: at 56.08% examples, 370571 words/s, in_qsize 15, out_qsize 0\n",
            "2021-03-12 12:59:19,254 : INFO : EPOCH 22 - PROGRESS: at 60.74% examples, 371445 words/s, in_qsize 15, out_qsize 0\n",
            "2021-03-12 12:59:20,254 : INFO : EPOCH 22 - PROGRESS: at 65.27% examples, 371609 words/s, in_qsize 14, out_qsize 1\n",
            "2021-03-12 12:59:21,273 : INFO : EPOCH 22 - PROGRESS: at 69.40% examples, 369022 words/s, in_qsize 16, out_qsize 2\n",
            "2021-03-12 12:59:22,326 : INFO : EPOCH 22 - PROGRESS: at 74.38% examples, 370286 words/s, in_qsize 15, out_qsize 0\n",
            "2021-03-12 12:59:23,343 : INFO : EPOCH 22 - PROGRESS: at 79.05% examples, 370650 words/s, in_qsize 15, out_qsize 0\n",
            "2021-03-12 12:59:24,358 : INFO : EPOCH 22 - PROGRESS: at 84.48% examples, 374374 words/s, in_qsize 15, out_qsize 0\n",
            "2021-03-12 12:59:25,369 : INFO : EPOCH 22 - PROGRESS: at 88.70% examples, 372767 words/s, in_qsize 16, out_qsize 0\n",
            "2021-03-12 12:59:26,491 : INFO : EPOCH 22 - PROGRESS: at 93.59% examples, 371918 words/s, in_qsize 15, out_qsize 0\n",
            "2021-03-12 12:59:27,513 : INFO : EPOCH 22 - PROGRESS: at 98.25% examples, 372050 words/s, in_qsize 14, out_qsize 1\n",
            "2021-03-12 12:59:27,708 : INFO : worker thread finished; awaiting finish of 7 more threads\n",
            "2021-03-12 12:59:27,729 : INFO : worker thread finished; awaiting finish of 6 more threads\n",
            "2021-03-12 12:59:27,739 : INFO : worker thread finished; awaiting finish of 5 more threads\n",
            "2021-03-12 12:59:27,740 : INFO : worker thread finished; awaiting finish of 4 more threads\n",
            "2021-03-12 12:59:27,744 : INFO : worker thread finished; awaiting finish of 3 more threads\n",
            "2021-03-12 12:59:27,752 : INFO : worker thread finished; awaiting finish of 2 more threads\n",
            "2021-03-12 12:59:27,766 : INFO : worker thread finished; awaiting finish of 1 more threads\n",
            "2021-03-12 12:59:27,784 : INFO : worker thread finished; awaiting finish of 0 more threads\n",
            "2021-03-12 12:59:27,785 : INFO : EPOCH - 22 : training on 9227204 raw words (8223354 effective words) took 22.0s, 373976 effective words/s\n",
            "2021-03-12 12:59:28,893 : INFO : EPOCH 23 - PROGRESS: at 4.13% examples, 309095 words/s, in_qsize 16, out_qsize 1\n",
            "2021-03-12 12:59:29,928 : INFO : EPOCH 23 - PROGRESS: at 8.80% examples, 338793 words/s, in_qsize 13, out_qsize 2\n",
            "2021-03-12 12:59:30,935 : INFO : EPOCH 23 - PROGRESS: at 13.47% examples, 352189 words/s, in_qsize 14, out_qsize 3\n",
            "2021-03-12 12:59:31,964 : INFO : EPOCH 23 - PROGRESS: at 18.32% examples, 361293 words/s, in_qsize 15, out_qsize 0\n",
            "2021-03-12 12:59:33,008 : INFO : EPOCH 23 - PROGRESS: at 22.44% examples, 353918 words/s, in_qsize 15, out_qsize 0\n",
            "2021-03-12 12:59:34,066 : INFO : EPOCH 23 - PROGRESS: at 26.99% examples, 353889 words/s, in_qsize 13, out_qsize 2\n",
            "2021-03-12 12:59:35,133 : INFO : EPOCH 23 - PROGRESS: at 31.64% examples, 354675 words/s, in_qsize 16, out_qsize 3\n",
            "2021-03-12 12:59:36,142 : INFO : EPOCH 23 - PROGRESS: at 36.40% examples, 358726 words/s, in_qsize 13, out_qsize 3\n",
            "2021-03-12 12:59:37,153 : INFO : EPOCH 23 - PROGRESS: at 41.26% examples, 362802 words/s, in_qsize 15, out_qsize 0\n",
            "2021-03-12 12:59:38,167 : INFO : EPOCH 23 - PROGRESS: at 45.92% examples, 364273 words/s, in_qsize 15, out_qsize 0\n",
            "2021-03-12 12:59:39,170 : INFO : EPOCH 23 - PROGRESS: at 50.56% examples, 365832 words/s, in_qsize 15, out_qsize 0\n",
            "2021-03-12 12:59:40,175 : INFO : EPOCH 23 - PROGRESS: at 55.53% examples, 369261 words/s, in_qsize 15, out_qsize 1\n",
            "2021-03-12 12:59:41,227 : INFO : EPOCH 23 - PROGRESS: at 60.30% examples, 369522 words/s, in_qsize 14, out_qsize 1\n",
            "2021-03-12 12:59:42,254 : INFO : EPOCH 23 - PROGRESS: at 65.17% examples, 371016 words/s, in_qsize 15, out_qsize 0\n",
            "2021-03-12 12:59:43,271 : INFO : EPOCH 23 - PROGRESS: at 69.29% examples, 368493 words/s, in_qsize 13, out_qsize 2\n",
            "2021-03-12 12:59:44,292 : INFO : EPOCH 23 - PROGRESS: at 74.05% examples, 369435 words/s, in_qsize 16, out_qsize 0\n",
            "2021-03-12 12:59:45,349 : INFO : EPOCH 23 - PROGRESS: at 79.05% examples, 370547 words/s, in_qsize 15, out_qsize 0\n",
            "2021-03-12 12:59:46,373 : INFO : EPOCH 23 - PROGRESS: at 83.51% examples, 369786 words/s, in_qsize 11, out_qsize 4\n",
            "2021-03-12 12:59:47,417 : INFO : EPOCH 23 - PROGRESS: at 88.48% examples, 370993 words/s, in_qsize 16, out_qsize 0\n",
            "2021-03-12 12:59:48,425 : INFO : EPOCH 23 - PROGRESS: at 93.16% examples, 371414 words/s, in_qsize 15, out_qsize 0\n",
            "2021-03-12 12:59:49,484 : INFO : EPOCH 23 - PROGRESS: at 97.71% examples, 370540 words/s, in_qsize 14, out_qsize 1\n",
            "2021-03-12 12:59:49,822 : INFO : worker thread finished; awaiting finish of 7 more threads\n",
            "2021-03-12 12:59:49,824 : INFO : worker thread finished; awaiting finish of 6 more threads\n",
            "2021-03-12 12:59:49,841 : INFO : worker thread finished; awaiting finish of 5 more threads\n",
            "2021-03-12 12:59:49,843 : INFO : worker thread finished; awaiting finish of 4 more threads\n",
            "2021-03-12 12:59:49,849 : INFO : worker thread finished; awaiting finish of 3 more threads\n",
            "2021-03-12 12:59:49,862 : INFO : worker thread finished; awaiting finish of 2 more threads\n",
            "2021-03-12 12:59:49,891 : INFO : worker thread finished; awaiting finish of 1 more threads\n",
            "2021-03-12 12:59:49,904 : INFO : worker thread finished; awaiting finish of 0 more threads\n",
            "2021-03-12 12:59:49,906 : INFO : EPOCH - 23 : training on 9227204 raw words (8223445 effective words) took 22.1s, 371964 effective words/s\n",
            "2021-03-12 12:59:50,944 : INFO : EPOCH 24 - PROGRESS: at 3.91% examples, 313355 words/s, in_qsize 15, out_qsize 0\n",
            "2021-03-12 12:59:51,945 : INFO : EPOCH 24 - PROGRESS: at 8.69% examples, 352084 words/s, in_qsize 15, out_qsize 1\n",
            "2021-03-12 12:59:52,957 : INFO : EPOCH 24 - PROGRESS: at 13.25% examples, 357997 words/s, in_qsize 16, out_qsize 0\n",
            "2021-03-12 12:59:53,985 : INFO : EPOCH 24 - PROGRESS: at 18.00% examples, 363760 words/s, in_qsize 14, out_qsize 1\n",
            "2021-03-12 12:59:55,037 : INFO : EPOCH 24 - PROGRESS: at 22.11% examples, 355180 words/s, in_qsize 15, out_qsize 4\n",
            "2021-03-12 12:59:56,119 : INFO : EPOCH 24 - PROGRESS: at 27.10% examples, 359348 words/s, in_qsize 15, out_qsize 0\n",
            "2021-03-12 12:59:57,158 : INFO : EPOCH 24 - PROGRESS: at 31.64% examples, 359466 words/s, in_qsize 15, out_qsize 0\n",
            "2021-03-12 12:59:58,165 : INFO : EPOCH 24 - PROGRESS: at 36.61% examples, 365200 words/s, in_qsize 16, out_qsize 0\n",
            "2021-03-12 12:59:59,230 : INFO : EPOCH 24 - PROGRESS: at 41.16% examples, 364473 words/s, in_qsize 15, out_qsize 1\n",
            "2021-03-12 13:00:00,210 : INFO : EPOCH 24 - PROGRESS: at 45.48% examples, 363607 words/s, in_qsize 11, out_qsize 3\n",
            "2021-03-12 13:00:01,220 : INFO : EPOCH 24 - PROGRESS: at 50.02% examples, 364228 words/s, in_qsize 13, out_qsize 1\n",
            "2021-03-12 13:00:02,303 : INFO : EPOCH 24 - PROGRESS: at 55.10% examples, 366768 words/s, in_qsize 15, out_qsize 0\n",
            "2021-03-12 13:00:03,306 : INFO : EPOCH 24 - PROGRESS: at 59.55% examples, 366072 words/s, in_qsize 15, out_qsize 0\n",
            "2021-03-12 13:00:04,431 : INFO : EPOCH 24 - PROGRESS: at 64.40% examples, 365317 words/s, in_qsize 16, out_qsize 4\n",
            "2021-03-12 13:00:05,459 : INFO : EPOCH 24 - PROGRESS: at 69.07% examples, 366023 words/s, in_qsize 15, out_qsize 3\n",
            "2021-03-12 13:00:06,518 : INFO : EPOCH 24 - PROGRESS: at 73.83% examples, 366898 words/s, in_qsize 16, out_qsize 0\n",
            "2021-03-12 13:00:07,517 : INFO : EPOCH 24 - PROGRESS: at 78.40% examples, 366540 words/s, in_qsize 16, out_qsize 0\n",
            "2021-03-12 13:00:08,586 : INFO : EPOCH 24 - PROGRESS: at 83.07% examples, 366691 words/s, in_qsize 15, out_qsize 2\n",
            "2021-03-12 13:00:09,563 : INFO : EPOCH 24 - PROGRESS: at 87.73% examples, 367372 words/s, in_qsize 16, out_qsize 0\n",
            "2021-03-12 13:00:10,583 : INFO : EPOCH 24 - PROGRESS: at 91.95% examples, 366036 words/s, in_qsize 13, out_qsize 2\n",
            "2021-03-12 13:00:11,636 : INFO : EPOCH 24 - PROGRESS: at 96.74% examples, 366346 words/s, in_qsize 14, out_qsize 1\n",
            "2021-03-12 13:00:12,130 : INFO : worker thread finished; awaiting finish of 7 more threads\n",
            "2021-03-12 13:00:12,131 : INFO : worker thread finished; awaiting finish of 6 more threads\n",
            "2021-03-12 13:00:12,145 : INFO : worker thread finished; awaiting finish of 5 more threads\n",
            "2021-03-12 13:00:12,155 : INFO : worker thread finished; awaiting finish of 4 more threads\n",
            "2021-03-12 13:00:12,159 : INFO : worker thread finished; awaiting finish of 3 more threads\n",
            "2021-03-12 13:00:12,167 : INFO : worker thread finished; awaiting finish of 2 more threads\n",
            "2021-03-12 13:00:12,176 : INFO : worker thread finished; awaiting finish of 1 more threads\n",
            "2021-03-12 13:00:12,182 : INFO : worker thread finished; awaiting finish of 0 more threads\n",
            "2021-03-12 13:00:12,184 : INFO : EPOCH - 24 : training on 9227204 raw words (8223545 effective words) took 22.3s, 369371 effective words/s\n",
            "2021-03-12 13:00:13,257 : INFO : EPOCH 25 - PROGRESS: at 4.13% examples, 319671 words/s, in_qsize 16, out_qsize 0\n",
            "2021-03-12 13:00:14,257 : INFO : EPOCH 25 - PROGRESS: at 8.80% examples, 350446 words/s, in_qsize 16, out_qsize 1\n",
            "2021-03-12 13:00:15,268 : INFO : EPOCH 25 - PROGRESS: at 13.57% examples, 362650 words/s, in_qsize 16, out_qsize 1\n",
            "2021-03-12 13:00:16,381 : INFO : EPOCH 25 - PROGRESS: at 18.32% examples, 359790 words/s, in_qsize 15, out_qsize 1\n",
            "2021-03-12 13:00:17,382 : INFO : EPOCH 25 - PROGRESS: at 22.98% examples, 364263 words/s, in_qsize 15, out_qsize 0\n",
            "2021-03-12 13:00:18,427 : INFO : EPOCH 25 - PROGRESS: at 27.42% examples, 361800 words/s, in_qsize 13, out_qsize 2\n",
            "2021-03-12 13:00:19,467 : INFO : EPOCH 25 - PROGRESS: at 32.73% examples, 370031 words/s, in_qsize 15, out_qsize 0\n",
            "2021-03-12 13:00:20,552 : INFO : EPOCH 25 - PROGRESS: at 37.37% examples, 367860 words/s, in_qsize 15, out_qsize 1\n",
            "2021-03-12 13:00:21,606 : INFO : EPOCH 25 - PROGRESS: at 42.03% examples, 367335 words/s, in_qsize 15, out_qsize 0\n",
            "2021-03-12 13:00:22,625 : INFO : EPOCH 25 - PROGRESS: at 46.89% examples, 369912 words/s, in_qsize 15, out_qsize 0\n",
            "2021-03-12 13:00:23,653 : INFO : EPOCH 25 - PROGRESS: at 51.10% examples, 367056 words/s, in_qsize 13, out_qsize 2\n",
            "2021-03-12 13:00:24,655 : INFO : EPOCH 25 - PROGRESS: at 55.86% examples, 369002 words/s, in_qsize 16, out_qsize 2\n",
            "2021-03-12 13:00:25,754 : INFO : EPOCH 25 - PROGRESS: at 60.63% examples, 368557 words/s, in_qsize 16, out_qsize 3\n",
            "2021-03-12 13:00:26,735 : INFO : EPOCH 25 - PROGRESS: at 64.95% examples, 367681 words/s, in_qsize 15, out_qsize 0\n",
            "2021-03-12 13:00:27,743 : INFO : EPOCH 25 - PROGRESS: at 69.61% examples, 368466 words/s, in_qsize 15, out_qsize 0\n",
            "2021-03-12 13:00:28,843 : INFO : EPOCH 25 - PROGRESS: at 74.37% examples, 368231 words/s, in_qsize 16, out_qsize 1\n",
            "2021-03-12 13:00:29,822 : INFO : EPOCH 25 - PROGRESS: at 78.95% examples, 368451 words/s, in_qsize 15, out_qsize 0\n",
            "2021-03-12 13:00:30,837 : INFO : EPOCH 25 - PROGRESS: at 83.29% examples, 367513 words/s, in_qsize 15, out_qsize 6\n",
            "2021-03-12 13:00:31,932 : INFO : EPOCH 25 - PROGRESS: at 88.48% examples, 368788 words/s, in_qsize 15, out_qsize 0\n",
            "2021-03-12 13:00:33,079 : INFO : EPOCH 25 - PROGRESS: at 93.16% examples, 366838 words/s, in_qsize 15, out_qsize 5\n",
            "2021-03-12 13:00:34,100 : INFO : EPOCH 25 - PROGRESS: at 98.25% examples, 368854 words/s, in_qsize 15, out_qsize 0\n",
            "2021-03-12 13:00:34,312 : INFO : worker thread finished; awaiting finish of 7 more threads\n",
            "2021-03-12 13:00:34,322 : INFO : worker thread finished; awaiting finish of 6 more threads\n",
            "2021-03-12 13:00:34,341 : INFO : worker thread finished; awaiting finish of 5 more threads\n",
            "2021-03-12 13:00:34,357 : INFO : worker thread finished; awaiting finish of 4 more threads\n",
            "2021-03-12 13:00:34,414 : INFO : worker thread finished; awaiting finish of 3 more threads\n",
            "2021-03-12 13:00:34,418 : INFO : worker thread finished; awaiting finish of 2 more threads\n",
            "2021-03-12 13:00:34,431 : INFO : worker thread finished; awaiting finish of 1 more threads\n",
            "2021-03-12 13:00:34,442 : INFO : worker thread finished; awaiting finish of 0 more threads\n",
            "2021-03-12 13:00:34,444 : INFO : EPOCH - 25 : training on 9227204 raw words (8222027 effective words) took 22.2s, 369605 effective words/s\n",
            "2021-03-12 13:00:35,507 : INFO : EPOCH 26 - PROGRESS: at 4.01% examples, 314156 words/s, in_qsize 15, out_qsize 0\n",
            "2021-03-12 13:00:36,597 : INFO : EPOCH 26 - PROGRESS: at 8.80% examples, 337326 words/s, in_qsize 15, out_qsize 1\n",
            "2021-03-12 13:00:37,623 : INFO : EPOCH 26 - PROGRESS: at 13.58% examples, 351777 words/s, in_qsize 14, out_qsize 1\n",
            "2021-03-12 13:00:38,670 : INFO : EPOCH 26 - PROGRESS: at 17.89% examples, 350990 words/s, in_qsize 15, out_qsize 1\n",
            "2021-03-12 13:00:39,766 : INFO : EPOCH 26 - PROGRESS: at 23.30% examples, 360801 words/s, in_qsize 15, out_qsize 0\n",
            "2021-03-12 13:00:40,778 : INFO : EPOCH 26 - PROGRESS: at 28.07% examples, 365026 words/s, in_qsize 16, out_qsize 0\n",
            "2021-03-12 13:00:41,805 : INFO : EPOCH 26 - PROGRESS: at 32.30% examples, 361300 words/s, in_qsize 14, out_qsize 1\n",
            "2021-03-12 13:00:42,841 : INFO : EPOCH 26 - PROGRESS: at 36.73% examples, 360206 words/s, in_qsize 14, out_qsize 1\n",
            "2021-03-12 13:00:43,937 : INFO : EPOCH 26 - PROGRESS: at 41.92% examples, 363649 words/s, in_qsize 15, out_qsize 0\n",
            "2021-03-12 13:00:44,967 : INFO : EPOCH 26 - PROGRESS: at 46.67% examples, 365290 words/s, in_qsize 15, out_qsize 0\n",
            "2021-03-12 13:00:45,982 : INFO : EPOCH 26 - PROGRESS: at 51.53% examples, 367960 words/s, in_qsize 15, out_qsize 0\n",
            "2021-03-12 13:00:47,028 : INFO : EPOCH 26 - PROGRESS: at 55.75% examples, 364987 words/s, in_qsize 16, out_qsize 0\n",
            "2021-03-12 13:00:48,059 : INFO : EPOCH 26 - PROGRESS: at 60.96% examples, 368738 words/s, in_qsize 15, out_qsize 0\n",
            "2021-03-12 13:00:49,089 : INFO : EPOCH 26 - PROGRESS: at 65.50% examples, 368353 words/s, in_qsize 15, out_qsize 0\n",
            "2021-03-12 13:00:50,145 : INFO : EPOCH 26 - PROGRESS: at 69.83% examples, 366270 words/s, in_qsize 12, out_qsize 3\n",
            "2021-03-12 13:00:51,147 : INFO : EPOCH 26 - PROGRESS: at 74.81% examples, 368835 words/s, in_qsize 16, out_qsize 0\n",
            "2021-03-12 13:00:52,189 : INFO : EPOCH 26 - PROGRESS: at 79.05% examples, 366735 words/s, in_qsize 15, out_qsize 0\n",
            "2021-03-12 13:00:53,291 : INFO : EPOCH 26 - PROGRESS: at 83.94% examples, 366554 words/s, in_qsize 15, out_qsize 0\n",
            "2021-03-12 13:00:54,337 : INFO : EPOCH 26 - PROGRESS: at 88.70% examples, 367002 words/s, in_qsize 15, out_qsize 0\n",
            "2021-03-12 13:00:55,377 : INFO : EPOCH 26 - PROGRESS: at 92.94% examples, 365331 words/s, in_qsize 16, out_qsize 2\n",
            "2021-03-12 13:00:56,449 : INFO : EPOCH 26 - PROGRESS: at 97.61% examples, 365091 words/s, in_qsize 16, out_qsize 6\n",
            "2021-03-12 13:00:56,698 : INFO : worker thread finished; awaiting finish of 7 more threads\n",
            "2021-03-12 13:00:56,704 : INFO : worker thread finished; awaiting finish of 6 more threads\n",
            "2021-03-12 13:00:56,716 : INFO : worker thread finished; awaiting finish of 5 more threads\n",
            "2021-03-12 13:00:56,726 : INFO : worker thread finished; awaiting finish of 4 more threads\n",
            "2021-03-12 13:00:56,785 : INFO : worker thread finished; awaiting finish of 3 more threads\n",
            "2021-03-12 13:00:56,806 : INFO : worker thread finished; awaiting finish of 2 more threads\n",
            "2021-03-12 13:00:56,815 : INFO : worker thread finished; awaiting finish of 1 more threads\n",
            "2021-03-12 13:00:56,819 : INFO : worker thread finished; awaiting finish of 0 more threads\n",
            "2021-03-12 13:00:56,820 : INFO : EPOCH - 26 : training on 9227204 raw words (8222164 effective words) took 22.4s, 367682 effective words/s\n",
            "2021-03-12 13:00:57,888 : INFO : EPOCH 27 - PROGRESS: at 5.00% examples, 392093 words/s, in_qsize 15, out_qsize 0\n",
            "2021-03-12 13:00:58,933 : INFO : EPOCH 27 - PROGRESS: at 9.45% examples, 370889 words/s, in_qsize 15, out_qsize 0\n",
            "2021-03-12 13:00:59,973 : INFO : EPOCH 27 - PROGRESS: at 13.79% examples, 361549 words/s, in_qsize 16, out_qsize 2\n",
            "2021-03-12 13:01:01,002 : INFO : EPOCH 27 - PROGRESS: at 18.65% examples, 368335 words/s, in_qsize 15, out_qsize 0\n",
            "2021-03-12 13:01:02,005 : INFO : EPOCH 27 - PROGRESS: at 23.09% examples, 367581 words/s, in_qsize 16, out_qsize 3\n",
            "2021-03-12 13:01:03,012 : INFO : EPOCH 27 - PROGRESS: at 28.50% examples, 379816 words/s, in_qsize 16, out_qsize 0\n",
            "2021-03-12 13:01:04,130 : INFO : EPOCH 27 - PROGRESS: at 33.27% examples, 375337 words/s, in_qsize 15, out_qsize 0\n",
            "2021-03-12 13:01:05,197 : INFO : EPOCH 27 - PROGRESS: at 38.14% examples, 375385 words/s, in_qsize 13, out_qsize 2\n",
            "2021-03-12 13:01:06,231 : INFO : EPOCH 27 - PROGRESS: at 42.68% examples, 373881 words/s, in_qsize 13, out_qsize 2\n",
            "2021-03-12 13:01:07,240 : INFO : EPOCH 27 - PROGRESS: at 47.32% examples, 374461 words/s, in_qsize 13, out_qsize 2\n",
            "2021-03-12 13:01:08,244 : INFO : EPOCH 27 - PROGRESS: at 51.64% examples, 372766 words/s, in_qsize 9, out_qsize 6\n",
            "2021-03-12 13:01:09,253 : INFO : EPOCH 27 - PROGRESS: at 56.62% examples, 375490 words/s, in_qsize 15, out_qsize 0\n",
            "2021-03-12 13:01:10,269 : INFO : EPOCH 27 - PROGRESS: at 61.17% examples, 374944 words/s, in_qsize 15, out_qsize 1\n",
            "2021-03-12 13:01:11,315 : INFO : EPOCH 27 - PROGRESS: at 65.39% examples, 371842 words/s, in_qsize 14, out_qsize 1\n",
            "2021-03-12 13:01:12,323 : INFO : EPOCH 27 - PROGRESS: at 69.94% examples, 371799 words/s, in_qsize 15, out_qsize 0\n",
            "2021-03-12 13:01:13,415 : INFO : EPOCH 27 - PROGRESS: at 74.70% examples, 370951 words/s, in_qsize 13, out_qsize 2\n",
            "2021-03-12 13:01:14,425 : INFO : EPOCH 27 - PROGRESS: at 79.60% examples, 372428 words/s, in_qsize 15, out_qsize 0\n",
            "2021-03-12 13:01:15,496 : INFO : EPOCH 27 - PROGRESS: at 84.48% examples, 372537 words/s, in_qsize 15, out_qsize 0\n",
            "2021-03-12 13:01:16,497 : INFO : EPOCH 27 - PROGRESS: at 88.91% examples, 372145 words/s, in_qsize 15, out_qsize 0\n",
            "2021-03-12 13:01:17,511 : INFO : EPOCH 27 - PROGRESS: at 93.48% examples, 371959 words/s, in_qsize 16, out_qsize 0\n",
            "2021-03-12 13:01:18,525 : INFO : EPOCH 27 - PROGRESS: at 98.14% examples, 372215 words/s, in_qsize 15, out_qsize 0\n",
            "2021-03-12 13:01:18,773 : INFO : worker thread finished; awaiting finish of 7 more threads\n",
            "2021-03-12 13:01:18,782 : INFO : worker thread finished; awaiting finish of 6 more threads\n",
            "2021-03-12 13:01:18,784 : INFO : worker thread finished; awaiting finish of 5 more threads\n",
            "2021-03-12 13:01:18,807 : INFO : worker thread finished; awaiting finish of 4 more threads\n",
            "2021-03-12 13:01:18,818 : INFO : worker thread finished; awaiting finish of 3 more threads\n",
            "2021-03-12 13:01:18,847 : INFO : worker thread finished; awaiting finish of 2 more threads\n",
            "2021-03-12 13:01:18,857 : INFO : worker thread finished; awaiting finish of 1 more threads\n",
            "2021-03-12 13:01:18,859 : INFO : worker thread finished; awaiting finish of 0 more threads\n",
            "2021-03-12 13:01:18,860 : INFO : EPOCH - 27 : training on 9227204 raw words (8222874 effective words) took 22.0s, 373476 effective words/s\n",
            "2021-03-12 13:01:19,890 : INFO : EPOCH 28 - PROGRESS: at 4.23% examples, 341766 words/s, in_qsize 14, out_qsize 1\n",
            "2021-03-12 13:01:20,915 : INFO : EPOCH 28 - PROGRESS: at 8.47% examples, 340242 words/s, in_qsize 15, out_qsize 3\n",
            "2021-03-12 13:01:21,938 : INFO : EPOCH 28 - PROGRESS: at 13.14% examples, 351765 words/s, in_qsize 13, out_qsize 6\n",
            "2021-03-12 13:01:22,994 : INFO : EPOCH 28 - PROGRESS: at 17.89% examples, 356555 words/s, in_qsize 11, out_qsize 4\n",
            "2021-03-12 13:01:24,071 : INFO : EPOCH 28 - PROGRESS: at 22.76% examples, 359863 words/s, in_qsize 16, out_qsize 1\n",
            "2021-03-12 13:01:25,110 : INFO : EPOCH 28 - PROGRESS: at 27.64% examples, 364201 words/s, in_qsize 15, out_qsize 0\n",
            "2021-03-12 13:01:26,162 : INFO : EPOCH 28 - PROGRESS: at 32.41% examples, 365408 words/s, in_qsize 15, out_qsize 0\n",
            "2021-03-12 13:01:27,203 : INFO : EPOCH 28 - PROGRESS: at 36.94% examples, 364642 words/s, in_qsize 15, out_qsize 1\n",
            "2021-03-12 13:01:28,233 : INFO : EPOCH 28 - PROGRESS: at 41.48% examples, 364478 words/s, in_qsize 15, out_qsize 0\n",
            "2021-03-12 13:01:29,273 : INFO : EPOCH 28 - PROGRESS: at 46.35% examples, 366562 words/s, in_qsize 11, out_qsize 4\n",
            "2021-03-12 13:01:30,281 : INFO : EPOCH 28 - PROGRESS: at 51.21% examples, 369335 words/s, in_qsize 16, out_qsize 0\n",
            "2021-03-12 13:01:31,374 : INFO : EPOCH 28 - PROGRESS: at 55.64% examples, 366326 words/s, in_qsize 16, out_qsize 1\n",
            "2021-03-12 13:01:32,387 : INFO : EPOCH 28 - PROGRESS: at 60.74% examples, 369827 words/s, in_qsize 15, out_qsize 0\n",
            "2021-03-12 13:01:33,438 : INFO : EPOCH 28 - PROGRESS: at 65.39% examples, 370221 words/s, in_qsize 15, out_qsize 3\n",
            "2021-03-12 13:01:34,415 : INFO : EPOCH 28 - PROGRESS: at 70.69% examples, 374277 words/s, in_qsize 16, out_qsize 0\n",
            "2021-03-12 13:01:35,418 : INFO : EPOCH 28 - PROGRESS: at 75.24% examples, 374186 words/s, in_qsize 15, out_qsize 0\n",
            "2021-03-12 13:01:36,513 : INFO : EPOCH 28 - PROGRESS: at 79.81% examples, 372140 words/s, in_qsize 14, out_qsize 1\n",
            "2021-03-12 13:01:37,533 : INFO : EPOCH 28 - PROGRESS: at 83.82% examples, 369813 words/s, in_qsize 16, out_qsize 4\n",
            "2021-03-12 13:01:38,561 : INFO : EPOCH 28 - PROGRESS: at 88.70% examples, 370538 words/s, in_qsize 15, out_qsize 0\n",
            "2021-03-12 13:01:39,578 : INFO : EPOCH 28 - PROGRESS: at 93.15% examples, 369936 words/s, in_qsize 10, out_qsize 5\n",
            "2021-03-12 13:01:40,662 : INFO : EPOCH 28 - PROGRESS: at 98.26% examples, 370749 words/s, in_qsize 14, out_qsize 1\n",
            "2021-03-12 13:01:40,808 : INFO : worker thread finished; awaiting finish of 7 more threads\n",
            "2021-03-12 13:01:40,833 : INFO : worker thread finished; awaiting finish of 6 more threads\n",
            "2021-03-12 13:01:40,845 : INFO : worker thread finished; awaiting finish of 5 more threads\n",
            "2021-03-12 13:01:40,902 : INFO : worker thread finished; awaiting finish of 4 more threads\n",
            "2021-03-12 13:01:40,904 : INFO : worker thread finished; awaiting finish of 3 more threads\n",
            "2021-03-12 13:01:40,906 : INFO : worker thread finished; awaiting finish of 2 more threads\n",
            "2021-03-12 13:01:40,911 : INFO : worker thread finished; awaiting finish of 1 more threads\n",
            "2021-03-12 13:01:40,916 : INFO : worker thread finished; awaiting finish of 0 more threads\n",
            "2021-03-12 13:01:40,918 : INFO : EPOCH - 28 : training on 9227204 raw words (8221707 effective words) took 22.0s, 372952 effective words/s\n",
            "2021-03-12 13:01:41,955 : INFO : EPOCH 29 - PROGRESS: at 4.13% examples, 333182 words/s, in_qsize 15, out_qsize 0\n",
            "2021-03-12 13:01:43,011 : INFO : EPOCH 29 - PROGRESS: at 8.37% examples, 331167 words/s, in_qsize 15, out_qsize 1\n",
            "2021-03-12 13:01:44,027 : INFO : EPOCH 29 - PROGRESS: at 13.15% examples, 349228 words/s, in_qsize 14, out_qsize 1\n",
            "2021-03-12 13:01:45,099 : INFO : EPOCH 29 - PROGRESS: at 17.57% examples, 352199 words/s, in_qsize 16, out_qsize 4\n",
            "2021-03-12 13:01:46,066 : INFO : EPOCH 29 - PROGRESS: at 22.22% examples, 356293 words/s, in_qsize 15, out_qsize 0\n",
            "2021-03-12 13:01:47,140 : INFO : EPOCH 29 - PROGRESS: at 27.10% examples, 359263 words/s, in_qsize 15, out_qsize 0\n",
            "2021-03-12 13:01:48,278 : INFO : EPOCH 29 - PROGRESS: at 31.86% examples, 358165 words/s, in_qsize 13, out_qsize 7\n",
            "2021-03-12 13:01:49,310 : INFO : EPOCH 29 - PROGRESS: at 36.83% examples, 361867 words/s, in_qsize 16, out_qsize 0\n",
            "2021-03-12 13:01:50,396 : INFO : EPOCH 29 - PROGRESS: at 41.59% examples, 361729 words/s, in_qsize 16, out_qsize 1\n",
            "2021-03-12 13:01:51,417 : INFO : EPOCH 29 - PROGRESS: at 46.35% examples, 363890 words/s, in_qsize 15, out_qsize 0\n",
            "2021-03-12 13:01:52,467 : INFO : EPOCH 29 - PROGRESS: at 50.99% examples, 363994 words/s, in_qsize 16, out_qsize 0\n",
            "2021-03-12 13:01:53,505 : INFO : EPOCH 29 - PROGRESS: at 55.86% examples, 365847 words/s, in_qsize 16, out_qsize 0\n",
            "2021-03-12 13:01:54,521 : INFO : EPOCH 29 - PROGRESS: at 60.52% examples, 366676 words/s, in_qsize 15, out_qsize 0\n",
            "2021-03-12 13:01:55,565 : INFO : EPOCH 29 - PROGRESS: at 65.17% examples, 366720 words/s, in_qsize 15, out_qsize 0\n",
            "2021-03-12 13:01:56,657 : INFO : EPOCH 29 - PROGRESS: at 69.83% examples, 365592 words/s, in_qsize 14, out_qsize 1\n",
            "2021-03-12 13:01:57,714 : INFO : EPOCH 29 - PROGRESS: at 74.81% examples, 366973 words/s, in_qsize 15, out_qsize 0\n",
            "2021-03-12 13:01:58,733 : INFO : EPOCH 29 - PROGRESS: at 79.49% examples, 367454 words/s, in_qsize 15, out_qsize 0\n",
            "2021-03-12 13:01:59,783 : INFO : EPOCH 29 - PROGRESS: at 84.48% examples, 368739 words/s, in_qsize 16, out_qsize 1\n",
            "2021-03-12 13:02:00,885 : INFO : EPOCH 29 - PROGRESS: at 89.13% examples, 367566 words/s, in_qsize 14, out_qsize 1\n",
            "2021-03-12 13:02:01,927 : INFO : EPOCH 29 - PROGRESS: at 93.92% examples, 367965 words/s, in_qsize 15, out_qsize 0\n",
            "2021-03-12 13:02:02,963 : INFO : EPOCH 29 - PROGRESS: at 98.25% examples, 366829 words/s, in_qsize 13, out_qsize 4\n",
            "2021-03-12 13:02:03,142 : INFO : worker thread finished; awaiting finish of 7 more threads\n",
            "2021-03-12 13:02:03,144 : INFO : worker thread finished; awaiting finish of 6 more threads\n",
            "2021-03-12 13:02:03,145 : INFO : worker thread finished; awaiting finish of 5 more threads\n",
            "2021-03-12 13:02:03,146 : INFO : worker thread finished; awaiting finish of 4 more threads\n",
            "2021-03-12 13:02:03,153 : INFO : worker thread finished; awaiting finish of 3 more threads\n",
            "2021-03-12 13:02:03,167 : INFO : worker thread finished; awaiting finish of 2 more threads\n",
            "2021-03-12 13:02:03,194 : INFO : worker thread finished; awaiting finish of 1 more threads\n",
            "2021-03-12 13:02:03,207 : INFO : worker thread finished; awaiting finish of 0 more threads\n",
            "2021-03-12 13:02:03,209 : INFO : EPOCH - 29 : training on 9227204 raw words (8222586 effective words) took 22.3s, 369233 effective words/s\n",
            "2021-03-12 13:02:04,265 : INFO : EPOCH 30 - PROGRESS: at 4.12% examples, 327973 words/s, in_qsize 12, out_qsize 3\n",
            "2021-03-12 13:02:05,277 : INFO : EPOCH 30 - PROGRESS: at 9.55% examples, 383509 words/s, in_qsize 16, out_qsize 0\n",
            "2021-03-12 13:02:06,278 : INFO : EPOCH 30 - PROGRESS: at 14.00% examples, 377450 words/s, in_qsize 13, out_qsize 1\n",
            "2021-03-12 13:02:07,280 : INFO : EPOCH 30 - PROGRESS: at 18.65% examples, 378553 words/s, in_qsize 15, out_qsize 0\n",
            "2021-03-12 13:02:08,300 : INFO : EPOCH 30 - PROGRESS: at 23.09% examples, 374448 words/s, in_qsize 15, out_qsize 0\n",
            "2021-03-12 13:02:09,311 : INFO : EPOCH 30 - PROGRESS: at 27.53% examples, 372298 words/s, in_qsize 16, out_qsize 1\n",
            "2021-03-12 13:02:10,331 : INFO : EPOCH 30 - PROGRESS: at 32.30% examples, 374018 words/s, in_qsize 15, out_qsize 0\n",
            "2021-03-12 13:02:11,378 : INFO : EPOCH 30 - PROGRESS: at 36.62% examples, 369675 words/s, in_qsize 14, out_qsize 1\n",
            "2021-03-12 13:02:12,381 : INFO : EPOCH 30 - PROGRESS: at 41.59% examples, 373945 words/s, in_qsize 13, out_qsize 1\n",
            "2021-03-12 13:02:13,385 : INFO : EPOCH 30 - PROGRESS: at 45.70% examples, 370307 words/s, in_qsize 16, out_qsize 1\n",
            "2021-03-12 13:02:14,395 : INFO : EPOCH 30 - PROGRESS: at 50.56% examples, 372739 words/s, in_qsize 15, out_qsize 0\n",
            "2021-03-12 13:02:15,491 : INFO : EPOCH 30 - PROGRESS: at 55.32% examples, 371431 words/s, in_qsize 14, out_qsize 1\n",
            "2021-03-12 13:02:16,508 : INFO : EPOCH 30 - PROGRESS: at 60.09% examples, 372508 words/s, in_qsize 13, out_qsize 2\n",
            "2021-03-12 13:02:17,610 : INFO : EPOCH 30 - PROGRESS: at 64.84% examples, 371189 words/s, in_qsize 11, out_qsize 6\n",
            "2021-03-12 13:02:18,650 : INFO : EPOCH 30 - PROGRESS: at 69.94% examples, 373304 words/s, in_qsize 15, out_qsize 0\n",
            "2021-03-12 13:02:19,670 : INFO : EPOCH 30 - PROGRESS: at 74.05% examples, 370741 words/s, in_qsize 16, out_qsize 4\n",
            "2021-03-12 13:02:20,698 : INFO : EPOCH 30 - PROGRESS: at 79.38% examples, 373900 words/s, in_qsize 15, out_qsize 0\n",
            "2021-03-12 13:02:21,752 : INFO : EPOCH 30 - PROGRESS: at 83.94% examples, 372824 words/s, in_qsize 15, out_qsize 0\n",
            "2021-03-12 13:02:22,779 : INFO : EPOCH 30 - PROGRESS: at 88.59% examples, 372831 words/s, in_qsize 15, out_qsize 0\n",
            "2021-03-12 13:02:23,795 : INFO : EPOCH 30 - PROGRESS: at 93.15% examples, 372563 words/s, in_qsize 15, out_qsize 0\n",
            "2021-03-12 13:02:24,863 : INFO : EPOCH 30 - PROGRESS: at 97.82% examples, 371865 words/s, in_qsize 15, out_qsize 0\n",
            "2021-03-12 13:02:25,113 : INFO : worker thread finished; awaiting finish of 7 more threads\n",
            "2021-03-12 13:02:25,134 : INFO : worker thread finished; awaiting finish of 6 more threads\n",
            "2021-03-12 13:02:25,149 : INFO : worker thread finished; awaiting finish of 5 more threads\n",
            "2021-03-12 13:02:25,162 : INFO : worker thread finished; awaiting finish of 4 more threads\n",
            "2021-03-12 13:02:25,166 : INFO : worker thread finished; awaiting finish of 3 more threads\n",
            "2021-03-12 13:02:25,183 : INFO : worker thread finished; awaiting finish of 2 more threads\n",
            "2021-03-12 13:02:25,216 : INFO : worker thread finished; awaiting finish of 1 more threads\n",
            "2021-03-12 13:02:25,222 : INFO : worker thread finished; awaiting finish of 0 more threads\n",
            "2021-03-12 13:02:25,225 : INFO : EPOCH - 30 : training on 9227204 raw words (8222640 effective words) took 22.0s, 373895 effective words/s\n",
            "2021-03-12 13:02:26,245 : INFO : EPOCH 31 - PROGRESS: at 3.80% examples, 311499 words/s, in_qsize 16, out_qsize 1\n",
            "2021-03-12 13:02:27,257 : INFO : EPOCH 31 - PROGRESS: at 8.36% examples, 340824 words/s, in_qsize 16, out_qsize 0\n",
            "2021-03-12 13:02:28,283 : INFO : EPOCH 31 - PROGRESS: at 13.04% examples, 351721 words/s, in_qsize 14, out_qsize 3\n",
            "2021-03-12 13:02:29,293 : INFO : EPOCH 31 - PROGRESS: at 17.46% examples, 354146 words/s, in_qsize 16, out_qsize 1\n",
            "2021-03-12 13:02:30,353 : INFO : EPOCH 31 - PROGRESS: at 22.00% examples, 353916 words/s, in_qsize 14, out_qsize 1\n",
            "2021-03-12 13:02:31,416 : INFO : EPOCH 31 - PROGRESS: at 26.66% examples, 355085 words/s, in_qsize 16, out_qsize 2\n",
            "2021-03-12 13:02:32,500 : INFO : EPOCH 31 - PROGRESS: at 31.86% examples, 360954 words/s, in_qsize 16, out_qsize 0\n",
            "2021-03-12 13:02:33,546 : INFO : EPOCH 31 - PROGRESS: at 36.62% examples, 362647 words/s, in_qsize 15, out_qsize 2\n",
            "2021-03-12 13:02:34,605 : INFO : EPOCH 31 - PROGRESS: at 41.27% examples, 362544 words/s, in_qsize 16, out_qsize 2\n",
            "2021-03-12 13:02:35,714 : INFO : EPOCH 31 - PROGRESS: at 46.57% examples, 365880 words/s, in_qsize 10, out_qsize 5\n",
            "2021-03-12 13:02:36,718 : INFO : EPOCH 31 - PROGRESS: at 51.42% examples, 368808 words/s, in_qsize 14, out_qsize 1\n",
            "2021-03-12 13:02:37,823 : INFO : EPOCH 31 - PROGRESS: at 55.97% examples, 366206 words/s, in_qsize 14, out_qsize 4\n",
            "2021-03-12 13:02:38,847 : INFO : EPOCH 31 - PROGRESS: at 61.28% examples, 370709 words/s, in_qsize 15, out_qsize 0\n",
            "2021-03-12 13:02:39,849 : INFO : EPOCH 31 - PROGRESS: at 65.50% examples, 369071 words/s, in_qsize 14, out_qsize 1\n",
            "2021-03-12 13:02:40,918 : INFO : EPOCH 31 - PROGRESS: at 70.05% examples, 367791 words/s, in_qsize 16, out_qsize 2\n",
            "2021-03-12 13:02:42,098 : INFO : EPOCH 31 - PROGRESS: at 75.13% examples, 368217 words/s, in_qsize 12, out_qsize 7\n",
            "2021-03-12 13:02:43,088 : INFO : EPOCH 31 - PROGRESS: at 79.92% examples, 368493 words/s, in_qsize 16, out_qsize 2\n",
            "2021-03-12 13:02:44,138 : INFO : EPOCH 31 - PROGRESS: at 84.80% examples, 369225 words/s, in_qsize 15, out_qsize 0\n",
            "2021-03-12 13:02:45,189 : INFO : EPOCH 31 - PROGRESS: at 89.34% examples, 368532 words/s, in_qsize 15, out_qsize 3\n",
            "2021-03-12 13:02:46,250 : INFO : EPOCH 31 - PROGRESS: at 93.81% examples, 367280 words/s, in_qsize 9, out_qsize 6\n",
            "2021-03-12 13:02:47,281 : INFO : EPOCH 31 - PROGRESS: at 98.90% examples, 369099 words/s, in_qsize 10, out_qsize 1\n",
            "2021-03-12 13:02:47,310 : INFO : worker thread finished; awaiting finish of 7 more threads\n",
            "2021-03-12 13:02:47,357 : INFO : worker thread finished; awaiting finish of 6 more threads\n",
            "2021-03-12 13:02:47,358 : INFO : worker thread finished; awaiting finish of 5 more threads\n",
            "2021-03-12 13:02:47,382 : INFO : worker thread finished; awaiting finish of 4 more threads\n",
            "2021-03-12 13:02:47,392 : INFO : worker thread finished; awaiting finish of 3 more threads\n",
            "2021-03-12 13:02:47,394 : INFO : worker thread finished; awaiting finish of 2 more threads\n",
            "2021-03-12 13:02:47,395 : INFO : worker thread finished; awaiting finish of 1 more threads\n",
            "2021-03-12 13:02:47,396 : INFO : worker thread finished; awaiting finish of 0 more threads\n",
            "2021-03-12 13:02:47,398 : INFO : EPOCH - 31 : training on 9227204 raw words (8223999 effective words) took 22.2s, 371220 effective words/s\n",
            "2021-03-12 13:02:48,452 : INFO : EPOCH 32 - PROGRESS: at 4.45% examples, 355168 words/s, in_qsize 15, out_qsize 0\n",
            "2021-03-12 13:02:49,539 : INFO : EPOCH 32 - PROGRESS: at 8.80% examples, 341252 words/s, in_qsize 14, out_qsize 1\n",
            "2021-03-12 13:02:50,554 : INFO : EPOCH 32 - PROGRESS: at 13.36% examples, 350129 words/s, in_qsize 12, out_qsize 3\n",
            "2021-03-12 13:02:51,578 : INFO : EPOCH 32 - PROGRESS: at 17.89% examples, 353723 words/s, in_qsize 16, out_qsize 2\n",
            "2021-03-12 13:02:52,596 : INFO : EPOCH 32 - PROGRESS: at 22.87% examples, 363420 words/s, in_qsize 15, out_qsize 0\n",
            "2021-03-12 13:02:53,608 : INFO : EPOCH 32 - PROGRESS: at 27.53% examples, 365853 words/s, in_qsize 15, out_qsize 0\n",
            "2021-03-12 13:02:54,610 : INFO : EPOCH 32 - PROGRESS: at 31.54% examples, 360734 words/s, in_qsize 11, out_qsize 4\n",
            "2021-03-12 13:02:55,612 : INFO : EPOCH 32 - PROGRESS: at 36.29% examples, 364471 words/s, in_qsize 16, out_qsize 1\n",
            "2021-03-12 13:02:56,616 : INFO : EPOCH 32 - PROGRESS: at 41.05% examples, 367252 words/s, in_qsize 15, out_qsize 0\n",
            "2021-03-12 13:02:57,621 : INFO : EPOCH 32 - PROGRESS: at 45.59% examples, 367756 words/s, in_qsize 15, out_qsize 0\n",
            "2021-03-12 13:02:58,718 : INFO : EPOCH 32 - PROGRESS: at 49.92% examples, 363586 words/s, in_qsize 15, out_qsize 3\n",
            "2021-03-12 13:02:59,756 : INFO : EPOCH 32 - PROGRESS: at 54.99% examples, 367848 words/s, in_qsize 15, out_qsize 2\n",
            "2021-03-12 13:03:00,741 : INFO : EPOCH 32 - PROGRESS: at 59.66% examples, 368579 words/s, in_qsize 15, out_qsize 0\n",
            "2021-03-12 13:03:01,766 : INFO : EPOCH 32 - PROGRESS: at 64.08% examples, 367696 words/s, in_qsize 14, out_qsize 1\n",
            "2021-03-12 13:03:02,871 : INFO : EPOCH 32 - PROGRESS: at 68.75% examples, 366202 words/s, in_qsize 16, out_qsize 0\n",
            "2021-03-12 13:03:03,913 : INFO : EPOCH 32 - PROGRESS: at 73.52% examples, 366822 words/s, in_qsize 15, out_qsize 0\n",
            "2021-03-12 13:03:04,980 : INFO : EPOCH 32 - PROGRESS: at 78.29% examples, 366847 words/s, in_qsize 15, out_qsize 0\n",
            "2021-03-12 13:03:05,986 : INFO : EPOCH 32 - PROGRESS: at 83.29% examples, 369028 words/s, in_qsize 15, out_qsize 0\n",
            "2021-03-12 13:03:07,011 : INFO : EPOCH 32 - PROGRESS: at 87.61% examples, 367880 words/s, in_qsize 14, out_qsize 1\n",
            "2021-03-12 13:03:08,017 : INFO : EPOCH 32 - PROGRESS: at 92.39% examples, 368932 words/s, in_qsize 15, out_qsize 0\n",
            "2021-03-12 13:03:09,021 : INFO : EPOCH 32 - PROGRESS: at 97.07% examples, 369483 words/s, in_qsize 15, out_qsize 0\n",
            "2021-03-12 13:03:09,567 : INFO : worker thread finished; awaiting finish of 7 more threads\n",
            "2021-03-12 13:03:09,571 : INFO : worker thread finished; awaiting finish of 6 more threads\n",
            "2021-03-12 13:03:09,572 : INFO : worker thread finished; awaiting finish of 5 more threads\n",
            "2021-03-12 13:03:09,581 : INFO : worker thread finished; awaiting finish of 4 more threads\n",
            "2021-03-12 13:03:09,587 : INFO : worker thread finished; awaiting finish of 3 more threads\n",
            "2021-03-12 13:03:09,593 : INFO : worker thread finished; awaiting finish of 2 more threads\n",
            "2021-03-12 13:03:09,614 : INFO : worker thread finished; awaiting finish of 1 more threads\n",
            "2021-03-12 13:03:09,643 : INFO : worker thread finished; awaiting finish of 0 more threads\n",
            "2021-03-12 13:03:09,644 : INFO : EPOCH - 32 : training on 9227204 raw words (8221257 effective words) took 22.2s, 369997 effective words/s\n",
            "2021-03-12 13:03:09,648 : INFO : training on a 295270528 raw words (263128246 effective words) took 709.3s, 370990 effective words/s\n"
          ],
          "name": "stderr"
        },
        {
          "output_type": "stream",
          "text": [
            "CPU times: user 22min 43s, sys: 7.19 s, total: 22min 51s\n",
            "Wall time: 11min 49s\n"
          ],
          "name": "stdout"
        },
        {
          "output_type": "execute_result",
          "data": {
            "text/plain": [
              "(263128246, 295270528)"
            ]
          },
          "metadata": {
            "tags": []
          },
          "execution_count": 27
        }
      ]
    },
    {
      "cell_type": "code",
      "metadata": {
        "colab": {
          "base_uri": "https://localhost:8080/"
        },
        "id": "Lb62MkGvxhzz",
        "outputId": "5bc5278a-a805-4c45-908b-1c7ab2faf686"
      },
      "source": [
        "w2v_model.most_similar(\"love\")"
      ],
      "execution_count": null,
      "outputs": [
        {
          "output_type": "stream",
          "text": [
            "/usr/local/lib/python3.7/dist-packages/ipykernel_launcher.py:1: DeprecationWarning: Call to deprecated `most_similar` (Method will be removed in 4.0.0, use self.wv.most_similar() instead).\n",
            "  \"\"\"Entry point for launching an IPython kernel.\n",
            "2021-03-12 13:05:40,485 : INFO : precomputing L2-norms of word weight vectors\n"
          ],
          "name": "stderr"
        },
        {
          "output_type": "execute_result",
          "data": {
            "text/plain": [
              "[('loves', 0.5638753175735474),\n",
              " ('luv', 0.5588757991790771),\n",
              " ('loved', 0.5300036668777466),\n",
              " ('adore', 0.5222017168998718),\n",
              " ('amazing', 0.5101523399353027),\n",
              " ('looove', 0.49168407917022705),\n",
              " ('awesome', 0.46474575996398926),\n",
              " ('loooove', 0.4537327289581299),\n",
              " ('loveee', 0.45187216997146606),\n",
              " ('loove', 0.4455486536026001)]"
            ]
          },
          "metadata": {
            "tags": []
          },
          "execution_count": 28
        }
      ]
    },
    {
      "cell_type": "code",
      "metadata": {
        "colab": {
          "base_uri": "https://localhost:8080/"
        },
        "id": "E9SmmE0Axhz0",
        "outputId": "3a3bdb8f-d640-45e8-8370-42222ceba8e9"
      },
      "source": [
        "tokenizer = Tokenizer()\n",
        "tokenizer.fit_on_texts(df_train.text)\n",
        "\n",
        "vocab_size = len(tokenizer.word_index) + 1\n",
        "print(\"Total words\", vocab_size)"
      ],
      "execution_count": null,
      "outputs": [
        {
          "output_type": "stream",
          "text": [
            "Total words 290419\n"
          ],
          "name": "stdout"
        }
      ]
    },
    {
      "cell_type": "code",
      "metadata": {
        "colab": {
          "base_uri": "https://localhost:8080/"
        },
        "id": "johCXXiVxhz0",
        "outputId": "fbfdfe27-0ad6-4e45-b830-aa3fdc151116"
      },
      "source": [
        "%%time\n",
        "x_train = pad_sequences(tokenizer.texts_to_sequences(df_train.text), maxlen=SEQUENCE_LENGTH)\n",
        "x_test = pad_sequences(tokenizer.texts_to_sequences(df_test.text), maxlen=SEQUENCE_LENGTH)"
      ],
      "execution_count": null,
      "outputs": [
        {
          "output_type": "stream",
          "text": [
            "CPU times: user 33.7 s, sys: 844 ms, total: 34.6 s\n",
            "Wall time: 35.7 s\n"
          ],
          "name": "stdout"
        }
      ]
    },
    {
      "cell_type": "code",
      "metadata": {
        "colab": {
          "base_uri": "https://localhost:8080/"
        },
        "id": "xsOnsChpxhz1",
        "outputId": "751f6999-b336-4d35-9ef2-31b79f1e91f6"
      },
      "source": [
        "%%time\n",
        "x_train = pad_sequences(tokenizer.texts_to_sequences(df_train.text), maxlen=SEQUENCE_LENGTH)\n",
        "x_test = pad_sequences(tokenizer.texts_to_sequences(df_test.text), maxlen=SEQUENCE_LENGTH)"
      ],
      "execution_count": null,
      "outputs": [
        {
          "output_type": "stream",
          "text": [
            "CPU times: user 31.9 s, sys: 771 ms, total: 32.7 s\n",
            "Wall time: 32.8 s\n"
          ],
          "name": "stdout"
        }
      ]
    },
    {
      "cell_type": "code",
      "metadata": {
        "colab": {
          "base_uri": "https://localhost:8080/"
        },
        "id": "s_Vgo2Pbxhz1",
        "outputId": "f743de57-645c-485b-b3c7-c8b2e51a71be"
      },
      "source": [
        "labels = df_train.target.unique().tolist()\n",
        "labels.append(NEUTRAL)\n",
        "labels"
      ],
      "execution_count": null,
      "outputs": [
        {
          "output_type": "execute_result",
          "data": {
            "text/plain": [
              "['POSITIVE', 'NEGATIVE', 'NEUTRAL']"
            ]
          },
          "metadata": {
            "tags": []
          },
          "execution_count": 32
        }
      ]
    },
    {
      "cell_type": "code",
      "metadata": {
        "colab": {
          "base_uri": "https://localhost:8080/"
        },
        "id": "ukhXu55bxhz2",
        "outputId": "ef7e843e-fbe1-4fec-928f-9486a698c8bf"
      },
      "source": [
        "encoder = LabelEncoder()\n",
        "encoder.fit(df_train.target.tolist())\n",
        "\n",
        "y_train = encoder.transform(df_train.target.tolist())\n",
        "y_test = encoder.transform(df_test.target.tolist())\n",
        "\n",
        "y_train = y_train.reshape(-1,1)\n",
        "y_test = y_test.reshape(-1,1)\n",
        "print(\"y_train\",y_train.shape)\n",
        "print(\"y_test\",y_test.shape)"
      ],
      "execution_count": null,
      "outputs": [
        {
          "output_type": "stream",
          "text": [
            "y_train (1280000, 1)\n",
            "y_test (320000, 1)\n"
          ],
          "name": "stdout"
        }
      ]
    },
    {
      "cell_type": "code",
      "metadata": {
        "colab": {
          "base_uri": "https://localhost:8080/"
        },
        "id": "nzjNV30Txhz2",
        "outputId": "ad64c6ce-a871-4b86-bbd1-9d870729fc29"
      },
      "source": [
        "print(\"x_train\", x_train.shape)\n",
        "print(\"y_train\", y_train.shape)\n",
        "print()\n",
        "print(\"x_test\", x_test.shape)\n",
        "print(\"y_test\", y_test.shape)"
      ],
      "execution_count": null,
      "outputs": [
        {
          "output_type": "stream",
          "text": [
            "x_train (1280000, 300)\n",
            "y_train (1280000, 1)\n",
            "\n",
            "x_test (320000, 300)\n",
            "y_test (320000, 1)\n"
          ],
          "name": "stdout"
        }
      ]
    },
    {
      "cell_type": "code",
      "metadata": {
        "colab": {
          "base_uri": "https://localhost:8080/"
        },
        "id": "KgtYvJ3dxhz2",
        "outputId": "cefbac8a-301d-48e7-f59c-0950e80e8f64"
      },
      "source": [
        "embedding_matrix = np.zeros((vocab_size, W2V_SIZE))\n",
        "for word, i in tokenizer.word_index.items():\n",
        "  if word in w2v_model.wv:\n",
        "    embedding_matrix[i] = w2v_model.wv[word]\n",
        "print(embedding_matrix.shape)"
      ],
      "execution_count": null,
      "outputs": [
        {
          "output_type": "stream",
          "text": [
            "(290419, 300)\n"
          ],
          "name": "stdout"
        }
      ]
    },
    {
      "cell_type": "code",
      "metadata": {
        "id": "Vpbswae1xhz3"
      },
      "source": [
        "embedding_layer = Embedding(vocab_size, W2V_SIZE, weights=[embedding_matrix], input_length=SEQUENCE_LENGTH, trainable=False)"
      ],
      "execution_count": null,
      "outputs": []
    },
    {
      "cell_type": "code",
      "metadata": {
        "colab": {
          "base_uri": "https://localhost:8080/"
        },
        "id": "VhsOUhX3xhz3",
        "outputId": "1c2305eb-347d-4fe4-cec3-1857cc583c78"
      },
      "source": [
        "model = Sequential()\n",
        "model.add(embedding_layer)\n",
        "model.add(Dropout(0.5))\n",
        "model.add(LSTM(100, dropout=0.2, recurrent_dropout=0.2))\n",
        "model.add(Dense(1, activation='sigmoid'))\n",
        "\n",
        "model.summary()"
      ],
      "execution_count": null,
      "outputs": [
        {
          "output_type": "stream",
          "text": [
            "Model: \"sequential\"\n",
            "_________________________________________________________________\n",
            "Layer (type)                 Output Shape              Param #   \n",
            "=================================================================\n",
            "embedding (Embedding)        (None, 300, 300)          87125700  \n",
            "_________________________________________________________________\n",
            "dropout (Dropout)            (None, 300, 300)          0         \n",
            "_________________________________________________________________\n",
            "lstm (LSTM)                  (None, 100)               160400    \n",
            "_________________________________________________________________\n",
            "dense (Dense)                (None, 1)                 101       \n",
            "=================================================================\n",
            "Total params: 87,286,201\n",
            "Trainable params: 160,501\n",
            "Non-trainable params: 87,125,700\n",
            "_________________________________________________________________\n"
          ],
          "name": "stdout"
        }
      ]
    },
    {
      "cell_type": "code",
      "metadata": {
        "id": "-w1xHf-5xhz3"
      },
      "source": [
        "model.compile(loss='binary_crossentropy',\n",
        "              optimizer=\"adam\",\n",
        "              metrics=['accuracy'])"
      ],
      "execution_count": null,
      "outputs": []
    },
    {
      "cell_type": "code",
      "metadata": {
        "id": "JLLEJ1UVxhz4"
      },
      "source": [
        "callbacks = [ ReduceLROnPlateau(monitor='val_loss', patience=5, cooldown=0),\n",
        "              EarlyStopping(monitor='val_accuracy', min_delta=1e-4, patience=5)]"
      ],
      "execution_count": null,
      "outputs": []
    },
    {
      "cell_type": "code",
      "metadata": {
        "colab": {
          "base_uri": "https://localhost:8080/"
        },
        "id": "vfCbEKZOxhz4",
        "outputId": "81429a7f-b5ee-4a63-8d7f-839988bc9c20"
      },
      "source": [
        "%%time\n",
        "history = model.fit(x_train, y_train,\n",
        "                    batch_size=BATCH_SIZE,\n",
        "                    epochs=EPOCHS,\n",
        "                    validation_split=0.1,\n",
        "                    verbose=1,\n",
        "                    callbacks=callbacks)"
      ],
      "execution_count": null,
      "outputs": [
        {
          "output_type": "stream",
          "text": [
            "Epoch 1/8\n",
            " 763/1125 [===================>..........] - ETA: 1:08:51 - loss: 0.4776 - accuracy: 0.7680"
          ],
          "name": "stdout"
        }
      ]
    },
    {
      "cell_type": "code",
      "metadata": {
        "id": "58ljXME_xhz4"
      },
      "source": [
        "%%time\n",
        "score = model.evaluate(x_test, y_test, batch_size=BATCH_SIZE)\n",
        "print()\n",
        "print(\"ACCURACY:\",score[1])\n",
        "print(\"LOSS:\",score[0])"
      ],
      "execution_count": null,
      "outputs": []
    },
    {
      "cell_type": "code",
      "metadata": {
        "id": "Emo4FwtExhz5"
      },
      "source": [
        "acc = history.history['acc']\n",
        "val_acc = history.history['val_acc']\n",
        "loss = history.history['loss']\n",
        "val_loss = history.history['val_loss']\n",
        " \n",
        "epochs = range(len(acc))\n",
        " \n",
        "plt.plot(epochs, acc, 'b', label='Training acc')\n",
        "plt.plot(epochs, val_acc, 'r', label='Validation acc')\n",
        "plt.title('Training and validation accuracy')\n",
        "plt.legend()\n",
        " \n",
        "plt.figure()\n",
        " \n",
        "plt.plot(epochs, loss, 'b', label='Training loss')\n",
        "plt.plot(epochs, val_loss, 'r', label='Validation loss')\n",
        "plt.title('Training and validation loss')\n",
        "plt.legend()\n",
        " \n",
        "plt.show()"
      ],
      "execution_count": null,
      "outputs": []
    },
    {
      "cell_type": "code",
      "metadata": {
        "id": "CAZQ5HJ7xhz5"
      },
      "source": [
        "def decode_sentiment(score, include_neutral=True):\n",
        "    if include_neutral:        \n",
        "        label = NEUTRAL\n",
        "        if score <= SENTIMENT_THRESHOLDS[0]:\n",
        "            label = NEGATIVE\n",
        "        elif score >= SENTIMENT_THRESHOLDS[1]:\n",
        "            label = POSITIVE\n",
        "\n",
        "        return label\n",
        "    else:\n",
        "        return NEGATIVE if score < 0.5 else POSITIVE"
      ],
      "execution_count": null,
      "outputs": []
    },
    {
      "cell_type": "code",
      "metadata": {
        "id": "AY7-H50mxhz5"
      },
      "source": [
        "def predict(text, include_neutral=True):\n",
        "    start_at = time.time()\n",
        "    # Tokenize text\n",
        "    x_test = pad_sequences(tokenizer.texts_to_sequences([text]), maxlen=SEQUENCE_LENGTH)\n",
        "    # Predict\n",
        "    score = model.predict([x_test])[0]\n",
        "    # Decode sentiment\n",
        "    label = decode_sentiment(score, include_neutral=include_neutral)\n",
        "\n",
        "    return {\"label\": label, \"score\": float(score),\n",
        "       \"elapsed_time\": time.time()-start_at}  "
      ],
      "execution_count": null,
      "outputs": []
    },
    {
      "cell_type": "code",
      "metadata": {
        "id": "yY7Pp9CDxhz6"
      },
      "source": [
        "predict(\"I love the music\")"
      ],
      "execution_count": null,
      "outputs": []
    },
    {
      "cell_type": "code",
      "metadata": {
        "id": "nMzu_86Hxhz6"
      },
      "source": [
        "predict(\"I hate the rain\")"
      ],
      "execution_count": null,
      "outputs": []
    },
    {
      "cell_type": "code",
      "metadata": {
        "id": "8B4-UT8Cxhz6"
      },
      "source": [
        "predict(\"i don't know what i'm doing\")"
      ],
      "execution_count": null,
      "outputs": []
    },
    {
      "cell_type": "code",
      "metadata": {
        "id": "YJl8qdNwxhz7"
      },
      "source": [
        "%%time\n",
        "y_pred_1d = []\n",
        "y_test_1d = list(df_test.target)\n",
        "scores = model.predict(x_test, verbose=1, batch_size=8000)\n",
        "y_pred_1d = [decode_sentiment(score, include_neutral=False) for score in scores]"
      ],
      "execution_count": null,
      "outputs": []
    },
    {
      "cell_type": "code",
      "metadata": {
        "id": "Z-pCCxkXxhz7"
      },
      "source": [
        "def plot_confusion_matrix(cm, classes,\n",
        "                          title='Confusion matrix',\n",
        "                          cmap=plt.cm.Blues):\n",
        "    \"\"\"\n",
        "    This function prints and plots the confusion matrix.\n",
        "    Normalization can be applied by setting `normalize=True`.\n",
        "    \"\"\"\n",
        "\n",
        "    cm = cm.astype('float') / cm.sum(axis=1)[:, np.newaxis]\n",
        "\n",
        "    plt.imshow(cm, interpolation='nearest', cmap=cmap)\n",
        "    plt.title(title, fontsize=30)\n",
        "    plt.colorbar()\n",
        "    tick_marks = np.arange(len(classes))\n",
        "    plt.xticks(tick_marks, classes, rotation=90, fontsize=22)\n",
        "    plt.yticks(tick_marks, classes, fontsize=22)\n",
        "\n",
        "    fmt = '.2f'\n",
        "    thresh = cm.max() / 2.\n",
        "    for i, j in itertools.product(range(cm.shape[0]), range(cm.shape[1])):\n",
        "        plt.text(j, i, format(cm[i, j], fmt),\n",
        "                 horizontalalignment=\"center\",\n",
        "                 color=\"white\" if cm[i, j] > thresh else \"black\")\n",
        "\n",
        "    plt.ylabel('True label', fontsize=25)\n",
        "    plt.xlabel('Predicted label', fontsize=25)"
      ],
      "execution_count": null,
      "outputs": []
    },
    {
      "cell_type": "code",
      "metadata": {
        "id": "7LWh_jA_xhz8"
      },
      "source": [
        "%%time\n",
        "\n",
        "cnf_matrix = confusion_matrix(y_test_1d, y_pred_1d)\n",
        "plt.figure(figsize=(12,12))\n",
        "plot_confusion_matrix(cnf_matrix, classes=df_train.target.unique(), title=\"Confusion matrix\")\n",
        "plt.show()"
      ],
      "execution_count": null,
      "outputs": []
    },
    {
      "cell_type": "code",
      "metadata": {
        "id": "FIgFXeFNxhz9"
      },
      "source": [
        "print(classification_report(y_test_1d, y_pred_1d))"
      ],
      "execution_count": null,
      "outputs": []
    },
    {
      "cell_type": "code",
      "metadata": {
        "id": "k34fOG1Exhz9"
      },
      "source": [
        "accuracy_score(y_test_1d, y_pred_1d)"
      ],
      "execution_count": null,
      "outputs": []
    },
    {
      "cell_type": "code",
      "metadata": {
        "id": "YmV772eoxhz9"
      },
      "source": [
        "model.save(KERAS_MODEL)\n",
        "w2v_model.save(WORD2VEC_MODEL)\n",
        "pickle.dump(tokenizer, open(TOKENIZER_MODEL, \"wb\"), protocol=0)\n",
        "pickle.dump(encoder, open(ENCODER_MODEL, \"wb\"), protocol=0)"
      ],
      "execution_count": null,
      "outputs": []
    },
    {
      "cell_type": "code",
      "metadata": {
        "id": "1AHPKwr_tD03"
      },
      "source": [
        "from keras.models import load_model \r\n",
        "import time \r\n",
        "from keras.preprocessing.text import Tokenizer \r\n",
        "from keras.preprocessing.sequence import pad_sequences \r\n",
        "from gensim.models import Word2Vec \r\n",
        "import pickle \r\n",
        "w2v_model = Word2Vec.load('C:\\\\Users\\\\Peter Samoaa\\\\Downloads\\\\results\\\\model.w2v') \r\n",
        "model = load_model('C:\\\\Users\\\\Peter Samoaa\\\\Downloads\\\\results\\\\model.h5') \r\n",
        "with open('C:\\\\Users\\\\Peter Samoaa\\\\Downloads\\\\results\\\\tokenizer.pkl', 'rb') as handle: \r\n",
        "  tokenizer = pickle.load(handle) \r\n",
        "with open('C:\\\\Users\\\\Peter Samoaa\\\\Downloads\\\\results\\\\encoder.pkl', 'rb') as handle: \r\n",
        "  encoder = pickle.load(handle)\r\n",
        "\r\n",
        "  \r\n",
        "The above code is for loading the models that are the output of this kernel\r\n",
        "`# KERAS\r\n",
        "SEQUENCE_LENGTH = 300\r\n",
        "EPOCHS = 8\r\n",
        "BATCH_SIZE = 1024"
      ],
      "execution_count": null,
      "outputs": []
    },
    {
      "cell_type": "code",
      "metadata": {
        "id": "yCSnED3WtZDl"
      },
      "source": [
        "# SENTIMENT\r\n",
        "POSITIVE = \"POSITIVE\"\r\n",
        "NEGATIVE = \"NEGATIVE\"\r\n",
        "NEUTRAL = \"NEUTRAL\"\r\n",
        "SENTIMENT_THRESHOLDS = (0.4, 0.7) The above few lines of code are the Keras setting \r\n",
        "def decode_sentiment(score, include_neutral=True):\r\n",
        "  if include_neutral:\r\n",
        "    label = NEUTRAL\r\n",
        "  if score = SENTIMENT_THRESHOLDS[1]:\r\n",
        "    label = POSITIVE\r\n",
        "    return label\r\n",
        "  else:\r\n",
        "    return NEGATIVE if score < 0.5 else POSITIVE`"
      ],
      "execution_count": null,
      "outputs": []
    },
    {
      "cell_type": "code",
      "metadata": {
        "id": "mAQ8kxitt4qm"
      },
      "source": [
        "def predict(text, include_neutral=True): \r\n",
        "  start_at = time.time() \r\n",
        "  x_test = pad_sequences(tokenizer.texts_to_sequences([text]), maxlen=SEQUENCE_LENGTH)  \r\n",
        "  Predict score = model.predict([x_test])[0] # \r\n",
        "  Decode sentiment label = decode_sentiment(score, include_neutral=include_neutral) \r\n",
        "  return {\"label\": label, \"score\": float(score), \"elapsed_time\": time.time()-start_at}\r\n",
        "predict(\"I love the music\")"
      ],
      "execution_count": null,
      "outputs": []
    }
  ]
}